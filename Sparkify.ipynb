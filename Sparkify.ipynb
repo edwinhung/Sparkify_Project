{
 "cells": [
  {
   "cell_type": "markdown",
   "metadata": {},
   "source": [
    "# Sparkify Project\n",
    "This workspace contains a tiny subset (128MB) of the full dataset available (12GB). \n",
    "\n",
    "Sparkify is a music streaming service similar to Spotify, and the project objective is to understand user behaviors related to churn rate and build models to predict churn. We will use Spark, a big data analytics tool, to clean and wrangle data and build machine learning models. \n"
   ]
  },
  {
   "cell_type": "code",
   "execution_count": 1,
   "metadata": {},
   "outputs": [],
   "source": [
    "# import libraries\n",
    "from pyspark.sql import SparkSession\n",
    "from pyspark.sql.functions import avg, col, concat, desc, explode, lit, min, max, split, udf\n",
    "from pyspark.sql.types import IntegerType\n",
    "from pyspark.sql import Window\n",
    "from pyspark.sql.functions import desc\n",
    "from pyspark.sql.functions import sum as Fsum\n",
    "from pyspark.sql.functions import avg\n",
    "\n",
    "from pyspark.ml.classification import LogisticRegression, LinearSVC, RandomForestClassifier\n",
    "from pyspark.ml.evaluation import MulticlassClassificationEvaluator\n",
    "from pyspark.ml.feature import CountVectorizer, IDF, Normalizer, PCA, StandardScaler, StopWordsRemover, StringIndexer, VectorAssembler\n",
    "from pyspark.ml.tuning import CrossValidator, ParamGridBuilder\n",
    "import datetime\n",
    "import numpy as np\n",
    "%matplotlib inline\n",
    "import matplotlib.pyplot as plt"
   ]
  },
  {
   "cell_type": "code",
   "execution_count": 2,
   "metadata": {},
   "outputs": [],
   "source": [
    "# create a Spark session\n",
    "spark = SparkSession.builder \\\n",
    "    .master(\"local\") \\\n",
    "    .appName(\"Sparkify\") \\\n",
    "    .getOrCreate()"
   ]
  },
  {
   "cell_type": "markdown",
   "metadata": {},
   "source": [
    "## Load and Clean Dataset"
   ]
  },
  {
   "cell_type": "code",
   "execution_count": 3,
   "metadata": {},
   "outputs": [
    {
     "data": {
      "text/plain": [
       "DataFrame[artist: string, auth: string, firstName: string, gender: string, itemInSession: bigint, lastName: string, length: double, level: string, location: string, method: string, page: string, registration: bigint, sessionId: bigint, song: string, status: bigint, ts: bigint, userAgent: string, userId: string]"
      ]
     },
     "execution_count": 3,
     "metadata": {},
     "output_type": "execute_result"
    }
   ],
   "source": [
    "sparkify_data = 'mini_sparkify_event_data.json'\n",
    "df = spark.read.json(sparkify_data)\n",
    "df.persist()"
   ]
  },
  {
   "cell_type": "code",
   "execution_count": 4,
   "metadata": {},
   "outputs": [
    {
     "data": {
      "text/plain": [
       "Row(artist='Martha Tilston', auth='Logged In', firstName='Colin', gender='M', itemInSession=50, lastName='Freeman', length=277.89016, level='paid', location='Bakersfield, CA', method='PUT', page='NextSong', registration=1538173362000, sessionId=29, song='Rockpools', status=200, ts=1538352117000, userAgent='Mozilla/5.0 (Windows NT 6.1; WOW64; rv:31.0) Gecko/20100101 Firefox/31.0', userId='30')"
      ]
     },
     "execution_count": 4,
     "metadata": {},
     "output_type": "execute_result"
    }
   ],
   "source": [
    "df.head()"
   ]
  },
  {
   "cell_type": "code",
   "execution_count": 5,
   "metadata": {},
   "outputs": [
    {
     "data": {
      "text/plain": [
       "286500"
      ]
     },
     "execution_count": 5,
     "metadata": {},
     "output_type": "execute_result"
    }
   ],
   "source": [
    "df.count()"
   ]
  },
  {
   "cell_type": "code",
   "execution_count": 6,
   "metadata": {},
   "outputs": [
    {
     "name": "stdout",
     "output_type": "stream",
     "text": [
      "+-------+------------------+\n",
      "|summary|            artist|\n",
      "+-------+------------------+\n",
      "|  count|            228108|\n",
      "|   mean| 551.0852017937219|\n",
      "| stddev|1217.7693079161374|\n",
      "|    min|               !!!|\n",
      "|    max| ÃÂlafur Arnalds|\n",
      "+-------+------------------+\n",
      "\n"
     ]
    }
   ],
   "source": [
    "df.describe(\"artist\").show()"
   ]
  },
  {
   "cell_type": "markdown",
   "metadata": {},
   "source": [
    "There is invalid data in userId, and we need to figure out what it is and clean data."
   ]
  },
  {
   "cell_type": "code",
   "execution_count": 7,
   "metadata": {
    "scrolled": true
   },
   "outputs": [
    {
     "name": "stdout",
     "output_type": "stream",
     "text": [
      "+-------+-----------------+\n",
      "|summary|           userId|\n",
      "+-------+-----------------+\n",
      "|  count|           286500|\n",
      "|   mean|59682.02278593872|\n",
      "| stddev|109091.9499991047|\n",
      "|    min|                 |\n",
      "|    max|               99|\n",
      "+-------+-----------------+\n",
      "\n"
     ]
    }
   ],
   "source": [
    "df.describe(\"userId\").show()"
   ]
  },
  {
   "cell_type": "code",
   "execution_count": 8,
   "metadata": {},
   "outputs": [
    {
     "name": "stdout",
     "output_type": "stream",
     "text": [
      "+-------+-----------------+\n",
      "|summary|        sessionId|\n",
      "+-------+-----------------+\n",
      "|  count|           286500|\n",
      "|   mean|1041.526554973822|\n",
      "| stddev|726.7762634630741|\n",
      "|    min|                1|\n",
      "|    max|             2474|\n",
      "+-------+-----------------+\n",
      "\n"
     ]
    }
   ],
   "source": [
    "df.describe(\"sessionId\").show()"
   ]
  },
  {
   "cell_type": "code",
   "execution_count": 9,
   "metadata": {
    "scrolled": true
   },
   "outputs": [],
   "source": [
    "df = df.dropna(how=\"any\", subset=[\"userId\",\"sessionId\"])"
   ]
  },
  {
   "cell_type": "code",
   "execution_count": 10,
   "metadata": {},
   "outputs": [
    {
     "data": {
      "text/plain": [
       "286500"
      ]
     },
     "execution_count": 10,
     "metadata": {},
     "output_type": "execute_result"
    }
   ],
   "source": [
    "# invalid data is not missing value\n",
    "df.count()"
   ]
  },
  {
   "cell_type": "code",
   "execution_count": 11,
   "metadata": {},
   "outputs": [
    {
     "name": "stdout",
     "output_type": "stream",
     "text": [
      "+------+\n",
      "|userId|\n",
      "+------+\n",
      "|      |\n",
      "|    10|\n",
      "|   100|\n",
      "|100001|\n",
      "|100002|\n",
      "|100003|\n",
      "|100004|\n",
      "|100005|\n",
      "|100006|\n",
      "|100007|\n",
      "|100008|\n",
      "|100009|\n",
      "|100010|\n",
      "|100011|\n",
      "|100012|\n",
      "|100013|\n",
      "|100014|\n",
      "|100015|\n",
      "|100016|\n",
      "|100017|\n",
      "+------+\n",
      "only showing top 20 rows\n",
      "\n"
     ]
    }
   ],
   "source": [
    "# a further look shows that it's empty string\n",
    "df.select(\"userId\").dropDuplicates().sort(\"userId\").show()"
   ]
  },
  {
   "cell_type": "code",
   "execution_count": 12,
   "metadata": {},
   "outputs": [
    {
     "data": {
      "text/plain": [
       "8346"
      ]
     },
     "execution_count": 12,
     "metadata": {},
     "output_type": "execute_result"
    }
   ],
   "source": [
    "# a small portion of data has empty userId\n",
    "df.filter(df[\"userId\"] == \"\").count()"
   ]
  },
  {
   "cell_type": "markdown",
   "metadata": {},
   "source": [
    "Let's check behaviors of these users with empty userID before we do anything about it."
   ]
  },
  {
   "cell_type": "code",
   "execution_count": 13,
   "metadata": {},
   "outputs": [
    {
     "data": {
      "text/plain": [
       "[Row(page='Cancel'),\n",
       " Row(page='Submit Downgrade'),\n",
       " Row(page='Thumbs Down'),\n",
       " Row(page='Home'),\n",
       " Row(page='Downgrade'),\n",
       " Row(page='Roll Advert'),\n",
       " Row(page='Logout'),\n",
       " Row(page='Save Settings'),\n",
       " Row(page='Cancellation Confirmation'),\n",
       " Row(page='About'),\n",
       " Row(page='Submit Registration'),\n",
       " Row(page='Settings'),\n",
       " Row(page='Login'),\n",
       " Row(page='Register'),\n",
       " Row(page='Add to Playlist'),\n",
       " Row(page='Add Friend'),\n",
       " Row(page='NextSong'),\n",
       " Row(page='Thumbs Up'),\n",
       " Row(page='Help'),\n",
       " Row(page='Upgrade'),\n",
       " Row(page='Error'),\n",
       " Row(page='Submit Upgrade')]"
      ]
     },
     "execution_count": 13,
     "metadata": {},
     "output_type": "execute_result"
    }
   ],
   "source": [
    "# all pages\n",
    "df.select(\"page\").dropDuplicates().collect()"
   ]
  },
  {
   "cell_type": "code",
   "execution_count": 14,
   "metadata": {},
   "outputs": [
    {
     "data": {
      "text/plain": [
       "[Row(page='Home'),\n",
       " Row(page='About'),\n",
       " Row(page='Submit Registration'),\n",
       " Row(page='Login'),\n",
       " Row(page='Register'),\n",
       " Row(page='Help'),\n",
       " Row(page='Error')]"
      ]
     },
     "execution_count": 14,
     "metadata": {},
     "output_type": "execute_result"
    }
   ],
   "source": [
    "## blank userId visited pages\n",
    "df.filter(df.userId == \"\").select(\"page\").dropDuplicates().collect()"
   ]
  },
  {
   "cell_type": "markdown",
   "metadata": {},
   "source": [
    "Blank userId are guest who just look around Sparkiy platform, so we drop them from the dataset"
   ]
  },
  {
   "cell_type": "code",
   "execution_count": 15,
   "metadata": {},
   "outputs": [
    {
     "data": {
      "text/plain": [
       "278154"
      ]
     },
     "execution_count": 15,
     "metadata": {},
     "output_type": "execute_result"
    }
   ],
   "source": [
    "df = df.filter(df.userId != \"\")\n",
    "df.count()"
   ]
  },
  {
   "cell_type": "code",
   "execution_count": 16,
   "metadata": {},
   "outputs": [
    {
     "name": "stdout",
     "output_type": "stream",
     "text": [
      "+---------+\n",
      "|sessionId|\n",
      "+---------+\n",
      "|        1|\n",
      "|        2|\n",
      "|        3|\n",
      "|        4|\n",
      "|        5|\n",
      "|        6|\n",
      "|        7|\n",
      "|        8|\n",
      "|        9|\n",
      "|       10|\n",
      "|       11|\n",
      "|       12|\n",
      "|       13|\n",
      "|       15|\n",
      "|       16|\n",
      "|       17|\n",
      "|       18|\n",
      "|       19|\n",
      "|       20|\n",
      "|       21|\n",
      "+---------+\n",
      "only showing top 20 rows\n",
      "\n"
     ]
    }
   ],
   "source": [
    "# sessionId looks okay\n",
    "df.select(\"sessionId\").dropDuplicates().sort(\"sessionId\").show()"
   ]
  },
  {
   "cell_type": "markdown",
   "metadata": {},
   "source": [
    "## Exploratory Data Analysis\n",
    "\n",
    "### Define Churn\n",
    "\n",
    "We will define churn as the group of users (both paid and free) who cancel their accounts, and the cancellation event is \"Cancellation Confirmation\" page."
   ]
  },
  {
   "cell_type": "code",
   "execution_count": 17,
   "metadata": {},
   "outputs": [
    {
     "data": {
      "text/plain": [
       "Row(artist=None, auth='Cancelled', firstName='Adriel', gender='M', itemInSession=104, lastName='Mendoza', length=None, level='paid', location='Kansas City, MO-KS', method='GET', page='Cancellation Confirmation', registration=1535623466000, sessionId=514, song=None, status=200, ts=1538943990000, userAgent='\"Mozilla/5.0 (Macintosh; Intel Mac OS X 10_9_4) AppleWebKit/537.77.4 (KHTML, like Gecko) Version/7.0.5 Safari/537.77.4\"', userId='18')"
      ]
     },
     "execution_count": 17,
     "metadata": {},
     "output_type": "execute_result"
    }
   ],
   "source": [
    "df.filter(\"page = 'Cancellation Confirmation'\").head()"
   ]
  },
  {
   "cell_type": "code",
   "execution_count": 18,
   "metadata": {},
   "outputs": [
    {
     "data": {
      "text/plain": [
       "Row(artist='Martha Tilston', auth='Logged In', firstName='Colin', gender='M', itemInSession=50, lastName='Freeman', length=277.89016, level='paid', location='Bakersfield, CA', method='PUT', page='NextSong', registration=1538173362000, sessionId=29, song='Rockpools', status=200, ts=1538352117000, userAgent='Mozilla/5.0 (Windows NT 6.1; WOW64; rv:31.0) Gecko/20100101 Firefox/31.0', userId='30', cancel=0)"
      ]
     },
     "execution_count": 18,
     "metadata": {},
     "output_type": "execute_result"
    }
   ],
   "source": [
    "## we flag the cancellation event 1 in cancel column\n",
    "cancel_event = udf(lambda x: 1 if x == \"Cancellation Confirmation\" else 0, IntegerType())\n",
    "df = df.withColumn(\"cancel\", cancel_event(\"page\"))\n",
    "df.head()"
   ]
  },
  {
   "cell_type": "markdown",
   "metadata": {},
   "source": [
    "All events of churned users will have 1 in Churn column and 0 otherwise."
   ]
  },
  {
   "cell_type": "code",
   "execution_count": 19,
   "metadata": {},
   "outputs": [],
   "source": [
    "#  we flag churned users 1 on all event records before their cancellation and 0 otherwise by creating Churn column.\n",
    "windowval = Window.partitionBy(\"userId\").orderBy(desc(\"ts\")).rangeBetween(Window.unboundedPreceding, 0)\n",
    "df = df.withColumn(\"Churn\", Fsum(\"cancel\").over(windowval))"
   ]
  },
  {
   "cell_type": "code",
   "execution_count": 20,
   "metadata": {},
   "outputs": [
    {
     "data": {
      "text/plain": [
       "Row(userId='100014', firstname='Rodrigo', ts=1539177136000, page='NextSong', method='PUT', sessionId=37, song='Welcome To The World of The Plastic Beach (Feat. Snoop Dogg and Hypnotic Brass Ensemble)', level='paid', Churn=1)"
      ]
     },
     "execution_count": 20,
     "metadata": {},
     "output_type": "execute_result"
    }
   ],
   "source": [
    "df.select([\"userId\", \"firstname\", \"ts\", \"page\",\"method\",\"sessionId\",\"song\", \"level\", \"Churn\"]).where(df.userId == \"100014\").sort(\"ts\").head()"
   ]
  },
  {
   "cell_type": "markdown",
   "metadata": {},
   "source": [
    "### Explore Data\n",
    "Exploratory Data Analysis on the groups who stayed and churned"
   ]
  },
  {
   "cell_type": "code",
   "execution_count": 21,
   "metadata": {
    "scrolled": true
   },
   "outputs": [
    {
     "name": "stdout",
     "output_type": "stream",
     "text": [
      "+-----+------+\n",
      "|Churn| count|\n",
      "+-----+------+\n",
      "|    0|233290|\n",
      "|    1| 44864|\n",
      "+-----+------+\n",
      "\n"
     ]
    }
   ],
   "source": [
    "# About 16% churn rate\n",
    "df.groupby(\"Churn\").count().show()"
   ]
  },
  {
   "cell_type": "code",
   "execution_count": 22,
   "metadata": {},
   "outputs": [],
   "source": [
    "stayCount = df.groupby(\"Churn\").count().collect()[0][1]\n",
    "churnCount = df.groupby(\"Churn\").count().collect()[1][1]"
   ]
  },
  {
   "cell_type": "code",
   "execution_count": 23,
   "metadata": {},
   "outputs": [
    {
     "data": {
      "text/plain": [
       "Text(0,0.5,'Number of users')"
      ]
     },
     "execution_count": 23,
     "metadata": {},
     "output_type": "execute_result"
    },
    {
     "data": {
      "image/png": "[encoded data removed]",
      "text/plain": [
       "<matplotlib.figure.Figure at 0x7f2ad5ec4390>"
      ]
     },
     "metadata": {
      "needs_background": "light"
     },
     "output_type": "display_data"
    }
   ],
   "source": [
    "plt.figure(figsize = (5,5))\n",
    "plt.bar(0, [stayCount], width=0.1)\n",
    "plt.bar(.2, [churnCount], width=0.1)\n",
    "plt.xticks([0,.2],[\"Stay\",\"Churn\"])\n",
    "plt.ylabel(\"Number of users\")"
   ]
  },
  {
   "cell_type": "markdown",
   "metadata": {},
   "source": [
    "Let's see how the two groups behave differently like the number of songs listened."
   ]
  },
  {
   "cell_type": "code",
   "execution_count": 24,
   "metadata": {},
   "outputs": [],
   "source": [
    "song_event = udf(lambda x: 1 if x == \"NextSong\" else 0, IntegerType())\n",
    "df = df.withColumn(\"listen\", song_event(\"page\"))"
   ]
  },
  {
   "cell_type": "markdown",
   "metadata": {},
   "source": [
    "On average, users who stayed listened to 1108 songs and users who churned listened to 699 songs"
   ]
  },
  {
   "cell_type": "code",
   "execution_count": 25,
   "metadata": {},
   "outputs": [
    {
     "name": "stdout",
     "output_type": "stream",
     "text": [
      "Stay:  1108.1734104046243  Churn:  699.8846153846154\n"
     ]
    }
   ],
   "source": [
    "staySongs = df.filter(\"Churn == 0 and listen == 1\").groupby(\"userId\").count().agg({\"count\":\"avg\"}).collect()[0][0]\n",
    "churnSongs = df.filter(\"Churn == 1 and listen == 1\").groupby(\"userId\").count().agg({\"count\":\"avg\"}).collect()[0][0]\n",
    "print(\"Stay: \",staySongs, \" Churn: \", churnSongs)"
   ]
  },
  {
   "cell_type": "code",
   "execution_count": 26,
   "metadata": {},
   "outputs": [],
   "source": [
    "## look at similar metrics in thumbs down, help, error, roll advert pages\n",
    "thumbsdown_event = udf(lambda x: 1 if x == \"Thumbs Down\" else 0, IntegerType())\n",
    "df = df.withColumn(\"ThumbsDown\", thumbsdown_event(\"page\"))\n",
    "help_event = udf(lambda x: 1 if x == \"Help\" else 0, IntegerType())\n",
    "df = df.withColumn(\"Help\", help_event(\"page\"))\n",
    "error_event = udf(lambda x: 1 if x == \"Error\" else 0, IntegerType())\n",
    "df = df.withColumn(\"Error\", error_event(\"page\"))\n",
    "ad_event = udf(lambda x: 1 if x == \"Roll Advert\" else 0, IntegerType())\n",
    "df = df.withColumn(\"Ad\", ad_event(\"page\"))\n"
   ]
  },
  {
   "cell_type": "markdown",
   "metadata": {},
   "source": [
    "Avergae number of thumbs down"
   ]
  },
  {
   "cell_type": "code",
   "execution_count": 27,
   "metadata": {
    "scrolled": true
   },
   "outputs": [
    {
     "name": "stdout",
     "output_type": "stream",
     "text": [
      "Stay:  13.225806451612904  Churn:  10.333333333333334\n"
     ]
    }
   ],
   "source": [
    "stayDown = df.filter(\"Churn == 0 and ThumbsDown == 1\").groupby(\"userId\").count().agg({\"count\":\"avg\"}).collect()[0][0]\n",
    "churnDown = df.filter(\"Churn == 1 and ThumbsDown == 1\").groupby(\"userId\").count().agg({\"count\":\"avg\"}).collect()[0][0]\n",
    "print(\"Stay: \",stayDown, \" Churn: \", churnDown)"
   ]
  },
  {
   "cell_type": "markdown",
   "metadata": {},
   "source": [
    "Avergae number of getting help"
   ]
  },
  {
   "cell_type": "code",
   "execution_count": 28,
   "metadata": {},
   "outputs": [
    {
     "name": "stdout",
     "output_type": "stream",
     "text": [
      "Stay:  8.154362416107382  Churn:  5.558139534883721\n"
     ]
    }
   ],
   "source": [
    "stayHelp = df.filter(\"Churn == 0 and Help == 1\").groupby(\"userId\").count().agg({\"count\":\"avg\"}).collect()[0][0]\n",
    "churnHelp = df.filter(\"Churn == 1 and Help == 1\").groupby(\"userId\").count().agg({\"count\":\"avg\"}).collect()[0][0]\n",
    "print(\"Stay: \",stayHelp, \" Churn: \", churnHelp)"
   ]
  },
  {
   "cell_type": "markdown",
   "metadata": {},
   "source": [
    "Avergae number of getting error page"
   ]
  },
  {
   "cell_type": "code",
   "execution_count": 29,
   "metadata": {},
   "outputs": [
    {
     "name": "stdout",
     "output_type": "stream",
     "text": [
      "Stay:  2.3157894736842106  Churn:  1.4545454545454546\n"
     ]
    }
   ],
   "source": [
    "stayError = df.filter(\"Churn == 0 and Error == 1\").groupby(\"userId\").count().agg({\"count\":\"avg\"}).collect()[0][0]\n",
    "churnError = df.filter(\"Churn == 1 and Error == 1\").groupby(\"userId\").count().agg({\"count\":\"avg\"}).collect()[0][0]\n",
    "print(\"Stay: \",stayError, \" Churn: \", churnError)"
   ]
  },
  {
   "cell_type": "markdown",
   "metadata": {},
   "source": [
    "Average number of roll ad shown"
   ]
  },
  {
   "cell_type": "code",
   "execution_count": 30,
   "metadata": {},
   "outputs": [
    {
     "name": "stdout",
     "output_type": "stream",
     "text": [
      "Stay:  18.89171974522293  Churn:  19.34\n"
     ]
    }
   ],
   "source": [
    "stayAd = df.filter(\"Churn == 0 and Ad == 1\").groupby(\"userId\").count().agg({\"count\":\"avg\"}).collect()[0][0]\n",
    "churnAd = df.filter(\"Churn == 1 and Ad == 1\").groupby(\"userId\").count().agg({\"count\":\"avg\"}).collect()[0][0]\n",
    "print(\"Stay: \",stayAd, \" Churn: \", churnAd)"
   ]
  },
  {
   "cell_type": "code",
   "execution_count": 31,
   "metadata": {},
   "outputs": [
    {
     "data": {
      "text/plain": [
       "([<matplotlib.axis.XTick at 0x7f2ad5e0d860>,\n",
       "  <matplotlib.axis.XTick at 0x7f2ad5e19cc0>,\n",
       "  <matplotlib.axis.XTick at 0x7f2ad5ee4860>,\n",
       "  <matplotlib.axis.XTick at 0x7f2ad5dec4a8>],\n",
       " <a list of 4 Text xticklabel objects>)"
      ]
     },
     "execution_count": 31,
     "metadata": {},
     "output_type": "execute_result"
    },
    {
     "data": {
      "image/png": "[encoded data removed]",
      "text/plain": [
       "<matplotlib.figure.Figure at 0x7f2ad5ee4a58>"
      ]
     },
     "metadata": {
      "needs_background": "light"
     },
     "output_type": "display_data"
    }
   ],
   "source": [
    "X = np.arange(4)\n",
    "fig = plt.figure()\n",
    "ax = fig.add_axes([0,0,1,1])\n",
    "ax.bar(X + 0.00, [stayDown,stayHelp,stayError,stayAd], color = 'b', width = 0.25)\n",
    "ax.bar(X + 0.25, [churnDown,churnHelp,churnError,churnAd], color = 'orange', width = 0.25)\n",
    "ax.legend(labels=[\"Stay\", \"Churn\"])\n",
    "ax.set_title(\"Average number of pages seen by users\")\n",
    "plt.xticks(X+0.12,[\"Thumbs Down\",\"Help\",\"Error\",\"Roll Ad\"])"
   ]
  },
  {
   "cell_type": "markdown",
   "metadata": {},
   "source": [
    "# Feature Engineering\n",
    "We will extract features for machine learning models. For each user, we keep track of the number of songs listened, thumbs down, help, error, roll ad over time."
   ]
  },
  {
   "cell_type": "code",
   "execution_count": 32,
   "metadata": {},
   "outputs": [],
   "source": [
    "windowcum = Window.partitionBy(\"userId\").orderBy(\"ts\").rangeBetween(Window.unboundedPreceding, 0)\n",
    "df = df.withColumn(\"numSong\", Fsum(\"listen\").over(windowcum))\n",
    "df = df.withColumn(\"numThumbsDown\", Fsum(\"ThumbsDown\").over(windowcum))\n",
    "df = df.withColumn(\"numHelp\", Fsum(\"Help\").over(windowcum))\n",
    "df = df.withColumn(\"numError\", Fsum(\"Error\").over(windowcum))\n",
    "df = df.withColumn(\"numAd\", Fsum(\"Ad\").over(windowcum))"
   ]
  },
  {
   "cell_type": "code",
   "execution_count": 33,
   "metadata": {
    "scrolled": true
   },
   "outputs": [
    {
     "data": {
      "text/plain": [
       "Row(ts=1539177136000, page='NextSong', song='Welcome To The World of The Plastic Beach (Feat. Snoop Dogg and Hypnotic Brass Ensemble)', numSong=1, numThumbsDown=0, numHelp=0, numAd=0, Churn=1)"
      ]
     },
     "execution_count": 33,
     "metadata": {},
     "output_type": "execute_result"
    }
   ],
   "source": [
    "df.select([\"ts\", \"page\",\"song\", \"numSong\",\"numThumbsDown\",\"numHelp\",\"numAd\", \"Churn\"]).where(df.userId == \"100014\").sort(\"ts\").head()"
   ]
  },
  {
   "cell_type": "code",
   "execution_count": 34,
   "metadata": {},
   "outputs": [
    {
     "data": {
      "text/plain": [
       "Row(artist='Sleeping With Sirens', auth='Logged In', firstName='Darianna', gender='F', itemInSession=0, lastName='Carpenter', length=202.97098, level='free', location='Bridgeport-Stamford-Norwalk, CT', method='PUT', page='NextSong', registration=1538016340000, sessionId=31, song='Captain Tyin Knots VS Mr Walkway (No Way)', status=200, ts=1539003534000, userAgent='\"Mozilla/5.0 (iPhone; CPU iPhone OS 7_1_2 like Mac OS X) AppleWebKit/537.51.2 (KHTML, like Gecko) Version/7.0 Mobile/11D257 Safari/9537.53\"', userId='100010', cancel=0, Churn=0, listen=1, ThumbsDown=0, Help=0, Error=0, Ad=0, numSong=1, numThumbsDown=0, numHelp=0, numError=0, numAd=0, pageLabel=0.0)"
      ]
     },
     "execution_count": 34,
     "metadata": {},
     "output_type": "execute_result"
    }
   ],
   "source": [
    "# label encoding for page as additional feature\n",
    "indexer = StringIndexer(inputCol=\"page\", outputCol=\"pageLabel\")\n",
    "df = indexer.fit(df).transform(df)\n",
    "df.head()"
   ]
  },
  {
   "cell_type": "code",
   "execution_count": 35,
   "metadata": {},
   "outputs": [],
   "source": [
    "get_date = udf(lambda x: str(datetime.datetime.fromtimestamp(x / 1000.0).date()))\n",
    "df = df.withColumn(\"date\",get_date(df.ts))"
   ]
  },
  {
   "cell_type": "markdown",
   "metadata": {},
   "source": [
    "The number of songs listened per day could also be a good feature for user behaviors."
   ]
  },
  {
   "cell_type": "code",
   "execution_count": 36,
   "metadata": {},
   "outputs": [],
   "source": [
    "windowall = Window.partitionBy(\"userId\",\"date\").orderBy(\"ts\").rangeBetween(Window.unboundedPreceding, Window.unboundedFollowing)\n",
    "df = df.withColumn(\"numSongPerDay\", Fsum(\"listen\").over(windowall))"
   ]
  },
  {
   "cell_type": "code",
   "execution_count": 37,
   "metadata": {},
   "outputs": [],
   "source": [
    "# features in vector for building model\n",
    "assembler = VectorAssembler(inputCols=[\"pageLabel\",\"numSong\",\"numThumbsDown\",\"numHelp\",\"numError\",\"numAd\",\"numSongPerDay\"], outputCol=\"featuresVec\")\n",
    "df = assembler.transform(df)"
   ]
  },
  {
   "cell_type": "code",
   "execution_count": 38,
   "metadata": {},
   "outputs": [],
   "source": [
    "# number of songs has different scale\n",
    "scaler = Normalizer(inputCol=\"featuresVec\", outputCol=\"featuresNormalized\")\n",
    "df = scaler.transform(df)"
   ]
  },
  {
   "cell_type": "markdown",
   "metadata": {},
   "source": [
    "# Modeling\n",
    "We split dataset into 80% training, 10% test and 10% validation. Models will be built on training set and evaluated on test set. Then, we report final result on validation set."
   ]
  },
  {
   "cell_type": "code",
   "execution_count": 39,
   "metadata": {},
   "outputs": [
    {
     "data": {
      "text/plain": [
       "Row(userId='100', label=0, features=DenseVector([0.002, 0.9997, 0.0111, 0.004, 0.0, 0.001, 0.0191]))"
      ]
     },
     "execution_count": 39,
     "metadata": {},
     "output_type": "execute_result"
    }
   ],
   "source": [
    "data = df.select(col(\"userId\"),col(\"Churn\").alias(\"label\"), col(\"featuresNormalized\").alias(\"features\"))\n",
    "data.head()"
   ]
  },
  {
   "cell_type": "code",
   "execution_count": 40,
   "metadata": {},
   "outputs": [],
   "source": [
    "train, rest = data.randomSplit([0.8,0.2], seed = 42)\n",
    "test, validation = rest.randomSplit([0.5,0.5], seed=42)"
   ]
  },
  {
   "cell_type": "markdown",
   "metadata": {},
   "source": [
    "Logistic Regression, Random Forest, and Linear Support Vector Classification are the models used. We also fine tune hyperparameters on each of them."
   ]
  },
  {
   "cell_type": "code",
   "execution_count": 41,
   "metadata": {},
   "outputs": [],
   "source": [
    "logreg =  LogisticRegression(maxIter=10, regParam=0.0, elasticNetParam=0)\n",
    "logParamGrid = ParamGridBuilder() \\\n",
    "    .addGrid(logreg.elasticNetParam,[0.0, 0.3]) \\\n",
    "    .addGrid(logreg.maxIter,[5, 10]) \\\n",
    "    .build()\n",
    "\n",
    "\n",
    "logCV = CrossValidator(estimator=logreg,\n",
    "                          estimatorParamMaps=logParamGrid,\n",
    "                          evaluator=MulticlassClassificationEvaluator(labelCol='label',metricName='f1'),\n",
    "                          numFolds=3)\n",
    "logCvModel = logCV.fit(train)"
   ]
  },
  {
   "cell_type": "code",
   "execution_count": 42,
   "metadata": {},
   "outputs": [
    {
     "data": {
      "text/plain": [
       "[0.7659602896014914,\n",
       " 0.7666069587960445,\n",
       " 0.7659602896014914,\n",
       " 0.7666069587960445]"
      ]
     },
     "execution_count": 42,
     "metadata": {},
     "output_type": "execute_result"
    }
   ],
   "source": [
    "logCvModel.avgMetrics"
   ]
  },
  {
   "cell_type": "code",
   "execution_count": 43,
   "metadata": {},
   "outputs": [
    {
     "name": "stdout",
     "output_type": "stream",
     "text": [
      "0.8381627731183183\n"
     ]
    }
   ],
   "source": [
    "# Logistic Regression evaluated on test set\n",
    "preds = logCvModel.transform(test)\n",
    "print(preds.filter(preds.prediction == preds.label).count()/preds.count())"
   ]
  },
  {
   "cell_type": "code",
   "execution_count": 44,
   "metadata": {},
   "outputs": [],
   "source": [
    "rf = RandomForestClassifier(labelCol=\"label\", featuresCol=\"features\", numTrees=10, maxDepth = 3)\n",
    "rfParamGrid = ParamGridBuilder() \\\n",
    "    .addGrid(rf.numTrees,[10,30]) \\\n",
    "    .addGrid(rf.maxDepth,[3, 5]) \\\n",
    "    .build()  \n",
    "\n",
    "rfCV = CrossValidator(estimator=rf,\n",
    "                          estimatorParamMaps=rfParamGrid,\n",
    "                          evaluator=MulticlassClassificationEvaluator(labelCol='label',metricName='f1'),\n",
    "                          numFolds=3)\n",
    "rfCvModel = rfCV.fit(train)"
   ]
  },
  {
   "cell_type": "code",
   "execution_count": 45,
   "metadata": {},
   "outputs": [
    {
     "data": {
      "text/plain": [
       "[0.7650725706125843,\n",
       " 0.7830897780983849,\n",
       " 0.7650725706125843,\n",
       " 0.7770566793192519]"
      ]
     },
     "execution_count": 45,
     "metadata": {},
     "output_type": "execute_result"
    }
   ],
   "source": [
    "rfCvModel.avgMetrics"
   ]
  },
  {
   "cell_type": "code",
   "execution_count": 46,
   "metadata": {},
   "outputs": [
    {
     "name": "stdout",
     "output_type": "stream",
     "text": [
      "0.8465138043986897\n"
     ]
    }
   ],
   "source": [
    "# Random Forest evaluated on test set\n",
    "preds = rfCvModel.transform(test)\n",
    "print(preds.filter(preds.prediction == preds.label).count()/preds.count())"
   ]
  },
  {
   "cell_type": "code",
   "execution_count": 47,
   "metadata": {},
   "outputs": [],
   "source": [
    "lsvc = LinearSVC(maxIter=10, regParam=0.1)\n",
    "lsvcParamGrid = ParamGridBuilder() \\\n",
    "    .addGrid(lsvc.maxIter,[5,10]) \\\n",
    "    .addGrid(lsvc.regParam,[0.1, 0.8]) \\\n",
    "    .build()  \n",
    "\n",
    "lsvcCV = CrossValidator(estimator=lsvc,\n",
    "                          estimatorParamMaps=lsvcParamGrid,\n",
    "                          evaluator=MulticlassClassificationEvaluator(labelCol='label',metricName='f1'),\n",
    "                          numFolds=3)\n",
    "lsvcCvModel = lsvcCV.fit(train)"
   ]
  },
  {
   "cell_type": "code",
   "execution_count": 48,
   "metadata": {},
   "outputs": [
    {
     "data": {
      "text/plain": [
       "[0.7650725706125843,\n",
       " 0.7650725706125843,\n",
       " 0.7650725706125843,\n",
       " 0.7650725706125843]"
      ]
     },
     "execution_count": 48,
     "metadata": {},
     "output_type": "execute_result"
    }
   ],
   "source": [
    "lsvcCvModel.avgMetrics"
   ]
  },
  {
   "cell_type": "code",
   "execution_count": 49,
   "metadata": {},
   "outputs": [
    {
     "name": "stdout",
     "output_type": "stream",
     "text": [
      "0.838630718836615\n"
     ]
    }
   ],
   "source": [
    "# Linear Support Vector evaluated on test set\n",
    "preds = lsvcCvModel.transform(test)\n",
    "print(preds.filter(preds.prediction == preds.label).count()/preds.count())"
   ]
  },
  {
   "cell_type": "markdown",
   "metadata": {},
   "source": [
    "## Results\n",
    "Random Forest performs best on the test set"
   ]
  },
  {
   "cell_type": "code",
   "execution_count": 50,
   "metadata": {},
   "outputs": [
    {
     "name": "stdout",
     "output_type": "stream",
     "text": [
      "0.8471710926051682\n"
     ]
    }
   ],
   "source": [
    "# final result on validation set\n",
    "results = rfCvModel.transform(validation)\n",
    "print(results.filter(results.prediction == results.label).count()/results.count())"
   ]
  },
  {
   "cell_type": "markdown",
   "metadata": {},
   "source": [
    "Performance on validation set is slightly higher than that on test set. "
   ]
  },
  {
   "cell_type": "code",
   "execution_count": null,
   "metadata": {},
   "outputs": [],
   "source": []
  }
 ],
 "metadata": {
  "kernelspec": {
   "display_name": "Python 3",
   "language": "python",
   "name": "python3"
  },
  "language_info": {
   "codemirror_mode": {
    "name": "ipython",
    "version": 3
   },
   "file_extension": ".py",
   "mimetype": "text/x-python",
   "name": "python",
   "nbconvert_exporter": "python",
   "pygments_lexer": "ipython3",
   "version": "3.6.3"
  }
 },
 "nbformat": 4,
 "nbformat_minor": 2
}
