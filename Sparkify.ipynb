{
 "cells": [
  {
   "cell_type": "markdown",
   "metadata": {},
   "source": [
    "# Sparkify Project\n",
    "This workspace contains a tiny subset (128MB) of the full dataset available (12GB). \n",
    "\n",
    "Sparkify is a music streaming service similar to Spotify, and the project objective is to understand user behaviors related to churn rate and build models to predict churn. We will use Spark, a big data analytics tool, to clean and wrangle data and build machine learning models. \n"
   ]
  },
  {
   "cell_type": "code",
   "execution_count": 60,
   "metadata": {},
   "outputs": [],
   "source": [
    "# import libraries\n",
    "from pyspark.sql import SparkSession\n",
    "from pyspark.sql.functions import avg, col, concat, desc, explode, lit, min, max, split, udf, isnan, when, count, round\n",
    "from pyspark.sql.types import IntegerType\n",
    "from pyspark.sql import Window\n",
    "from pyspark.sql.functions import desc\n",
    "from pyspark.sql.functions import sum as Fsum\n",
    "from pyspark.sql.functions import avg\n",
    "\n",
    "from pyspark.ml.classification import LogisticRegression, LinearSVC, RandomForestClassifier\n",
    "from pyspark.ml.evaluation import MulticlassClassificationEvaluator\n",
    "from pyspark.ml.feature import CountVectorizer, IDF, Normalizer, PCA, StandardScaler, StopWordsRemover, StringIndexer, VectorAssembler\n",
    "from pyspark.ml.tuning import CrossValidator, ParamGridBuilder\n",
    "import datetime\n",
    "import numpy as np\n",
    "%matplotlib inline\n",
    "import matplotlib.pyplot as plt"
   ]
  },
  {
   "cell_type": "code",
   "execution_count": 61,
   "metadata": {},
   "outputs": [],
   "source": [
    "# create a Spark session\n",
    "spark = SparkSession.builder \\\n",
    "    .master(\"local\") \\\n",
    "    .appName(\"Sparkify\") \\\n",
    "    .getOrCreate()"
   ]
  },
  {
   "cell_type": "markdown",
   "metadata": {},
   "source": [
    "## Load and Clean Dataset"
   ]
  },
  {
   "cell_type": "code",
   "execution_count": 62,
   "metadata": {},
   "outputs": [
    {
     "data": {
      "text/plain": [
       "DataFrame[artist: string, auth: string, firstName: string, gender: string, itemInSession: bigint, lastName: string, length: double, level: string, location: string, method: string, page: string, registration: bigint, sessionId: bigint, song: string, status: bigint, ts: bigint, userAgent: string, userId: string]"
      ]
     },
     "execution_count": 62,
     "metadata": {},
     "output_type": "execute_result"
    }
   ],
   "source": [
    "sparkify_data = 'mini_sparkify_event_data.json'\n",
    "df = spark.read.json(sparkify_data)\n",
    "df.persist()"
   ]
  },
  {
   "cell_type": "code",
   "execution_count": 63,
   "metadata": {},
   "outputs": [
    {
     "name": "stdout",
     "output_type": "stream",
     "text": [
      "root\n",
      " |-- artist: string (nullable = true)\n",
      " |-- auth: string (nullable = true)\n",
      " |-- firstName: string (nullable = true)\n",
      " |-- gender: string (nullable = true)\n",
      " |-- itemInSession: long (nullable = true)\n",
      " |-- lastName: string (nullable = true)\n",
      " |-- length: double (nullable = true)\n",
      " |-- level: string (nullable = true)\n",
      " |-- location: string (nullable = true)\n",
      " |-- method: string (nullable = true)\n",
      " |-- page: string (nullable = true)\n",
      " |-- registration: long (nullable = true)\n",
      " |-- sessionId: long (nullable = true)\n",
      " |-- song: string (nullable = true)\n",
      " |-- status: long (nullable = true)\n",
      " |-- ts: long (nullable = true)\n",
      " |-- userAgent: string (nullable = true)\n",
      " |-- userId: string (nullable = true)\n",
      "\n"
     ]
    }
   ],
   "source": [
    "df.printSchema()"
   ]
  },
  {
   "cell_type": "code",
   "execution_count": 64,
   "metadata": {},
   "outputs": [
    {
     "data": {
      "text/plain": [
       "Row(artist='Martha Tilston', auth='Logged In', firstName='Colin', gender='M', itemInSession=50, lastName='Freeman', length=277.89016, level='paid', location='Bakersfield, CA', method='PUT', page='NextSong', registration=1538173362000, sessionId=29, song='Rockpools', status=200, ts=1538352117000, userAgent='Mozilla/5.0 (Windows NT 6.1; WOW64; rv:31.0) Gecko/20100101 Firefox/31.0', userId='30')"
      ]
     },
     "execution_count": 64,
     "metadata": {},
     "output_type": "execute_result"
    }
   ],
   "source": [
    "df.head()"
   ]
  },
  {
   "cell_type": "code",
   "execution_count": 65,
   "metadata": {},
   "outputs": [
    {
     "data": {
      "text/plain": [
       "286500"
      ]
     },
     "execution_count": 65,
     "metadata": {},
     "output_type": "execute_result"
    }
   ],
   "source": [
    "# row count\n",
    "df.count()"
   ]
  },
  {
   "cell_type": "code",
   "execution_count": 66,
   "metadata": {},
   "outputs": [
    {
     "name": "stdout",
     "output_type": "stream",
     "text": [
      "+--------------------+------+\n",
      "|                page| count|\n",
      "+--------------------+------+\n",
      "|            NextSong|228108|\n",
      "|                Home| 14457|\n",
      "|           Thumbs Up| 12551|\n",
      "|     Add to Playlist|  6526|\n",
      "|          Add Friend|  4277|\n",
      "|         Roll Advert|  3933|\n",
      "|               Login|  3241|\n",
      "|              Logout|  3226|\n",
      "|         Thumbs Down|  2546|\n",
      "|           Downgrade|  2055|\n",
      "|                Help|  1726|\n",
      "|            Settings|  1514|\n",
      "|               About|   924|\n",
      "|             Upgrade|   499|\n",
      "|       Save Settings|   310|\n",
      "|               Error|   258|\n",
      "|      Submit Upgrade|   159|\n",
      "|    Submit Downgrade|    63|\n",
      "|              Cancel|    52|\n",
      "|Cancellation Conf...|    52|\n",
      "+--------------------+------+\n",
      "only showing top 20 rows\n",
      "\n"
     ]
    }
   ],
   "source": [
    "df.groupby(\"page\").count().sort(\"count\",ascending=False).show()"
   ]
  },
  {
   "cell_type": "code",
   "execution_count": 67,
   "metadata": {},
   "outputs": [
    {
     "data": {
      "text/plain": [
       "228108"
      ]
     },
     "execution_count": 67,
     "metadata": {},
     "output_type": "execute_result"
    }
   ],
   "source": [
    "# number of songs in dataset\n",
    "df.filter(df.page == \"NextSong\").count()"
   ]
  },
  {
   "cell_type": "code",
   "execution_count": 68,
   "metadata": {},
   "outputs": [
    {
     "name": "stdout",
     "output_type": "stream",
     "text": [
      "+-------+------------------+-----------------+-----------------+\n",
      "|summary|            artist|        sessionId|           userId|\n",
      "+-------+------------------+-----------------+-----------------+\n",
      "|  count|            228108|           286500|           286500|\n",
      "|   mean| 551.0852017937219|1041.526554973822|59682.02278593872|\n",
      "| stddev|1217.7693079161374|726.7762634630741|109091.9499991047|\n",
      "|    min|               !!!|                1|                 |\n",
      "|    max| ÃÂlafur Arnalds|             2474|               99|\n",
      "+-------+------------------+-----------------+-----------------+\n",
      "\n"
     ]
    }
   ],
   "source": [
    "df.describe(\"artist\",\"sessionId\",\"userId\").show()"
   ]
  },
  {
   "cell_type": "markdown",
   "metadata": {},
   "source": [
    "There is invalid data in userId, and we need to figure out what it is and clean data."
   ]
  },
  {
   "cell_type": "code",
   "execution_count": 69,
   "metadata": {},
   "outputs": [
    {
     "name": "stdout",
     "output_type": "stream",
     "text": [
      "+------+----+---------+------+-------------+--------+------+-----+\n",
      "|artist|auth|firstName|gender|itemInSession|lastName|length|level|\n",
      "+------+----+---------+------+-------------+--------+------+-----+\n",
      "|0.2038| 0.0|   0.0291|0.0291|          0.0|  0.0291|0.2038|  0.0|\n",
      "+------+----+---------+------+-------------+--------+------+-----+\n",
      "\n"
     ]
    }
   ],
   "source": [
    "df.select([(round(count(when(isnan(c) | col(c).isNull(), c))/count(lit(1)),4)).alias(c) for c in df.columns[:8]]).show()"
   ]
  },
  {
   "cell_type": "code",
   "execution_count": 70,
   "metadata": {},
   "outputs": [
    {
     "name": "stdout",
     "output_type": "stream",
     "text": [
      "+--------+------+----+------------+---------+------+------+---+---------+------+\n",
      "|location|method|page|registration|sessionId|  song|status| ts|userAgent|userId|\n",
      "+--------+------+----+------------+---------+------+------+---+---------+------+\n",
      "|  0.0291|   0.0| 0.0|      0.0291|      0.0|0.2038|   0.0|0.0|   0.0291|   0.0|\n",
      "+--------+------+----+------------+---------+------+------+---+---------+------+\n",
      "\n"
     ]
    }
   ],
   "source": [
    "df.select([(round(count(when(isnan(c) | col(c).isNull(), c))/count(lit(1)),4)).alias(c) for c in df.columns[8:]]).show()"
   ]
  },
  {
   "cell_type": "code",
   "execution_count": 71,
   "metadata": {},
   "outputs": [
    {
     "data": {
      "text/plain": [
       "286500"
      ]
     },
     "execution_count": 71,
     "metadata": {},
     "output_type": "execute_result"
    }
   ],
   "source": [
    "# invalid data is not missing value\n",
    "df.count()"
   ]
  },
  {
   "cell_type": "code",
   "execution_count": 72,
   "metadata": {},
   "outputs": [
    {
     "name": "stdout",
     "output_type": "stream",
     "text": [
      "+------+\n",
      "|userId|\n",
      "+------+\n",
      "|      |\n",
      "|    10|\n",
      "|   100|\n",
      "|100001|\n",
      "|100002|\n",
      "|100003|\n",
      "|100004|\n",
      "|100005|\n",
      "|100006|\n",
      "|100007|\n",
      "|100008|\n",
      "|100009|\n",
      "|100010|\n",
      "|100011|\n",
      "|100012|\n",
      "|100013|\n",
      "|100014|\n",
      "|100015|\n",
      "|100016|\n",
      "|100017|\n",
      "+------+\n",
      "only showing top 20 rows\n",
      "\n"
     ]
    }
   ],
   "source": [
    "# a further look shows that it's empty string\n",
    "df.select(\"userId\").dropDuplicates().sort(\"userId\").show()"
   ]
  },
  {
   "cell_type": "code",
   "execution_count": 73,
   "metadata": {},
   "outputs": [
    {
     "data": {
      "text/plain": [
       "8346"
      ]
     },
     "execution_count": 73,
     "metadata": {},
     "output_type": "execute_result"
    }
   ],
   "source": [
    "# a small portion of data has empty userId\n",
    "df.filter(df[\"userId\"] == \"\").count()"
   ]
  },
  {
   "cell_type": "markdown",
   "metadata": {},
   "source": [
    "Let's check behaviors of these users with empty userID before we do anything about it."
   ]
  },
  {
   "cell_type": "code",
   "execution_count": 74,
   "metadata": {},
   "outputs": [
    {
     "data": {
      "text/plain": [
       "[Row(page='Cancel'),\n",
       " Row(page='Submit Downgrade'),\n",
       " Row(page='Thumbs Down'),\n",
       " Row(page='Home'),\n",
       " Row(page='Downgrade'),\n",
       " Row(page='Roll Advert'),\n",
       " Row(page='Logout'),\n",
       " Row(page='Save Settings'),\n",
       " Row(page='Cancellation Confirmation'),\n",
       " Row(page='About'),\n",
       " Row(page='Submit Registration'),\n",
       " Row(page='Settings'),\n",
       " Row(page='Login'),\n",
       " Row(page='Register'),\n",
       " Row(page='Add to Playlist'),\n",
       " Row(page='Add Friend'),\n",
       " Row(page='NextSong'),\n",
       " Row(page='Thumbs Up'),\n",
       " Row(page='Help'),\n",
       " Row(page='Upgrade'),\n",
       " Row(page='Error'),\n",
       " Row(page='Submit Upgrade')]"
      ]
     },
     "execution_count": 74,
     "metadata": {},
     "output_type": "execute_result"
    }
   ],
   "source": [
    "# all pages\n",
    "df.select(\"page\").dropDuplicates().collect()"
   ]
  },
  {
   "cell_type": "code",
   "execution_count": 75,
   "metadata": {},
   "outputs": [
    {
     "data": {
      "text/plain": [
       "[Row(page='Home'),\n",
       " Row(page='About'),\n",
       " Row(page='Submit Registration'),\n",
       " Row(page='Login'),\n",
       " Row(page='Register'),\n",
       " Row(page='Help'),\n",
       " Row(page='Error')]"
      ]
     },
     "execution_count": 75,
     "metadata": {},
     "output_type": "execute_result"
    }
   ],
   "source": [
    "## blank userId visited pages\n",
    "df.filter(df.userId == \"\").select(\"page\").dropDuplicates().collect()"
   ]
  },
  {
   "cell_type": "markdown",
   "metadata": {},
   "source": [
    "Blank userId are guest who just look around Sparkiy platform, so we drop them from the dataset"
   ]
  },
  {
   "cell_type": "code",
   "execution_count": 76,
   "metadata": {},
   "outputs": [
    {
     "data": {
      "text/plain": [
       "278154"
      ]
     },
     "execution_count": 76,
     "metadata": {},
     "output_type": "execute_result"
    }
   ],
   "source": [
    "df = df.filter(df.userId != \"\")\n",
    "df.count()"
   ]
  },
  {
   "cell_type": "code",
   "execution_count": 77,
   "metadata": {},
   "outputs": [
    {
     "name": "stdout",
     "output_type": "stream",
     "text": [
      "+---------+\n",
      "|sessionId|\n",
      "+---------+\n",
      "|        1|\n",
      "|        2|\n",
      "|        3|\n",
      "|        4|\n",
      "|        5|\n",
      "|        6|\n",
      "|        7|\n",
      "|        8|\n",
      "|        9|\n",
      "|       10|\n",
      "|       11|\n",
      "|       12|\n",
      "|       13|\n",
      "|       15|\n",
      "|       16|\n",
      "|       17|\n",
      "|       18|\n",
      "|       19|\n",
      "|       20|\n",
      "|       21|\n",
      "+---------+\n",
      "only showing top 20 rows\n",
      "\n"
     ]
    }
   ],
   "source": [
    "# sessionId looks okay\n",
    "df.select(\"sessionId\").dropDuplicates().sort(\"sessionId\").show()"
   ]
  },
  {
   "cell_type": "markdown",
   "metadata": {},
   "source": [
    "## Exploratory Data Analysis\n",
    "\n",
    "### Define Churn\n",
    "\n",
    "We will define churn as the group of users (both paid and free) who cancel their accounts, and the cancellation event is \"Cancellation Confirmation\" page."
   ]
  },
  {
   "cell_type": "code",
   "execution_count": 78,
   "metadata": {},
   "outputs": [
    {
     "data": {
      "text/plain": [
       "Row(artist=None, auth='Cancelled', firstName='Adriel', gender='M', itemInSession=104, lastName='Mendoza', length=None, level='paid', location='Kansas City, MO-KS', method='GET', page='Cancellation Confirmation', registration=1535623466000, sessionId=514, song=None, status=200, ts=1538943990000, userAgent='\"Mozilla/5.0 (Macintosh; Intel Mac OS X 10_9_4) AppleWebKit/537.77.4 (KHTML, like Gecko) Version/7.0.5 Safari/537.77.4\"', userId='18')"
      ]
     },
     "execution_count": 78,
     "metadata": {},
     "output_type": "execute_result"
    }
   ],
   "source": [
    "df.filter(\"page = 'Cancellation Confirmation'\").head()"
   ]
  },
  {
   "cell_type": "code",
   "execution_count": 79,
   "metadata": {},
   "outputs": [
    {
     "data": {
      "text/plain": [
       "Row(artist='Martha Tilston', auth='Logged In', firstName='Colin', gender='M', itemInSession=50, lastName='Freeman', length=277.89016, level='paid', location='Bakersfield, CA', method='PUT', page='NextSong', registration=1538173362000, sessionId=29, song='Rockpools', status=200, ts=1538352117000, userAgent='Mozilla/5.0 (Windows NT 6.1; WOW64; rv:31.0) Gecko/20100101 Firefox/31.0', userId='30', cancel=0)"
      ]
     },
     "execution_count": 79,
     "metadata": {},
     "output_type": "execute_result"
    }
   ],
   "source": [
    "## we flag the cancellation event 1 in cancel column\n",
    "cancel_event = udf(lambda x: 1 if x == \"Cancellation Confirmation\" else 0, IntegerType())\n",
    "df = df.withColumn(\"cancel\", cancel_event(\"page\"))\n",
    "df.head()"
   ]
  },
  {
   "cell_type": "markdown",
   "metadata": {},
   "source": [
    "All events of churned users will have 1 in Churn column and 0 otherwise."
   ]
  },
  {
   "cell_type": "code",
   "execution_count": 80,
   "metadata": {},
   "outputs": [],
   "source": [
    "#  we flag churned users 1 on all event records before their cancellation and 0 otherwise by creating Churn column.\n",
    "windowval = Window.partitionBy(\"userId\").orderBy(desc(\"ts\")).rangeBetween(Window.unboundedPreceding, 0)\n",
    "df = df.withColumn(\"Churn\", Fsum(\"cancel\").over(windowval))"
   ]
  },
  {
   "cell_type": "code",
   "execution_count": 81,
   "metadata": {},
   "outputs": [
    {
     "data": {
      "text/plain": [
       "Row(userId='100014', firstname='Rodrigo', ts=1539177136000, page='NextSong', method='PUT', sessionId=37, song='Welcome To The World of The Plastic Beach (Feat. Snoop Dogg and Hypnotic Brass Ensemble)', level='paid', Churn=1)"
      ]
     },
     "execution_count": 81,
     "metadata": {},
     "output_type": "execute_result"
    }
   ],
   "source": [
    "df.select([\"userId\", \"firstname\", \"ts\", \"page\",\"method\",\"sessionId\",\"song\", \"level\", \"Churn\"]).where(df.userId == \"100014\").sort(\"ts\").head()"
   ]
  },
  {
   "cell_type": "markdown",
   "metadata": {},
   "source": [
    "### Explore Data\n",
    "Exploratory Data Analysis on the groups who stayed and churned"
   ]
  },
  {
   "cell_type": "code",
   "execution_count": 82,
   "metadata": {
    "scrolled": true
   },
   "outputs": [
    {
     "name": "stdout",
     "output_type": "stream",
     "text": [
      "+-----+------+\n",
      "|Churn| count|\n",
      "+-----+------+\n",
      "|    0|233290|\n",
      "|    1| 44864|\n",
      "+-----+------+\n",
      "\n"
     ]
    }
   ],
   "source": [
    "# About 16% churn rate\n",
    "df.groupby(\"Churn\").count().show()"
   ]
  },
  {
   "cell_type": "code",
   "execution_count": 83,
   "metadata": {},
   "outputs": [],
   "source": [
    "stayCount = df.groupby(\"Churn\").count().collect()[0][1]\n",
    "churnCount = df.groupby(\"Churn\").count().collect()[1][1]"
   ]
  },
  {
   "cell_type": "code",
   "execution_count": 84,
   "metadata": {},
   "outputs": [
    {
     "data": {
      "text/plain": [
       "Text(0,0.5,'Number of users')"
      ]
     },
     "execution_count": 84,
     "metadata": {},
     "output_type": "execute_result"
    },
    {
     "data": {
      "image/png": "[encoded data removed]",
      "text/plain": [
       "<matplotlib.figure.Figure at 0x7f0860483400>"
      ]
     },
     "metadata": {
      "needs_background": "light"
     },
     "output_type": "display_data"
    }
   ],
   "source": [
    "plt.figure(figsize = (5,5))\n",
    "plt.bar(0, [stayCount], width=0.1)\n",
    "plt.bar(.2, [churnCount], width=0.1)\n",
    "plt.xticks([0,.2],[\"Stay\",\"Churn\"])\n",
    "plt.ylabel(\"Number of users\")"
   ]
  },
  {
   "cell_type": "markdown",
   "metadata": {},
   "source": [
    "Let's see how the two groups behave differently like the number of songs listened."
   ]
  },
  {
   "cell_type": "code",
   "execution_count": 85,
   "metadata": {},
   "outputs": [],
   "source": [
    "song_event = udf(lambda x: 1 if x == \"NextSong\" else 0, IntegerType())\n",
    "df = df.withColumn(\"listen\", song_event(\"page\"))"
   ]
  },
  {
   "cell_type": "markdown",
   "metadata": {},
   "source": [
    "On average, users who stayed listened to 1108 songs and users who churned listened to 699 songs"
   ]
  },
  {
   "cell_type": "code",
   "execution_count": 86,
   "metadata": {},
   "outputs": [
    {
     "name": "stdout",
     "output_type": "stream",
     "text": [
      "Stay:  1108.1734104046243  Churn:  699.8846153846154\n"
     ]
    }
   ],
   "source": [
    "staySongs = df.filter(\"Churn == 0 and listen == 1\").groupby(\"userId\").count().agg({\"count\":\"avg\"}).collect()[0][0]\n",
    "churnSongs = df.filter(\"Churn == 1 and listen == 1\").groupby(\"userId\").count().agg({\"count\":\"avg\"}).collect()[0][0]\n",
    "print(\"Stay: \",staySongs, \" Churn: \", churnSongs)"
   ]
  },
  {
   "cell_type": "code",
   "execution_count": 87,
   "metadata": {},
   "outputs": [],
   "source": [
    "## look at similar metrics in thumbs down, help, error, roll advert pages\n",
    "thumbsdown_event = udf(lambda x: 1 if x == \"Thumbs Down\" else 0, IntegerType())\n",
    "df = df.withColumn(\"ThumbsDown\", thumbsdown_event(\"page\"))\n",
    "help_event = udf(lambda x: 1 if x == \"Help\" else 0, IntegerType())\n",
    "df = df.withColumn(\"Help\", help_event(\"page\"))\n",
    "error_event = udf(lambda x: 1 if x == \"Error\" else 0, IntegerType())\n",
    "df = df.withColumn(\"Error\", error_event(\"page\"))\n",
    "ad_event = udf(lambda x: 1 if x == \"Roll Advert\" else 0, IntegerType())\n",
    "df = df.withColumn(\"Ad\", ad_event(\"page\"))\n"
   ]
  },
  {
   "cell_type": "markdown",
   "metadata": {},
   "source": [
    "Avergae number of thumbs down"
   ]
  },
  {
   "cell_type": "code",
   "execution_count": 88,
   "metadata": {
    "scrolled": true
   },
   "outputs": [
    {
     "name": "stdout",
     "output_type": "stream",
     "text": [
      "Stay:  13.225806451612904  Churn:  10.333333333333334\n"
     ]
    }
   ],
   "source": [
    "stayDown = df.filter(\"Churn == 0 and ThumbsDown == 1\").groupby(\"userId\").count().agg({\"count\":\"avg\"}).collect()[0][0]\n",
    "churnDown = df.filter(\"Churn == 1 and ThumbsDown == 1\").groupby(\"userId\").count().agg({\"count\":\"avg\"}).collect()[0][0]\n",
    "print(\"Stay: \",stayDown, \" Churn: \", churnDown)"
   ]
  },
  {
   "cell_type": "markdown",
   "metadata": {},
   "source": [
    "Avergae number of getting help"
   ]
  },
  {
   "cell_type": "code",
   "execution_count": 89,
   "metadata": {},
   "outputs": [
    {
     "name": "stdout",
     "output_type": "stream",
     "text": [
      "Stay:  8.154362416107382  Churn:  5.558139534883721\n"
     ]
    }
   ],
   "source": [
    "stayHelp = df.filter(\"Churn == 0 and Help == 1\").groupby(\"userId\").count().agg({\"count\":\"avg\"}).collect()[0][0]\n",
    "churnHelp = df.filter(\"Churn == 1 and Help == 1\").groupby(\"userId\").count().agg({\"count\":\"avg\"}).collect()[0][0]\n",
    "print(\"Stay: \",stayHelp, \" Churn: \", churnHelp)"
   ]
  },
  {
   "cell_type": "markdown",
   "metadata": {},
   "source": [
    "Avergae number of getting error page"
   ]
  },
  {
   "cell_type": "code",
   "execution_count": 90,
   "metadata": {},
   "outputs": [
    {
     "name": "stdout",
     "output_type": "stream",
     "text": [
      "Stay:  2.3157894736842106  Churn:  1.4545454545454546\n"
     ]
    }
   ],
   "source": [
    "stayError = df.filter(\"Churn == 0 and Error == 1\").groupby(\"userId\").count().agg({\"count\":\"avg\"}).collect()[0][0]\n",
    "churnError = df.filter(\"Churn == 1 and Error == 1\").groupby(\"userId\").count().agg({\"count\":\"avg\"}).collect()[0][0]\n",
    "print(\"Stay: \",stayError, \" Churn: \", churnError)"
   ]
  },
  {
   "cell_type": "markdown",
   "metadata": {},
   "source": [
    "Average number of roll ad shown"
   ]
  },
  {
   "cell_type": "code",
   "execution_count": 91,
   "metadata": {},
   "outputs": [
    {
     "name": "stdout",
     "output_type": "stream",
     "text": [
      "Stay:  18.89171974522293  Churn:  19.34\n"
     ]
    }
   ],
   "source": [
    "stayAd = df.filter(\"Churn == 0 and Ad == 1\").groupby(\"userId\").count().agg({\"count\":\"avg\"}).collect()[0][0]\n",
    "churnAd = df.filter(\"Churn == 1 and Ad == 1\").groupby(\"userId\").count().agg({\"count\":\"avg\"}).collect()[0][0]\n",
    "print(\"Stay: \",stayAd, \" Churn: \", churnAd)"
   ]
  },
  {
   "cell_type": "code",
   "execution_count": 92,
   "metadata": {},
   "outputs": [
    {
     "data": {
      "text/plain": [
       "([<matplotlib.axis.XTick at 0x7f0860490390>,\n",
       "  <matplotlib.axis.XTick at 0x7f0860483b00>,\n",
       "  <matplotlib.axis.XTick at 0x7f08935da0b8>,\n",
       "  <matplotlib.axis.XTick at 0x7f085e340940>],\n",
       " <a list of 4 Text xticklabel objects>)"
      ]
     },
     "execution_count": 92,
     "metadata": {},
     "output_type": "execute_result"
    },
    {
     "data": {
      "image/png": "[encoded data removed]",
      "text/plain": [
       "<matplotlib.figure.Figure at 0x7f08603f3da0>"
      ]
     },
     "metadata": {
      "needs_background": "light"
     },
     "output_type": "display_data"
    }
   ],
   "source": [
    "X = np.arange(4)\n",
    "fig = plt.figure()\n",
    "ax = fig.add_axes([0,0,1,1])\n",
    "ax.bar(X + 0.00, [stayDown,stayHelp,stayError,stayAd], color = 'b', width = 0.25)\n",
    "ax.bar(X + 0.25, [churnDown,churnHelp,churnError,churnAd], color = 'orange', width = 0.25)\n",
    "ax.legend(labels=[\"Stay\", \"Churn\"])\n",
    "ax.set_title(\"Average number of pages seen by users\")\n",
    "plt.xticks(X+0.12,[\"Thumbs Down\",\"Help\",\"Error\",\"Roll Ad\"])"
   ]
  },
  {
   "cell_type": "markdown",
   "metadata": {},
   "source": [
    "# Feature Engineering\n",
    "We will extract features for machine learning models. For each user, we keep track of the number of songs listened, thumbs down, help, error, roll ad over time."
   ]
  },
  {
   "cell_type": "code",
   "execution_count": 93,
   "metadata": {},
   "outputs": [],
   "source": [
    "windowcum = Window.partitionBy(\"userId\").orderBy(\"ts\").rangeBetween(Window.unboundedPreceding, 0)\n",
    "df = df.withColumn(\"numSong\", Fsum(\"listen\").over(windowcum))\n",
    "df = df.withColumn(\"numThumbsDown\", Fsum(\"ThumbsDown\").over(windowcum))\n",
    "df = df.withColumn(\"numHelp\", Fsum(\"Help\").over(windowcum))\n",
    "df = df.withColumn(\"numError\", Fsum(\"Error\").over(windowcum))\n",
    "df = df.withColumn(\"numAd\", Fsum(\"Ad\").over(windowcum))"
   ]
  },
  {
   "cell_type": "code",
   "execution_count": 94,
   "metadata": {
    "scrolled": true
   },
   "outputs": [
    {
     "data": {
      "text/plain": [
       "Row(ts=1539177136000, page='NextSong', song='Welcome To The World of The Plastic Beach (Feat. Snoop Dogg and Hypnotic Brass Ensemble)', numSong=1, numThumbsDown=0, numHelp=0, numAd=0, Churn=1)"
      ]
     },
     "execution_count": 94,
     "metadata": {},
     "output_type": "execute_result"
    }
   ],
   "source": [
    "df.select([\"ts\", \"page\",\"song\", \"numSong\",\"numThumbsDown\",\"numHelp\",\"numAd\", \"Churn\"]).where(df.userId == \"100014\").sort(\"ts\").head()"
   ]
  },
  {
   "cell_type": "code",
   "execution_count": 95,
   "metadata": {},
   "outputs": [
    {
     "data": {
      "text/plain": [
       "Row(artist='Sleeping With Sirens', auth='Logged In', firstName='Darianna', gender='F', itemInSession=0, lastName='Carpenter', length=202.97098, level='free', location='Bridgeport-Stamford-Norwalk, CT', method='PUT', page='NextSong', registration=1538016340000, sessionId=31, song='Captain Tyin Knots VS Mr Walkway (No Way)', status=200, ts=1539003534000, userAgent='\"Mozilla/5.0 (iPhone; CPU iPhone OS 7_1_2 like Mac OS X) AppleWebKit/537.51.2 (KHTML, like Gecko) Version/7.0 Mobile/11D257 Safari/9537.53\"', userId='100010', cancel=0, Churn=0, listen=1, ThumbsDown=0, Help=0, Error=0, Ad=0, numSong=1, numThumbsDown=0, numHelp=0, numError=0, numAd=0, pageLabel=0.0)"
      ]
     },
     "execution_count": 95,
     "metadata": {},
     "output_type": "execute_result"
    }
   ],
   "source": [
    "# label encoding for page as additional feature\n",
    "indexer = StringIndexer(inputCol=\"page\", outputCol=\"pageLabel\")\n",
    "df = indexer.fit(df).transform(df)\n",
    "df.head()"
   ]
  },
  {
   "cell_type": "code",
   "execution_count": 96,
   "metadata": {},
   "outputs": [],
   "source": [
    "get_date = udf(lambda x: str(datetime.datetime.fromtimestamp(x / 1000.0).date()))\n",
    "df = df.withColumn(\"date\",get_date(df.ts))"
   ]
  },
  {
   "cell_type": "markdown",
   "metadata": {},
   "source": [
    "The number of songs listened per day could also be a good feature for user behaviors."
   ]
  },
  {
   "cell_type": "code",
   "execution_count": 97,
   "metadata": {},
   "outputs": [],
   "source": [
    "windowall = Window.partitionBy(\"userId\",\"date\").orderBy(\"ts\").rangeBetween(Window.unboundedPreceding, Window.unboundedFollowing)\n",
    "df = df.withColumn(\"numSongPerDay\", Fsum(\"listen\").over(windowall))"
   ]
  },
  {
   "cell_type": "markdown",
   "metadata": {},
   "source": [
    "# Modeling\n",
    "We split dataset into 80% training, 10% test and 10% validation. Models will be built on training set and evaluated on test set. Then, we report final result on validation set."
   ]
  },
  {
   "cell_type": "markdown",
   "metadata": {},
   "source": [
    "### Data Preprocessing"
   ]
  },
  {
   "cell_type": "code",
   "execution_count": 98,
   "metadata": {},
   "outputs": [],
   "source": [
    "# features in vector for building model\n",
    "assembler = VectorAssembler(inputCols=[\"pageLabel\",\"numSong\",\"numThumbsDown\",\"numHelp\",\"numError\",\"numAd\",\"numSongPerDay\"], outputCol=\"featuresVec\")\n",
    "df = assembler.transform(df)"
   ]
  },
  {
   "cell_type": "code",
   "execution_count": 99,
   "metadata": {},
   "outputs": [],
   "source": [
    "# number of songs has different scale\n",
    "scaler = Normalizer(inputCol=\"featuresVec\", outputCol=\"featuresNormalized\")\n",
    "df = scaler.transform(df)"
   ]
  },
  {
   "cell_type": "code",
   "execution_count": 100,
   "metadata": {},
   "outputs": [
    {
     "data": {
      "text/plain": [
       "Row(userId='100', label=0, features=DenseVector([0.002, 0.9997, 0.0111, 0.004, 0.0, 0.001, 0.0191]))"
      ]
     },
     "execution_count": 100,
     "metadata": {},
     "output_type": "execute_result"
    }
   ],
   "source": [
    "data = df.select(col(\"userId\"),col(\"Churn\").alias(\"label\"), col(\"featuresNormalized\").alias(\"features\"))\n",
    "data.head()"
   ]
  },
  {
   "cell_type": "code",
   "execution_count": 101,
   "metadata": {},
   "outputs": [],
   "source": [
    "train, rest = data.randomSplit([0.8,0.2], seed = 42)\n",
    "test, validation = rest.randomSplit([0.5,0.5], seed=42)"
   ]
  },
  {
   "cell_type": "markdown",
   "metadata": {},
   "source": [
    "Logistic Regression, Random Forest, and Linear Support Vector Classification are the models used. We also fine tune hyperparameters on each of them."
   ]
  },
  {
   "cell_type": "markdown",
   "metadata": {},
   "source": [
    "### Machine Learning models"
   ]
  },
  {
   "cell_type": "code",
   "execution_count": 102,
   "metadata": {},
   "outputs": [],
   "source": [
    "logreg =  LogisticRegression(maxIter=10, regParam=0.0, elasticNetParam=0)\n",
    "logParamGrid = ParamGridBuilder() \\\n",
    "    .addGrid(logreg.elasticNetParam,[0.0, 0.3]) \\\n",
    "    .addGrid(logreg.maxIter,[5, 10]) \\\n",
    "    .build()\n",
    "\n",
    "\n",
    "logCV = CrossValidator(estimator=logreg,\n",
    "                          estimatorParamMaps=logParamGrid,\n",
    "                          evaluator=MulticlassClassificationEvaluator(labelCol='label',metricName='f1'),\n",
    "                          numFolds=3)\n",
    "logCvModel = logCV.fit(train)"
   ]
  },
  {
   "cell_type": "code",
   "execution_count": 103,
   "metadata": {},
   "outputs": [
    {
     "data": {
      "text/plain": [
       "[0.7660260006601995,\n",
       " 0.7666595866781354,\n",
       " 0.7660260006601995,\n",
       " 0.7666595866781354]"
      ]
     },
     "execution_count": 103,
     "metadata": {},
     "output_type": "execute_result"
    }
   ],
   "source": [
    "logCvModel.avgMetrics"
   ]
  },
  {
   "cell_type": "code",
   "execution_count": 117,
   "metadata": {},
   "outputs": [
    {
     "data": {
      "text/plain": [
       "0.0"
      ]
     },
     "execution_count": 117,
     "metadata": {},
     "output_type": "execute_result"
    }
   ],
   "source": [
    "logCvModel.bestModel._java_obj.getElasticNetParam()"
   ]
  },
  {
   "cell_type": "code",
   "execution_count": 118,
   "metadata": {},
   "outputs": [
    {
     "data": {
      "text/plain": [
       "10"
      ]
     },
     "execution_count": 118,
     "metadata": {},
     "output_type": "execute_result"
    }
   ],
   "source": [
    "logCvModel.bestModel._java_obj.getMaxIter()"
   ]
  },
  {
   "cell_type": "code",
   "execution_count": 43,
   "metadata": {},
   "outputs": [
    {
     "name": "stdout",
     "output_type": "stream",
     "text": [
      "0.8381627731183183\n"
     ]
    }
   ],
   "source": [
    "# Logistic Regression evaluated on test set\n",
    "preds = logCvModel.transform(test)\n",
    "print(preds.filter(preds.prediction == preds.label).count()/preds.count())"
   ]
  },
  {
   "cell_type": "code",
   "execution_count": 122,
   "metadata": {},
   "outputs": [],
   "source": [
    "rf = RandomForestClassifier(labelCol=\"label\", featuresCol=\"features\", numTrees=10, maxDepth = 3)\n",
    "rfParamGrid = ParamGridBuilder() \\\n",
    "    .addGrid(rf.numTrees,[10,30]) \\\n",
    "    .addGrid(rf.maxDepth,[3, 5]) \\\n",
    "    .build()  \n",
    "\n",
    "rfCV = CrossValidator(estimator=rf,\n",
    "                          estimatorParamMaps=rfParamGrid,\n",
    "                          evaluator=MulticlassClassificationEvaluator(labelCol='label',metricName='f1'),\n",
    "                          numFolds=3)\n",
    "rfCvModel = rfCV.fit(train)"
   ]
  },
  {
   "cell_type": "code",
   "execution_count": 123,
   "metadata": {},
   "outputs": [
    {
     "data": {
      "text/plain": [
       "[0.7656697312189749,\n",
       " 0.7748783811498049,\n",
       " 0.7650655920064284,\n",
       " 0.7763188766133573]"
      ]
     },
     "execution_count": 123,
     "metadata": {},
     "output_type": "execute_result"
    }
   ],
   "source": [
    "rfCvModel.avgMetrics"
   ]
  },
  {
   "cell_type": "code",
   "execution_count": 126,
   "metadata": {},
   "outputs": [
    {
     "data": {
      "text/plain": [
       "30"
      ]
     },
     "execution_count": 126,
     "metadata": {},
     "output_type": "execute_result"
    }
   ],
   "source": [
    "rfCvModel.bestModel._java_obj.getNumTrees()"
   ]
  },
  {
   "cell_type": "code",
   "execution_count": 127,
   "metadata": {},
   "outputs": [
    {
     "data": {
      "text/plain": [
       "5"
      ]
     },
     "execution_count": 127,
     "metadata": {},
     "output_type": "execute_result"
    }
   ],
   "source": [
    "rfCvModel.bestModel._java_obj.getMaxDepth()"
   ]
  },
  {
   "cell_type": "code",
   "execution_count": 46,
   "metadata": {},
   "outputs": [
    {
     "name": "stdout",
     "output_type": "stream",
     "text": [
      "0.8465138043986897\n"
     ]
    }
   ],
   "source": [
    "# Random Forest evaluated on test set\n",
    "preds = rfCvModel.transform(test)\n",
    "print(preds.filter(preds.prediction == preds.label).count()/preds.count())"
   ]
  },
  {
   "cell_type": "code",
   "execution_count": 133,
   "metadata": {},
   "outputs": [
    {
     "data": {
      "text/plain": [
       "SparseVector(7, {0: 0.0003, 1: 0.1926, 2: 0.2086, 3: 0.0847, 4: 0.1179, 5: 0.31, 6: 0.0859})"
      ]
     },
     "execution_count": 133,
     "metadata": {},
     "output_type": "execute_result"
    }
   ],
   "source": [
    "rfCvModel.bestModel.featureImportances"
   ]
  },
  {
   "cell_type": "code",
   "execution_count": 144,
   "metadata": {},
   "outputs": [
    {
     "data": {
      "text/plain": [
       "array([  2.91917487e-04,   1.92587804e-01,   2.08629049e-01,\n",
       "         8.47253567e-02,   1.17853075e-01,   3.10017702e-01,\n",
       "         8.58950951e-02])"
      ]
     },
     "execution_count": 144,
     "metadata": {},
     "output_type": "execute_result"
    }
   ],
   "source": [
    "featureim = rfCvModel.bestModel.featureImportances.toArray()\n",
    "featureim"
   ]
  },
  {
   "cell_type": "code",
   "execution_count": 149,
   "metadata": {},
   "outputs": [
    {
     "data": {
      "text/plain": [
       "([<matplotlib.axis.XTick at 0x7f0853fe2320>,\n",
       "  <matplotlib.axis.XTick at 0x7f0853fbcf60>,\n",
       "  <matplotlib.axis.XTick at 0x7f0853fcdfd0>,\n",
       "  <matplotlib.axis.XTick at 0x7f0853f879e8>,\n",
       "  <matplotlib.axis.XTick at 0x7f0853f8f080>,\n",
       "  <matplotlib.axis.XTick at 0x7f0853f8f710>,\n",
       "  <matplotlib.axis.XTick at 0x7f0853f8fda0>],\n",
       " <a list of 7 Text xticklabel objects>)"
      ]
     },
     "execution_count": 149,
     "metadata": {},
     "output_type": "execute_result"
    },
    {
     "data": {
      "image/png": "[encoded data removed]",
      "text/plain": [
       "<matplotlib.figure.Figure at 0x7f085c1344a8>"
      ]
     },
     "metadata": {
      "needs_background": "light"
     },
     "output_type": "display_data"
    }
   ],
   "source": [
    "X = np.arange(7)\n",
    "fig = plt.figure(figsize=(10,5))\n",
    "ax = fig.add_axes([0,0,1,1])\n",
    "ax.bar(X + 0.00, featureim, color = 'b', width = 0.25)\n",
    "ax.set_title(\"Feature Importance of Random Forest model\")\n",
    "plt.xticks(X,[\"PageLabel\",\"NumSong\",\"NumThumbsDown\",\"NumHelp\",\"NumError\",\"NumAd\",\"NumSongPerDay\"])"
   ]
  },
  {
   "cell_type": "code",
   "execution_count": 124,
   "metadata": {},
   "outputs": [],
   "source": [
    "lsvc = LinearSVC(maxIter=10, regParam=0.1)\n",
    "lsvcParamGrid = ParamGridBuilder() \\\n",
    "    .addGrid(lsvc.maxIter,[5,10]) \\\n",
    "    .addGrid(lsvc.regParam,[0.1, 0.8]) \\\n",
    "    .build()  \n",
    "\n",
    "lsvcCV = CrossValidator(estimator=lsvc,\n",
    "                          estimatorParamMaps=lsvcParamGrid,\n",
    "                          evaluator=MulticlassClassificationEvaluator(labelCol='label',metricName='f1'),\n",
    "                          numFolds=3)\n",
    "lsvcCvModel = lsvcCV.fit(train)"
   ]
  },
  {
   "cell_type": "code",
   "execution_count": 125,
   "metadata": {},
   "outputs": [
    {
     "data": {
      "text/plain": [
       "[0.7650655920064284,\n",
       " 0.7650655920064284,\n",
       " 0.7650655920064284,\n",
       " 0.7650655920064284]"
      ]
     },
     "execution_count": 125,
     "metadata": {},
     "output_type": "execute_result"
    }
   ],
   "source": [
    "lsvcCvModel.avgMetrics"
   ]
  },
  {
   "cell_type": "code",
   "execution_count": 128,
   "metadata": {},
   "outputs": [
    {
     "data": {
      "text/plain": [
       "5"
      ]
     },
     "execution_count": 128,
     "metadata": {},
     "output_type": "execute_result"
    }
   ],
   "source": [
    "lsvcCvModel.bestModel._java_obj.getMaxIter()"
   ]
  },
  {
   "cell_type": "code",
   "execution_count": 129,
   "metadata": {},
   "outputs": [
    {
     "data": {
      "text/plain": [
       "0.1"
      ]
     },
     "execution_count": 129,
     "metadata": {},
     "output_type": "execute_result"
    }
   ],
   "source": [
    "lsvcCvModel.bestModel._java_obj.getRegParam()"
   ]
  },
  {
   "cell_type": "code",
   "execution_count": 49,
   "metadata": {},
   "outputs": [
    {
     "name": "stdout",
     "output_type": "stream",
     "text": [
      "0.838630718836615\n"
     ]
    }
   ],
   "source": [
    "# Linear Support Vector evaluated on test set\n",
    "preds = lsvcCvModel.transform(test)\n",
    "print(preds.filter(preds.prediction == preds.label).count()/preds.count())"
   ]
  },
  {
   "cell_type": "code",
   "execution_count": 131,
   "metadata": {},
   "outputs": [
    {
     "name": "stdout",
     "output_type": "stream",
     "text": [
      "+--------------------+-----------------+------------+----------+\n",
      "|              Models|           Param1|      Param2|avgMetrics|\n",
      "+--------------------+-----------------+------------+----------+\n",
      "| Logistic Regression|ElasticNetParam 0|  MaxIter 10|    0.7666|\n",
      "|       Random Forest|      NumTrees 30|  MaxDepth 5|    0.7763|\n",
      "|Linear Support Ve...|        MaxIter 5|RegParam 0.1|     0.765|\n",
      "+--------------------+-----------------+------------+----------+\n",
      "\n"
     ]
    }
   ],
   "source": [
    "paramScoreDF = spark.createDataFrame([(\"Logistic Regression\",\"ElasticNetParam 0\", \"MaxIter 10\", 0.7666),(\"Random Forest\",\"NumTrees 30\", \"MaxDepth 5\",0.7763),(\"Linear Support Vector\",\"MaxIter 5\", \"RegParam 0.1\", 0.7650)]).toDF(*[\"Models\",\"Param1\",\"Param2\",\"avgMetrics\"])\n",
    "paramScoreDF.show()"
   ]
  },
  {
   "cell_type": "code",
   "execution_count": 58,
   "metadata": {},
   "outputs": [],
   "source": [
    "bestDF = spark.createDataFrame([(\"Logistic Regression\",0.83816),(\"Random Forest\",0.84651),(\"Linear Support Vector\",0.83863)]).toDF(*[\"Models\",\"best test scores\"])"
   ]
  },
  {
   "cell_type": "code",
   "execution_count": 59,
   "metadata": {},
   "outputs": [
    {
     "name": "stdout",
     "output_type": "stream",
     "text": [
      "+--------------------+----------------+\n",
      "|              Models|best test scores|\n",
      "+--------------------+----------------+\n",
      "| Logistic Regression|         0.83816|\n",
      "|       Random Forest|         0.84651|\n",
      "|Linear Support Ve...|         0.83863|\n",
      "+--------------------+----------------+\n",
      "\n"
     ]
    }
   ],
   "source": [
    "bestDF.show()"
   ]
  },
  {
   "cell_type": "markdown",
   "metadata": {},
   "source": [
    "## Results\n",
    "Random Forest performs best on the test set"
   ]
  },
  {
   "cell_type": "code",
   "execution_count": 50,
   "metadata": {},
   "outputs": [
    {
     "name": "stdout",
     "output_type": "stream",
     "text": [
      "0.8471710926051682\n"
     ]
    }
   ],
   "source": [
    "# final result on validation set\n",
    "results = rfCvModel.transform(validation)\n",
    "print(results.filter(results.prediction == results.label).count()/results.count())"
   ]
  },
  {
   "cell_type": "markdown",
   "metadata": {},
   "source": [
    "Performance on validation set is slightly higher than that on test set. "
   ]
  },
  {
   "cell_type": "code",
   "execution_count": null,
   "metadata": {},
   "outputs": [],
   "source": []
  }
 ],
 "metadata": {
  "kernelspec": {
   "display_name": "Python 3",
   "language": "python",
   "name": "python3"
  },
  "language_info": {
   "codemirror_mode": {
    "name": "ipython",
    "version": 3
   },
   "file_extension": ".py",
   "mimetype": "text/x-python",
   "name": "python",
   "nbconvert_exporter": "python",
   "pygments_lexer": "ipython3",
   "version": "3.6.3"
  }
 },
 "nbformat": 4,
 "nbformat_minor": 2
}
