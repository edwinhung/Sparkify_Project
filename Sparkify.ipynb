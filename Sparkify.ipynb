{
 "cells": [
  {
   "cell_type": "markdown",
   "metadata": {},
   "source": [
    "# Sparkify Project Workspace\n",
    "This workspace contains a tiny subset (128MB) of the full dataset available (12GB). Feel free to use this workspace to build your project, or to explore a smaller subset with Spark before deploying your cluster on the cloud. Instructions for setting up your Spark cluster is included in the last lesson of the Extracurricular Spark Course content.\n",
    "\n",
    "You can follow the steps below to guide your data analysis and model building portion of this project."
   ]
  },
  {
   "cell_type": "code",
   "execution_count": 88,
   "metadata": {},
   "outputs": [],
   "source": [
    "# import libraries\n",
    "from pyspark.sql import SparkSession\n",
    "from pyspark.sql.functions import avg, col, concat, desc, explode, lit, min, max, split, udf\n",
    "from pyspark.sql.types import IntegerType\n",
    "from pyspark.sql import Window\n",
    "from pyspark.sql.functions import desc\n",
    "from pyspark.sql.functions import sum as Fsum\n",
    "\n",
    "from pyspark.ml.classification import LogisticRegression\n",
    "from pyspark.ml.evaluation import MulticlassClassificationEvaluator\n",
    "from pyspark.ml.feature import CountVectorizer, IDF, Normalizer, PCA, RegexTokenizer, StandardScaler, StopWordsRemover, StringIndexer, VectorAssembler\n",
    "from pyspark.ml.regression import LinearRegression\n",
    "from pyspark.ml.tuning import CrossValidator, ParamGridBuilder\n",
    "import datetime\n",
    "import re\n",
    "%matplotlib inline\n",
    "import matplotlib.pyplot as plt"
   ]
  },
  {
   "cell_type": "code",
   "execution_count": 53,
   "metadata": {},
   "outputs": [],
   "source": [
    "# create a Spark session\n",
    "spark = SparkSession.builder \\\n",
    "    .master(\"local\") \\\n",
    "    .appName(\"Sparkify\") \\\n",
    "    .getOrCreate()"
   ]
  },
  {
   "cell_type": "markdown",
   "metadata": {},
   "source": [
    "# Load and Clean Dataset\n",
    "In this workspace, the mini-dataset file is `mini_sparkify_event_data.json`. Load and clean the dataset, checking for invalid or missing data - for example, records without userids or sessionids. "
   ]
  },
  {
   "cell_type": "code",
   "execution_count": 54,
   "metadata": {},
   "outputs": [
    {
     "data": {
      "text/plain": [
       "DataFrame[artist: string, auth: string, firstName: string, gender: string, itemInSession: bigint, lastName: string, length: double, level: string, location: string, method: string, page: string, registration: bigint, sessionId: bigint, song: string, status: bigint, ts: bigint, userAgent: string, userId: string]"
      ]
     },
     "execution_count": 54,
     "metadata": {},
     "output_type": "execute_result"
    }
   ],
   "source": [
    "sparkify_data = 'mini_sparkify_event_data.json'\n",
    "df = spark.read.json(sparkify_data)\n",
    "df.persist()"
   ]
  },
  {
   "cell_type": "code",
   "execution_count": 55,
   "metadata": {},
   "outputs": [
    {
     "data": {
      "text/plain": [
       "Row(artist='Martha Tilston', auth='Logged In', firstName='Colin', gender='M', itemInSession=50, lastName='Freeman', length=277.89016, level='paid', location='Bakersfield, CA', method='PUT', page='NextSong', registration=1538173362000, sessionId=29, song='Rockpools', status=200, ts=1538352117000, userAgent='Mozilla/5.0 (Windows NT 6.1; WOW64; rv:31.0) Gecko/20100101 Firefox/31.0', userId='30')"
      ]
     },
     "execution_count": 55,
     "metadata": {},
     "output_type": "execute_result"
    }
   ],
   "source": [
    "df.head()"
   ]
  },
  {
   "cell_type": "code",
   "execution_count": 56,
   "metadata": {},
   "outputs": [
    {
     "data": {
      "text/plain": [
       "286500"
      ]
     },
     "execution_count": 56,
     "metadata": {},
     "output_type": "execute_result"
    }
   ],
   "source": [
    "df.count()"
   ]
  },
  {
   "cell_type": "code",
   "execution_count": 57,
   "metadata": {},
   "outputs": [
    {
     "name": "stdout",
     "output_type": "stream",
     "text": [
      "+-------+------------------+\n",
      "|summary|            artist|\n",
      "+-------+------------------+\n",
      "|  count|            228108|\n",
      "|   mean| 551.0852017937219|\n",
      "| stddev|1217.7693079161374|\n",
      "|    min|               !!!|\n",
      "|    max| ÃÂlafur Arnalds|\n",
      "+-------+------------------+\n",
      "\n"
     ]
    }
   ],
   "source": [
    "df.describe(\"artist\").show()"
   ]
  },
  {
   "cell_type": "code",
   "execution_count": 58,
   "metadata": {
    "scrolled": true
   },
   "outputs": [
    {
     "name": "stdout",
     "output_type": "stream",
     "text": [
      "+-------+-----------------+\n",
      "|summary|           userId|\n",
      "+-------+-----------------+\n",
      "|  count|           286500|\n",
      "|   mean|59682.02278593872|\n",
      "| stddev|109091.9499991047|\n",
      "|    min|                 |\n",
      "|    max|               99|\n",
      "+-------+-----------------+\n",
      "\n"
     ]
    }
   ],
   "source": [
    "df.describe(\"userId\").show()"
   ]
  },
  {
   "cell_type": "code",
   "execution_count": 59,
   "metadata": {},
   "outputs": [
    {
     "name": "stdout",
     "output_type": "stream",
     "text": [
      "+-------+-----------------+\n",
      "|summary|        sessionId|\n",
      "+-------+-----------------+\n",
      "|  count|           286500|\n",
      "|   mean|1041.526554973822|\n",
      "| stddev|726.7762634630741|\n",
      "|    min|                1|\n",
      "|    max|             2474|\n",
      "+-------+-----------------+\n",
      "\n"
     ]
    }
   ],
   "source": [
    "df.describe(\"sessionId\").show()"
   ]
  },
  {
   "cell_type": "code",
   "execution_count": 60,
   "metadata": {
    "scrolled": true
   },
   "outputs": [],
   "source": [
    "df = df.dropna(how=\"any\", subset=[\"userId\",\"sessionId\"])"
   ]
  },
  {
   "cell_type": "code",
   "execution_count": 61,
   "metadata": {},
   "outputs": [
    {
     "data": {
      "text/plain": [
       "286500"
      ]
     },
     "execution_count": 61,
     "metadata": {},
     "output_type": "execute_result"
    }
   ],
   "source": [
    "df.count()"
   ]
  },
  {
   "cell_type": "code",
   "execution_count": 62,
   "metadata": {},
   "outputs": [
    {
     "name": "stdout",
     "output_type": "stream",
     "text": [
      "+------+\n",
      "|userId|\n",
      "+------+\n",
      "|      |\n",
      "|    10|\n",
      "|   100|\n",
      "|100001|\n",
      "|100002|\n",
      "|100003|\n",
      "|100004|\n",
      "|100005|\n",
      "|100006|\n",
      "|100007|\n",
      "|100008|\n",
      "|100009|\n",
      "|100010|\n",
      "|100011|\n",
      "|100012|\n",
      "|100013|\n",
      "|100014|\n",
      "|100015|\n",
      "|100016|\n",
      "|100017|\n",
      "+------+\n",
      "only showing top 20 rows\n",
      "\n"
     ]
    }
   ],
   "source": [
    "df.select(\"userId\").dropDuplicates().sort(\"userId\").show()"
   ]
  },
  {
   "cell_type": "code",
   "execution_count": 63,
   "metadata": {},
   "outputs": [
    {
     "data": {
      "text/plain": [
       "8346"
      ]
     },
     "execution_count": 63,
     "metadata": {},
     "output_type": "execute_result"
    }
   ],
   "source": [
    "df.filter(df[\"userId\"] == \"\").count()"
   ]
  },
  {
   "cell_type": "code",
   "execution_count": 64,
   "metadata": {},
   "outputs": [
    {
     "data": {
      "text/plain": [
       "[Row(page='Cancel'),\n",
       " Row(page='Submit Downgrade'),\n",
       " Row(page='Thumbs Down'),\n",
       " Row(page='Home'),\n",
       " Row(page='Downgrade'),\n",
       " Row(page='Roll Advert'),\n",
       " Row(page='Logout'),\n",
       " Row(page='Save Settings'),\n",
       " Row(page='Cancellation Confirmation'),\n",
       " Row(page='About'),\n",
       " Row(page='Submit Registration'),\n",
       " Row(page='Settings'),\n",
       " Row(page='Login'),\n",
       " Row(page='Register'),\n",
       " Row(page='Add to Playlist'),\n",
       " Row(page='Add Friend'),\n",
       " Row(page='NextSong'),\n",
       " Row(page='Thumbs Up'),\n",
       " Row(page='Help'),\n",
       " Row(page='Upgrade'),\n",
       " Row(page='Error'),\n",
       " Row(page='Submit Upgrade')]"
      ]
     },
     "execution_count": 64,
     "metadata": {},
     "output_type": "execute_result"
    }
   ],
   "source": [
    "# all pages\n",
    "df.select(\"page\").dropDuplicates().collect()"
   ]
  },
  {
   "cell_type": "code",
   "execution_count": 65,
   "metadata": {},
   "outputs": [
    {
     "data": {
      "text/plain": [
       "[Row(page='Home'),\n",
       " Row(page='About'),\n",
       " Row(page='Submit Registration'),\n",
       " Row(page='Login'),\n",
       " Row(page='Register'),\n",
       " Row(page='Help'),\n",
       " Row(page='Error')]"
      ]
     },
     "execution_count": 65,
     "metadata": {},
     "output_type": "execute_result"
    }
   ],
   "source": [
    "## blank userId visited pages\n",
    "df.filter(df.userId == \"\").select(\"page\").dropDuplicates().collect()"
   ]
  },
  {
   "cell_type": "markdown",
   "metadata": {},
   "source": [
    "Blank userId are guest who just look around the Sparkiy, so we drop them from the dataset"
   ]
  },
  {
   "cell_type": "code",
   "execution_count": 66,
   "metadata": {},
   "outputs": [
    {
     "data": {
      "text/plain": [
       "278154"
      ]
     },
     "execution_count": 66,
     "metadata": {},
     "output_type": "execute_result"
    }
   ],
   "source": [
    "df = df.filter(df.userId != \"\")\n",
    "df.count()"
   ]
  },
  {
   "cell_type": "code",
   "execution_count": 67,
   "metadata": {},
   "outputs": [
    {
     "name": "stdout",
     "output_type": "stream",
     "text": [
      "+---------+\n",
      "|sessionId|\n",
      "+---------+\n",
      "|        1|\n",
      "|        2|\n",
      "|        3|\n",
      "|        4|\n",
      "|        5|\n",
      "|        6|\n",
      "|        7|\n",
      "|        8|\n",
      "|        9|\n",
      "|       10|\n",
      "|       11|\n",
      "|       12|\n",
      "|       13|\n",
      "|       15|\n",
      "|       16|\n",
      "|       17|\n",
      "|       18|\n",
      "|       19|\n",
      "|       20|\n",
      "|       21|\n",
      "+---------+\n",
      "only showing top 20 rows\n",
      "\n"
     ]
    }
   ],
   "source": [
    "df.select(\"sessionId\").dropDuplicates().sort(\"sessionId\").show()"
   ]
  },
  {
   "cell_type": "markdown",
   "metadata": {},
   "source": [
    "# Exploratory Data Analysis\n",
    "When you're working with the full dataset, perform EDA by loading a small subset of the data and doing basic manipulations within Spark. In this workspace, you are already provided a small subset of data you can explore.\n",
    "\n",
    "### Define Churn\n",
    "\n",
    "Once you've done some preliminary analysis, create a column `Churn` to use as the label for your model. I suggest using the `Cancellation Confirmation` events to define your churn, which happen for both paid and free users. As a bonus task, you can also look into the `Downgrade` events.\n",
    "\n",
    "### Explore Data\n",
    "Once you've defined churn, perform some exploratory data analysis to observe the behavior for users who stayed vs users who churned. You can start by exploring aggregates on these two groups of users, observing how much of a specific action they experienced per a certain time unit or number of songs played."
   ]
  },
  {
   "cell_type": "code",
   "execution_count": 68,
   "metadata": {},
   "outputs": [
    {
     "data": {
      "text/plain": [
       "Row(artist=None, auth='Cancelled', firstName='Adriel', gender='M', itemInSession=104, lastName='Mendoza', length=None, level='paid', location='Kansas City, MO-KS', method='GET', page='Cancellation Confirmation', registration=1535623466000, sessionId=514, song=None, status=200, ts=1538943990000, userAgent='\"Mozilla/5.0 (Macintosh; Intel Mac OS X 10_9_4) AppleWebKit/537.77.4 (KHTML, like Gecko) Version/7.0.5 Safari/537.77.4\"', userId='18')"
      ]
     },
     "execution_count": 68,
     "metadata": {},
     "output_type": "execute_result"
    }
   ],
   "source": [
    "df.filter(\"page = 'Cancellation Confirmation'\").head()"
   ]
  },
  {
   "cell_type": "code",
   "execution_count": 69,
   "metadata": {},
   "outputs": [
    {
     "data": {
      "text/plain": [
       "Row(artist='Martha Tilston', auth='Logged In', firstName='Colin', gender='M', itemInSession=50, lastName='Freeman', length=277.89016, level='paid', location='Bakersfield, CA', method='PUT', page='NextSong', registration=1538173362000, sessionId=29, song='Rockpools', status=200, ts=1538352117000, userAgent='Mozilla/5.0 (Windows NT 6.1; WOW64; rv:31.0) Gecko/20100101 Firefox/31.0', userId='30', cancel=0)"
      ]
     },
     "execution_count": 69,
     "metadata": {},
     "output_type": "execute_result"
    }
   ],
   "source": [
    "## we flag the cancellation event 1\n",
    "cancel_event = udf(lambda x: 1 if x == \"Cancellation Confirmation\" else 0, IntegerType())\n",
    "df = df.withColumn(\"cancel\", cancel_event(\"page\"))\n",
    "df.head()"
   ]
  },
  {
   "cell_type": "markdown",
   "metadata": {},
   "source": [
    "Since Cancellation can happen to paid and free users, we flag these users 1 on all event records before their cancellation and 0 otherwise by creating Churn column."
   ]
  },
  {
   "cell_type": "code",
   "execution_count": 70,
   "metadata": {},
   "outputs": [],
   "source": [
    "windowval = Window.partitionBy(\"userId\").orderBy(desc(\"ts\")).rangeBetween(Window.unboundedPreceding, 0)\n",
    "df = df.withColumn(\"Churn\", Fsum(\"cancel\").over(windowval))"
   ]
  },
  {
   "cell_type": "code",
   "execution_count": 71,
   "metadata": {},
   "outputs": [
    {
     "data": {
      "text/plain": [
       "[Row(userId='100014', firstname='Rodrigo', ts=1539177136000, page='NextSong', method='PUT', sessionId=37, song='Welcome To The World of The Plastic Beach (Feat. Snoop Dogg and Hypnotic Brass Ensemble)', level='paid', Churn=1),\n",
       " Row(userId='100014', firstname='Rodrigo', ts=1539177351000, page='NextSong', method='PUT', sessionId=37, song='Odessa', level='paid', Churn=1),\n",
       " Row(userId='100014', firstname='Rodrigo', ts=1539177476000, page='NextSong', method='PUT', sessionId=37, song='Amapola', level='paid', Churn=1),\n",
       " Row(userId='100014', firstname='Rodrigo', ts=1539177698000, page='NextSong', method='PUT', sessionId=37, song='Exogenesis: Symphony Part 1 [Overture]', level='paid', Churn=1),\n",
       " Row(userId='100014', firstname='Rodrigo', ts=1539177705000, page='Help', method='GET', sessionId=37, song=None, level='paid', Churn=1),\n",
       " Row(userId='100014', firstname='Rodrigo', ts=1539177956000, page='NextSong', method='PUT', sessionId=37, song='Sehr kosmisch', level='paid', Churn=1),\n",
       " Row(userId='100014', firstname='Rodrigo', ts=1539178611000, page='NextSong', method='PUT', sessionId=37, song='Moghram Ya Lail', level='paid', Churn=1),\n",
       " Row(userId='100014', firstname='Rodrigo', ts=1539178914000, page='NextSong', method='PUT', sessionId=37, song='AtrÃ\\x83Â©vete te te', level='paid', Churn=1),\n",
       " Row(userId='100014', firstname='Rodrigo', ts=1539179153000, page='NextSong', method='PUT', sessionId=37, song='Forever', level='paid', Churn=1),\n",
       " Row(userId='100014', firstname='Rodrigo', ts=1539179510000, page='NextSong', method='PUT', sessionId=37, song='My Automobile', level='paid', Churn=1),\n",
       " Row(userId='100014', firstname='Rodrigo', ts=1539179788000, page='NextSong', method='PUT', sessionId=37, song='Fool For Your Loving', level='paid', Churn=1),\n",
       " Row(userId='100014', firstname='Rodrigo', ts=1539180038000, page='NextSong', method='PUT', sessionId=37, song='Rocket Queen', level='paid', Churn=1),\n",
       " Row(userId='100014', firstname='Rodrigo', ts=1539180545000, page='NextSong', method='PUT', sessionId=37, song='Run Free', level='paid', Churn=1),\n",
       " Row(userId='100014', firstname='Rodrigo', ts=1539180925000, page='NextSong', method='PUT', sessionId=37, song='Dile', level='paid', Churn=1),\n",
       " Row(userId='100014', firstname='Rodrigo', ts=1539181129000, page='NextSong', method='PUT', sessionId=37, song='Annie (Album Version)', level='paid', Churn=1),\n",
       " Row(userId='100014', firstname='Rodrigo', ts=1539181334000, page='NextSong', method='PUT', sessionId=37, song='Sexy Can I', level='paid', Churn=1),\n",
       " Row(userId='100014', firstname='Rodrigo', ts=1539181541000, page='NextSong', method='PUT', sessionId=37, song='Bring Me To Life', level='paid', Churn=1),\n",
       " Row(userId='100014', firstname='Rodrigo', ts=1539181542000, page='Thumbs Up', method='PUT', sessionId=37, song=None, level='paid', Churn=1),\n",
       " Row(userId='100014', firstname='Rodrigo', ts=1539181778000, page='NextSong', method='PUT', sessionId=37, song='Stop Coming To My House', level='paid', Churn=1),\n",
       " Row(userId='100014', firstname='Rodrigo', ts=1539182071000, page='NextSong', method='PUT', sessionId=37, song='Mechanical Love', level='paid', Churn=1),\n",
       " Row(userId='100014', firstname='Rodrigo', ts=1539182288000, page='NextSong', method='PUT', sessionId=37, song='Fireworks', level='paid', Churn=1),\n",
       " Row(userId='100014', firstname='Rodrigo', ts=1539182698000, page='NextSong', method='PUT', sessionId=37, song=\"Lord I Guess I'll Never Know\", level='paid', Churn=1),\n",
       " Row(userId='100014', firstname='Rodrigo', ts=1539182989000, page='NextSong', method='PUT', sessionId=37, song='Found Home', level='paid', Churn=1),\n",
       " Row(userId='100014', firstname='Rodrigo', ts=1539183133000, page='NextSong', method='PUT', sessionId=37, song='Revival Chance', level='paid', Churn=1),\n",
       " Row(userId='100014', firstname='Rodrigo', ts=1539183478000, page='NextSong', method='PUT', sessionId=37, song='Buffalo Bill', level='paid', Churn=1),\n",
       " Row(userId='100014', firstname='Rodrigo', ts=1539183714000, page='NextSong', method='PUT', sessionId=37, song='Chump Change', level='paid', Churn=1),\n",
       " Row(userId='100014', firstname='Rodrigo', ts=1539183972000, page='NextSong', method='PUT', sessionId=37, song='Supermassive Black Hole (Twilight Soundtrack Version)', level='paid', Churn=1),\n",
       " Row(userId='100014', firstname='Rodrigo', ts=1539184181000, page='NextSong', method='PUT', sessionId=37, song='Stomp', level='paid', Churn=1),\n",
       " Row(userId='100014', firstname='Rodrigo', ts=1539184465000, page='NextSong', method='PUT', sessionId=37, song='Three More Days', level='paid', Churn=1),\n",
       " Row(userId='100014', firstname='Rodrigo', ts=1539184681000, page='NextSong', method='PUT', sessionId=37, song='I Kissed A Girl', level='paid', Churn=1),\n",
       " Row(userId='100014', firstname='Rodrigo', ts=1539184860000, page='NextSong', method='PUT', sessionId=37, song='Pojdi', level='paid', Churn=1),\n",
       " Row(userId='100014', firstname='Rodrigo', ts=1539185045000, page='NextSong', method='PUT', sessionId=37, song='Year of the Suckerpunch', level='paid', Churn=1),\n",
       " Row(userId='100014', firstname='Rodrigo', ts=1539185349000, page='NextSong', method='PUT', sessionId=37, song='Braziluba', level='paid', Churn=1),\n",
       " Row(userId='100014', firstname='Rodrigo', ts=1539185939000, page='NextSong', method='PUT', sessionId=37, song='Undo', level='paid', Churn=1),\n",
       " Row(userId='100014', firstname='Rodrigo', ts=1539186287000, page='NextSong', method='PUT', sessionId=37, song=\"I Couldn't Say\", level='paid', Churn=1),\n",
       " Row(userId='100014', firstname='Rodrigo', ts=1539186631000, page='NextSong', method='PUT', sessionId=37, song='In The Flowers', level='paid', Churn=1),\n",
       " Row(userId='100014', firstname='Rodrigo', ts=1539186953000, page='NextSong', method='PUT', sessionId=37, song='Psychotic Girl', level='paid', Churn=1),\n",
       " Row(userId='100014', firstname='Rodrigo', ts=1539187203000, page='NextSong', method='PUT', sessionId=37, song='Hurt', level='paid', Churn=1),\n",
       " Row(userId='100014', firstname='Rodrigo', ts=1539187577000, page='NextSong', method='PUT', sessionId=37, song=\"Somethin' Special\", level='paid', Churn=1),\n",
       " Row(userId='100014', firstname='Rodrigo', ts=1539187761000, page='NextSong', method='PUT', sessionId=37, song='Highway Song', level='paid', Churn=1),\n",
       " Row(userId='100014', firstname='Rodrigo', ts=1539188393000, page='NextSong', method='PUT', sessionId=37, song='Sothis', level='paid', Churn=1),\n",
       " Row(userId='100014', firstname='Rodrigo', ts=1539188401000, page='Add to Playlist', method='PUT', sessionId=37, song=None, level='paid', Churn=1),\n",
       " Row(userId='100014', firstname='Rodrigo', ts=1539188599000, page='NextSong', method='PUT', sessionId=37, song='Luka', level='paid', Churn=1),\n",
       " Row(userId='100014', firstname='Rodrigo', ts=1539188830000, page='NextSong', method='PUT', sessionId=37, song='Call Me When You Get This', level='paid', Churn=1),\n",
       " Row(userId='100014', firstname='Rodrigo', ts=1539189131000, page='NextSong', method='PUT', sessionId=37, song='Loch Raven', level='paid', Churn=1),\n",
       " Row(userId='100014', firstname='Rodrigo', ts=1539189430000, page='NextSong', method='PUT', sessionId=37, song='Hypnotized (featuring Akon) (Explicit Album Version)', level='paid', Churn=1),\n",
       " Row(userId='100014', firstname='Rodrigo', ts=1539189431000, page='Thumbs Down', method='PUT', sessionId=37, song=None, level='paid', Churn=1),\n",
       " Row(userId='100014', firstname='Rodrigo', ts=1539189619000, page='NextSong', method='PUT', sessionId=37, song=\"You're The One\", level='paid', Churn=1),\n",
       " Row(userId='100014', firstname='Rodrigo', ts=1539189858000, page='NextSong', method='PUT', sessionId=37, song='Back Against The Wall', level='paid', Churn=1),\n",
       " Row(userId='100014', firstname='Rodrigo', ts=1539189858000, page='Settings', method='GET', sessionId=37, song=None, level='paid', Churn=1),\n",
       " Row(userId='100014', firstname='Rodrigo', ts=1539190086000, page='NextSong', method='PUT', sessionId=37, song='You Only Live Twice (2006 Digital Remaster)', level='paid', Churn=1),\n",
       " Row(userId='100014', firstname='Rodrigo', ts=1539190262000, page='NextSong', method='PUT', sessionId=37, song='Acetate Prophets', level='paid', Churn=1),\n",
       " Row(userId='100014', firstname='Rodrigo', ts=1539190653000, page='NextSong', method='PUT', sessionId=37, song='A Wish', level='paid', Churn=1),\n",
       " Row(userId='100014', firstname='Rodrigo', ts=1539190826000, page='NextSong', method='PUT', sessionId=37, song='Bolo Hari', level='paid', Churn=1),\n",
       " Row(userId='100014', firstname='Rodrigo', ts=1539191072000, page='NextSong', method='PUT', sessionId=37, song='U Smile', level='paid', Churn=1),\n",
       " Row(userId='100014', firstname='Rodrigo', ts=1539191268000, page='NextSong', method='PUT', sessionId=37, song='God Help Me', level='paid', Churn=1),\n",
       " Row(userId='100014', firstname='Rodrigo', ts=1539191458000, page='NextSong', method='PUT', sessionId=37, song='Children Of The Living God (LP Version)', level='paid', Churn=1),\n",
       " Row(userId='100014', firstname='Rodrigo', ts=1539321197000, page='NextSong', method='PUT', sessionId=93, song='Drain You', level='paid', Churn=1),\n",
       " Row(userId='100014', firstname='Rodrigo', ts=1539321411000, page='NextSong', method='PUT', sessionId=93, song=\"You're The One\", level='paid', Churn=1),\n",
       " Row(userId='100014', firstname='Rodrigo', ts=1539321650000, page='NextSong', method='PUT', sessionId=93, song='Bass Zone', level='paid', Churn=1),\n",
       " Row(userId='100014', firstname='Rodrigo', ts=1539321917000, page='NextSong', method='PUT', sessionId=93, song='MIC (Speak Life Album Version)', level='paid', Churn=1),\n",
       " Row(userId='100014', firstname='Rodrigo', ts=1539322131000, page='NextSong', method='PUT', sessionId=93, song='Cookie Raver', level='paid', Churn=1),\n",
       " Row(userId='100014', firstname='Rodrigo', ts=1539322456000, page='NextSong', method='PUT', sessionId=93, song='Sleep In The Garden', level='paid', Churn=1),\n",
       " Row(userId='100014', firstname='Rodrigo', ts=1539322559000, page='NextSong', method='PUT', sessionId=93, song='Con La Mano LevantÃ\\x83Â¡', level='paid', Churn=1),\n",
       " Row(userId='100014', firstname='Rodrigo', ts=1539322761000, page='NextSong', method='PUT', sessionId=93, song='Me Acuerdo', level='paid', Churn=1),\n",
       " Row(userId='100014', firstname='Rodrigo', ts=1539323112000, page='NextSong', method='PUT', sessionId=93, song='Watching The Detectives', level='paid', Churn=1),\n",
       " Row(userId='100014', firstname='Rodrigo', ts=1539323338000, page='NextSong', method='PUT', sessionId=93, song='ReprÃ\\x83Â©sente', level='paid', Churn=1),\n",
       " Row(userId='100014', firstname='Rodrigo', ts=1539323590000, page='NextSong', method='PUT', sessionId=93, song='I Wanna Be Down ( LP Version )', level='paid', Churn=1),\n",
       " Row(userId='100014', firstname='Rodrigo', ts=1539323881000, page='NextSong', method='PUT', sessionId=93, song='Breathin Out', level='paid', Churn=1),\n",
       " Row(userId='100014', firstname='Rodrigo', ts=1539323882000, page='Thumbs Up', method='PUT', sessionId=93, song=None, level='paid', Churn=1),\n",
       " Row(userId='100014', firstname='Rodrigo', ts=1539324058000, page='NextSong', method='PUT', sessionId=93, song='One Step Too Far', level='paid', Churn=1),\n",
       " Row(userId='100014', firstname='Rodrigo', ts=1539324263000, page='NextSong', method='PUT', sessionId=93, song='Slave', level='paid', Churn=1),\n",
       " Row(userId='100014', firstname='Rodrigo', ts=1539324429000, page='NextSong', method='PUT', sessionId=93, song='Un Amor Diferente', level='paid', Churn=1),\n",
       " Row(userId='100014', firstname='Rodrigo', ts=1539324634000, page='NextSong', method='PUT', sessionId=93, song='Jump Then Fall', level='paid', Churn=1),\n",
       " Row(userId='100014', firstname='Rodrigo', ts=1539324871000, page='NextSong', method='PUT', sessionId=93, song='Beautiful Stranger', level='paid', Churn=1),\n",
       " Row(userId='100014', firstname='Rodrigo', ts=1539325131000, page='NextSong', method='PUT', sessionId=93, song='Enter The Dragon', level='paid', Churn=1),\n",
       " Row(userId='100014', firstname='Rodrigo', ts=1539325500000, page='NextSong', method='PUT', sessionId=93, song='Save Me', level='paid', Churn=1),\n",
       " Row(userId='100014', firstname='Rodrigo', ts=1539325501000, page='Add Friend', method='PUT', sessionId=93, song=None, level='paid', Churn=1),\n",
       " Row(userId='100014', firstname='Rodrigo', ts=1539325705000, page='NextSong', method='PUT', sessionId=93, song='Simple As...', level='paid', Churn=1),\n",
       " Row(userId='100014', firstname='Rodrigo', ts=1539325856000, page='NextSong', method='PUT', sessionId=93, song='Accidents and complimentsÃ\\x82Â\\xa0Ã\\x82Â\\xa0Ã\\x82Â\\xa0Ã\\x82Â\\xa0Ã\\x82Â\\xa0Ã\\x82Â\\xa0Ã\\x82Â\\xa0Ã\\x82Â\\xa0Ã\\x82Â\\xa0Ã\\x82Â\\xa0Ã\\x82Â\\xa0Ã\\x82Â\\xa0Ã\\x82Â\\xa0Ã\\x82Â\\xa0Ã\\x82Â\\xa0Ã\\x82Â\\xa0Ã\\x82Â\\xa0Ã\\x82Â\\xa0Ã\\x82Â\\xa0Ã\\x82Â\\xa0Ã\\x82Â\\xa0Ã\\x82Â\\xa0Ã\\x82Â\\xa0Ã\\x82Â\\xa0Ã\\x82Â\\xa0Ã\\x82Â\\xa0', level='paid', Churn=1),\n",
       " Row(userId='100014', firstname='Rodrigo', ts=1539326135000, page='NextSong', method='PUT', sessionId=93, song='Pervigilo', level='paid', Churn=1),\n",
       " Row(userId='100014', firstname='Rodrigo', ts=1539326468000, page='NextSong', method='PUT', sessionId=93, song=\"Mary's New Car\", level='paid', Churn=1),\n",
       " Row(userId='100014', firstname='Rodrigo', ts=1539326691000, page='NextSong', method='PUT', sessionId=93, song='My Friend Dario', level='paid', Churn=1),\n",
       " Row(userId='100014', firstname='Rodrigo', ts=1539326909000, page='NextSong', method='PUT', sessionId=93, song='Horn Concerto No. 4 in E flat K495: II. Romance (Andante cantabile)', level='paid', Churn=1),\n",
       " Row(userId='100014', firstname='Rodrigo', ts=1539327186000, page='NextSong', method='PUT', sessionId=93, song='Wicked', level='paid', Churn=1),\n",
       " Row(userId='100014', firstname='Rodrigo', ts=1539327517000, page='NextSong', method='PUT', sessionId=93, song='Midnattens Widunder', level='paid', Churn=1),\n",
       " Row(userId='100014', firstname='Rodrigo', ts=1539327795000, page='NextSong', method='PUT', sessionId=93, song='Heaven', level='paid', Churn=1),\n",
       " Row(userId='100014', firstname='Rodrigo', ts=1539328038000, page='NextSong', method='PUT', sessionId=93, song='Walk It Off', level='paid', Churn=1),\n",
       " Row(userId='100014', firstname='Rodrigo', ts=1539708375000, page='Home', method='GET', sessionId=98, song=None, level='paid', Churn=1),\n",
       " Row(userId='100014', firstname='Rodrigo', ts=1539708387000, page='NextSong', method='PUT', sessionId=98, song='Somebody To Love', level='paid', Churn=1),\n",
       " Row(userId='100014', firstname='Rodrigo', ts=1539708388000, page='Thumbs Up', method='PUT', sessionId=98, song=None, level='paid', Churn=1),\n",
       " Row(userId='100014', firstname='Rodrigo', ts=1539708607000, page='NextSong', method='PUT', sessionId=98, song='What If?', level='paid', Churn=1),\n",
       " Row(userId='100014', firstname='Rodrigo', ts=1539708619000, page='Home', method='GET', sessionId=98, song=None, level='paid', Churn=1),\n",
       " Row(userId='100014', firstname='Rodrigo', ts=1539708999000, page='NextSong', method='PUT', sessionId=98, song='(Pop)Ular SciencE (Album Version)', level='paid', Churn=1),\n",
       " Row(userId='100014', firstname='Rodrigo', ts=1539709250000, page='NextSong', method='PUT', sessionId=98, song='Tengo Hambre', level='paid', Churn=1),\n",
       " Row(userId='100014', firstname='Rodrigo', ts=1539709262000, page='Roll Advert', method='GET', sessionId=98, song=None, level='paid', Churn=1),\n",
       " Row(userId='100014', firstname='Rodrigo', ts=1539709494000, page='NextSong', method='PUT', sessionId=98, song='Rollout (My Business)', level='paid', Churn=1),\n",
       " Row(userId='100014', firstname='Rodrigo', ts=1539709790000, page='NextSong', method='PUT', sessionId=98, song='Bitter Sweet Symphony', level='paid', Churn=1),\n",
       " Row(userId='100014', firstname='Rodrigo', ts=1539710150000, page='NextSong', method='PUT', sessionId=98, song='Chao Lola (Album Version)', level='paid', Churn=1),\n",
       " Row(userId='100014', firstname='Rodrigo', ts=1539710383000, page='NextSong', method='PUT', sessionId=98, song=\"Let's Make Nasty (feat. Roxy Cottontail)\", level='paid', Churn=1),\n",
       " Row(userId='100014', firstname='Rodrigo', ts=1539710384000, page='Thumbs Up', method='PUT', sessionId=98, song=None, level='paid', Churn=1),\n",
       " Row(userId='100014', firstname='Rodrigo', ts=1539710697000, page='NextSong', method='PUT', sessionId=98, song=\"The Warrior's Code\", level='paid', Churn=1),\n",
       " Row(userId='100014', firstname='Rodrigo', ts=1539710948000, page='NextSong', method='PUT', sessionId=98, song='Injection', level='paid', Churn=1),\n",
       " Row(userId='100014', firstname='Rodrigo', ts=1539711147000, page='NextSong', method='PUT', sessionId=98, song='First Day Of My Life (Single Version)', level='paid', Churn=1),\n",
       " Row(userId='100014', firstname='Rodrigo', ts=1539711148000, page='Logout', method='PUT', sessionId=98, song=None, level='paid', Churn=1),\n",
       " Row(userId='100014', firstname='Rodrigo', ts=1539711211000, page='Home', method='GET', sessionId=98, song=None, level='paid', Churn=1),\n",
       " Row(userId='100014', firstname='Rodrigo', ts=1539711337000, page='NextSong', method='PUT', sessionId=98, song='Carry Me In Your Dreams (Albania)', level='paid', Churn=1),\n",
       " Row(userId='100014', firstname='Rodrigo', ts=1539711522000, page='NextSong', method='PUT', sessionId=98, song='Lithium', level='paid', Churn=1),\n",
       " Row(userId='100014', firstname='Rodrigo', ts=1539711845000, page='NextSong', method='PUT', sessionId=98, song='Invalid', level='paid', Churn=1),\n",
       " Row(userId='100014', firstname='Rodrigo', ts=1539712078000, page='NextSong', method='PUT', sessionId=98, song='Right Here', level='paid', Churn=1),\n",
       " Row(userId='100014', firstname='Rodrigo', ts=1539712241000, page='NextSong', method='PUT', sessionId=98, song=\"Sensiz istanbul'a dÃ\\x83Â¼smanim\", level='paid', Churn=1),\n",
       " Row(userId='100014', firstname='Rodrigo', ts=1539712523000, page='NextSong', method='PUT', sessionId=98, song='Billionaire', level='paid', Churn=1),\n",
       " Row(userId='100014', firstname='Rodrigo', ts=1539712775000, page='NextSong', method='PUT', sessionId=98, song=\"You're The One\", level='paid', Churn=1),\n",
       " Row(userId='100014', firstname='Rodrigo', ts=1539713014000, page='NextSong', method='PUT', sessionId=98, song=\"Do That There (featuring Dude 'N Nem)\", level='paid', Churn=1),\n",
       " Row(userId='100014', firstname='Rodrigo', ts=1539713244000, page='NextSong', method='PUT', sessionId=98, song='Smaller and Better Things', level='paid', Churn=1),\n",
       " Row(userId='100014', firstname='Rodrigo', ts=1539713452000, page='NextSong', method='PUT', sessionId=98, song='Frenchy\\x19s', level='paid', Churn=1),\n",
       " Row(userId='100014', firstname='Rodrigo', ts=1539713626000, page='NextSong', method='PUT', sessionId=98, song='Half Alive', level='paid', Churn=1),\n",
       " Row(userId='100014', firstname='Rodrigo', ts=1539713849000, page='NextSong', method='PUT', sessionId=98, song='Teardrops', level='paid', Churn=1),\n",
       " Row(userId='100014', firstname='Rodrigo', ts=1539714075000, page='NextSong', method='PUT', sessionId=98, song='Tweaky', level='paid', Churn=1),\n",
       " Row(userId='100014', firstname='Rodrigo', ts=1539714489000, page='NextSong', method='PUT', sessionId=98, song='Ho Imparato A Sognare', level='paid', Churn=1),\n",
       " Row(userId='100014', firstname='Rodrigo', ts=1539714742000, page='NextSong', method='PUT', sessionId=98, song='Human', level='paid', Churn=1),\n",
       " Row(userId='100014', firstname='Rodrigo', ts=1539714743000, page='Thumbs Up', method='PUT', sessionId=98, song=None, level='paid', Churn=1),\n",
       " Row(userId='100014', firstname='Rodrigo', ts=1539714994000, page='NextSong', method='PUT', sessionId=98, song='Drop The World', level='paid', Churn=1),\n",
       " Row(userId='100014', firstname='Rodrigo', ts=1539715223000, page='NextSong', method='PUT', sessionId=98, song='Pa Pa Pa', level='paid', Churn=1),\n",
       " Row(userId='100014', firstname='Rodrigo', ts=1539715434000, page='NextSong', method='PUT', sessionId=98, song='The Day Before The Day', level='paid', Churn=1),\n",
       " Row(userId='100014', firstname='Rodrigo', ts=1539715687000, page='NextSong', method='PUT', sessionId=98, song=\"I'll Be Missing You (Featuring Faith Evans & 112)(Album Version)\", level='paid', Churn=1),\n",
       " Row(userId='100014', firstname='Rodrigo', ts=1539715688000, page='Thumbs Up', method='PUT', sessionId=98, song=None, level='paid', Churn=1),\n",
       " Row(userId='100014', firstname='Rodrigo', ts=1539716030000, page='NextSong', method='PUT', sessionId=98, song='Perhaps_ Perhaps_ Perhaps', level='paid', Churn=1),\n",
       " Row(userId='100014', firstname='Rodrigo', ts=1539716315000, page='NextSong', method='PUT', sessionId=98, song='Something In The Way', level='paid', Churn=1),\n",
       " Row(userId='100014', firstname='Rodrigo', ts=1539716316000, page='Thumbs Up', method='PUT', sessionId=98, song=None, level='paid', Churn=1),\n",
       " Row(userId='100014', firstname='Rodrigo', ts=1539716319000, page='Add to Playlist', method='PUT', sessionId=98, song=None, level='paid', Churn=1),\n",
       " Row(userId='100014', firstname='Rodrigo', ts=1539716547000, page='NextSong', method='PUT', sessionId=98, song=\"Didn't We (Album Version)\", level='paid', Churn=1),\n",
       " Row(userId='100014', firstname='Rodrigo', ts=1539716822000, page='NextSong', method='PUT', sessionId=98, song='Be My Baby', level='paid', Churn=1),\n",
       " Row(userId='100014', firstname='Rodrigo', ts=1539716981000, page='NextSong', method='PUT', sessionId=98, song=\"Ghosts 'n' Stuff (Original Instrumental Mix)\", level='paid', Churn=1),\n",
       " Row(userId='100014', firstname='Rodrigo', ts=1539717355000, page='NextSong', method='PUT', sessionId=98, song=\"God's Snake\", level='paid', Churn=1),\n",
       " Row(userId='100014', firstname='Rodrigo', ts=1539717602000, page='NextSong', method='PUT', sessionId=98, song='Losing Sight', level='paid', Churn=1),\n",
       " Row(userId='100014', firstname='Rodrigo', ts=1539717805000, page='NextSong', method='PUT', sessionId=98, song='No Cars Go', level='paid', Churn=1),\n",
       " Row(userId='100014', firstname='Rodrigo', ts=1539718148000, page='NextSong', method='PUT', sessionId=98, song='Tu Mira (Edit)', level='paid', Churn=1),\n",
       " Row(userId='100014', firstname='Rodrigo', ts=1539718387000, page='NextSong', method='PUT', sessionId=98, song='Tive Sim', level='paid', Churn=1),\n",
       " Row(userId='100014', firstname='Rodrigo', ts=1539718514000, page='NextSong', method='PUT', sessionId=98, song='Mistadobalina', level='paid', Churn=1),\n",
       " Row(userId='100014', firstname='Rodrigo', ts=1539718771000, page='NextSong', method='PUT', sessionId=98, song='Run Through The Jungle', level='paid', Churn=1),\n",
       " Row(userId='100014', firstname='Rodrigo', ts=1539718772000, page='Add Friend', method='PUT', sessionId=98, song=None, level='paid', Churn=1),\n",
       " Row(userId='100014', firstname='Rodrigo', ts=1539718773000, page='Add Friend', method='PUT', sessionId=98, song=None, level='paid', Churn=1),\n",
       " Row(userId='100014', firstname='Rodrigo', ts=1539718774000, page='Add Friend', method='PUT', sessionId=98, song=None, level='paid', Churn=1),\n",
       " Row(userId='100014', firstname='Rodrigo', ts=1539718955000, page='NextSong', method='PUT', sessionId=98, song='America_ America', level='paid', Churn=1),\n",
       " Row(userId='100014', firstname='Rodrigo', ts=1539719228000, page='NextSong', method='PUT', sessionId=98, song='Bloodwork (Album Version)', level='paid', Churn=1),\n",
       " Row(userId='100014', firstname='Rodrigo', ts=1539719426000, page='NextSong', method='PUT', sessionId=98, song='Hero (Album Version)', level='paid', Churn=1),\n",
       " Row(userId='100014', firstname='Rodrigo', ts=1539719612000, page='NextSong', method='PUT', sessionId=98, song='The Bomb Dot Com V2.0', level='paid', Churn=1),\n",
       " Row(userId='100014', firstname='Rodrigo', ts=1539719823000, page='NextSong', method='PUT', sessionId=98, song='FFT (The Good_ The Bad_ And The Ugly Album Version)', level='paid', Churn=1),\n",
       " Row(userId='100014', firstname='Rodrigo', ts=1539719888000, page='NextSong', method='PUT', sessionId=98, song='High Road (Album Version)', level='paid', Churn=1),\n",
       " Row(userId='100014', firstname='Rodrigo', ts=1539720084000, page='NextSong', method='PUT', sessionId=98, song='How Come', level='paid', Churn=1),\n",
       " Row(userId='100014', firstname='Rodrigo', ts=1539720337000, page='NextSong', method='PUT', sessionId=98, song='Boombox', level='paid', Churn=1),\n",
       " Row(userId='100014', firstname='Rodrigo', ts=1539720338000, page='Thumbs Up', method='PUT', sessionId=98, song=None, level='paid', Churn=1),\n",
       " Row(userId='100014', firstname='Rodrigo', ts=1539720529000, page='NextSong', method='PUT', sessionId=98, song='Ein Schiff Wird Kommen...', level='paid', Churn=1),\n",
       " Row(userId='100014', firstname='Rodrigo', ts=1539720705000, page='NextSong', method='PUT', sessionId=98, song='My Little Beautiful', level='paid', Churn=1),\n",
       " Row(userId='100014', firstname='Rodrigo', ts=1539720706000, page='Thumbs Down', method='PUT', sessionId=98, song=None, level='paid', Churn=1),\n",
       " Row(userId='100014', firstname='Rodrigo', ts=1539720707000, page='Help', method='GET', sessionId=98, song=None, level='paid', Churn=1),\n",
       " Row(userId='100014', firstname='Rodrigo', ts=1539721044000, page='NextSong', method='PUT', sessionId=98, song='Cruz de Olvido', level='paid', Churn=1),\n",
       " Row(userId='100014', firstname='Rodrigo', ts=1539721368000, page='NextSong', method='PUT', sessionId=98, song='December 2 Chapter VII', level='paid', Churn=1),\n",
       " Row(userId='100014', firstname='Rodrigo', ts=1539721659000, page='NextSong', method='PUT', sessionId=98, song='Molly', level='paid', Churn=1),\n",
       " Row(userId='100014', firstname='Rodrigo', ts=1539721893000, page='NextSong', method='PUT', sessionId=98, song='Revelry', level='paid', Churn=1),\n",
       " Row(userId='100014', firstname='Rodrigo', ts=1539721962000, page='Add to Playlist', method='PUT', sessionId=98, song=None, level='paid', Churn=1),\n",
       " Row(userId='100014', firstname='Rodrigo', ts=1539722094000, page='NextSong', method='PUT', sessionId=98, song='Just Dance', level='paid', Churn=1),\n",
       " Row(userId='100014', firstname='Rodrigo', ts=1539722332000, page='NextSong', method='PUT', sessionId=98, song='Landslide', level='paid', Churn=1),\n",
       " Row(userId='100014', firstname='Rodrigo', ts=1539722561000, page='NextSong', method='PUT', sessionId=98, song='I Believe (DJ Tandu Mix)', level='paid', Churn=1),\n",
       " Row(userId='100014', firstname='Rodrigo', ts=1539723081000, page='NextSong', method='PUT', sessionId=98, song='First Dance', level='paid', Churn=1),\n",
       " Row(userId='100014', firstname='Rodrigo', ts=1539723303000, page='NextSong', method='PUT', sessionId=98, song=\"Only When I'm Drunk\", level='paid', Churn=1),\n",
       " Row(userId='100014', firstname='Rodrigo', ts=1539723520000, page='NextSong', method='PUT', sessionId=98, song='Wonderful Tonight [Duet With Ivan Lins] (Album Version)', level='paid', Churn=1),\n",
       " Row(userId='100014', firstname='Rodrigo', ts=1539723772000, page='NextSong', method='PUT', sessionId=98, song='Good Times', level='paid', Churn=1),\n",
       " Row(userId='100014', firstname='Rodrigo', ts=1539724007000, page='NextSong', method='PUT', sessionId=98, song='No Love (Album Version)', level='paid', Churn=1),\n",
       " Row(userId='100014', firstname='Rodrigo', ts=1539724201000, page='NextSong', method='PUT', sessionId=98, song='Un Misil En Mi Placard', level='paid', Churn=1),\n",
       " Row(userId='100014', firstname='Rodrigo', ts=1539724472000, page='NextSong', method='PUT', sessionId=98, song='No Names (Black Debbie)', level='paid', Churn=1),\n",
       " Row(userId='100014', firstname='Rodrigo', ts=1539724659000, page='NextSong', method='PUT', sessionId=98, song='The Flying Club Cup', level='paid', Churn=1),\n",
       " Row(userId='100014', firstname='Rodrigo', ts=1539724660000, page='Thumbs Up', method='PUT', sessionId=98, song=None, level='paid', Churn=1),\n",
       " Row(userId='100014', firstname='Rodrigo', ts=1539724696000, page='Add to Playlist', method='PUT', sessionId=98, song=None, level='paid', Churn=1),\n",
       " Row(userId='100014', firstname='Rodrigo', ts=1539724844000, page='NextSong', method='PUT', sessionId=98, song='Stop! In The Name Of Love', level='paid', Churn=1),\n",
       " Row(userId='100014', firstname='Rodrigo', ts=1539724886000, page='Downgrade', method='GET', sessionId=98, song=None, level='paid', Churn=1),\n",
       " Row(userId='100014', firstname='Rodrigo', ts=1539725020000, page='NextSong', method='PUT', sessionId=98, song='A Guy Like You', level='paid', Churn=1),\n",
       " Row(userId='100014', firstname='Rodrigo', ts=1539725030000, page='Add to Playlist', method='PUT', sessionId=98, song=None, level='paid', Churn=1),\n",
       " Row(userId='100014', firstname='Rodrigo', ts=1539725279000, page='NextSong', method='PUT', sessionId=98, song='Pa Mi Casa', level='paid', Churn=1),\n",
       " Row(userId='100014', firstname='Rodrigo', ts=1539725280000, page='Logout', method='PUT', sessionId=98, song=None, level='paid', Churn=1),\n",
       " Row(userId='100014', firstname='Rodrigo', ts=1540047564000, page='Home', method='GET', sessionId=119, song=None, level='paid', Churn=1),\n",
       " Row(userId='100014', firstname='Rodrigo', ts=1540047703000, page='NextSong', method='PUT', sessionId=119, song='There You Go', level='paid', Churn=1),\n",
       " Row(userId='100014', firstname='Rodrigo', ts=1540047903000, page='NextSong', method='PUT', sessionId=119, song=\"More Fire ('93 Ting Mix)\", level='paid', Churn=1),\n",
       " Row(userId='100014', firstname='Rodrigo', ts=1540048170000, page='NextSong', method='PUT', sessionId=119, song='The Who', level='paid', Churn=1),\n",
       " Row(userId='100014', firstname='Rodrigo', ts=1540048171000, page='Add Friend', method='PUT', sessionId=119, song=None, level='paid', Churn=1),\n",
       " Row(userId='100014', firstname='Rodrigo', ts=1540048439000, page='NextSong', method='PUT', sessionId=119, song='Murder The Government', level='paid', Churn=1),\n",
       " Row(userId='100014', firstname='Rodrigo', ts=1540048484000, page='NextSong', method='PUT', sessionId=119, song='Blue', level='paid', Churn=1),\n",
       " Row(userId='100014', firstname='Rodrigo', ts=1540048737000, page='NextSong', method='PUT', sessionId=119, song='Dog Days Are Over (Radio Edit)', level='paid', Churn=1),\n",
       " Row(userId='100014', firstname='Rodrigo', ts=1540048956000, page='NextSong', method='PUT', sessionId=119, song='The Thousand Names of Lord Shiva (Part 1)', level='paid', Churn=1),\n",
       " Row(userId='100014', firstname='Rodrigo', ts=1540051550000, page='NextSong', method='PUT', sessionId=119, song='Higher', level='paid', Churn=1),\n",
       " Row(userId='100014', firstname='Rodrigo', ts=1540051876000, page='NextSong', method='PUT', sessionId=119, song='How Long', level='paid', Churn=1),\n",
       " Row(userId='100014', firstname='Rodrigo', ts=1540052115000, page='NextSong', method='PUT', sessionId=119, song='Jesus_ Etc.', level='paid', Churn=1),\n",
       " Row(userId='100014', firstname='Rodrigo', ts=1540052354000, page='NextSong', method='PUT', sessionId=119, song='Helplessly Hoping (LP Version)', level='paid', Churn=1),\n",
       " Row(userId='100014', firstname='Rodrigo', ts=1540052515000, page='NextSong', method='PUT', sessionId=119, song=\"When I Get Where I'm Going\", level='paid', Churn=1),\n",
       " Row(userId='100014', firstname='Rodrigo', ts=1540052762000, page='NextSong', method='PUT', sessionId=119, song='Roni', level='paid', Churn=1),\n",
       " Row(userId='100014', firstname='Rodrigo', ts=1540053119000, page='NextSong', method='PUT', sessionId=119, song='Take It In', level='paid', Churn=1),\n",
       " Row(userId='100014', firstname='Rodrigo', ts=1540053120000, page='Thumbs Up', method='PUT', sessionId=119, song=None, level='paid', Churn=1),\n",
       " Row(userId='100014', firstname='Rodrigo', ts=1540053368000, page='NextSong', method='PUT', sessionId=119, song='The Darkest Nights', level='paid', Churn=1),\n",
       " Row(userId='100014', firstname='Rodrigo', ts=1540053599000, page='NextSong', method='PUT', sessionId=119, song='La Parte De Adelante', level='paid', Churn=1),\n",
       " Row(userId='100014', firstname='Rodrigo', ts=1540053631000, page='Home', method='GET', sessionId=119, song=None, level='paid', Churn=1),\n",
       " Row(userId='100014', firstname='Rodrigo', ts=1540053861000, page='NextSong', method='PUT', sessionId=119, song='Untitled Sad Song', level='paid', Churn=1),\n",
       " Row(userId='100014', firstname='Rodrigo', ts=1540054082000, page='NextSong', method='PUT', sessionId=119, song='Esisti Tu', level='paid', Churn=1),\n",
       " Row(userId='100014', firstname='Rodrigo', ts=1540054283000, page='NextSong', method='PUT', sessionId=119, song='Take It Off (Dim The Lights) (Edited Album Version)', level='paid', Churn=1),\n",
       " Row(userId='100014', firstname='Rodrigo', ts=1540054529000, page='NextSong', method='PUT', sessionId=119, song='Fast Forward To 2012 (Album Version)', level='paid', Churn=1),\n",
       " Row(userId='100014', firstname='Rodrigo', ts=1540054624000, page='NextSong', method='PUT', sessionId=119, song='DVNO', level='paid', Churn=1),\n",
       " Row(userId='100014', firstname='Rodrigo', ts=1540054860000, page='NextSong', method='PUT', sessionId=119, song='Creature Fear', level='paid', Churn=1),\n",
       " Row(userId='100014', firstname='Rodrigo', ts=1540055046000, page='NextSong', method='PUT', sessionId=119, song='One Less Lonely Girl', level='paid', Churn=1),\n",
       " Row(userId='100014', firstname='Rodrigo', ts=1540055275000, page='NextSong', method='PUT', sessionId=119, song='Magic America', level='paid', Churn=1),\n",
       " Row(userId='100014', firstname='Rodrigo', ts=1540055493000, page='NextSong', method='PUT', sessionId=119, song='Presidential (Explicit Album Version)', level='paid', Churn=1),\n",
       " Row(userId='100014', firstname='Rodrigo', ts=1540055738000, page='NextSong', method='PUT', sessionId=119, song=\"Who's Real\", level='paid', Churn=1),\n",
       " Row(userId='100014', firstname='Rodrigo', ts=1540055929000, page='NextSong', method='PUT', sessionId=119, song=\"You're The One\", level='paid', Churn=1),\n",
       " Row(userId='100014', firstname='Rodrigo', ts=1540056168000, page='NextSong', method='PUT', sessionId=119, song=\"Devil's path\", level='paid', Churn=1),\n",
       " Row(userId='100014', firstname='Rodrigo', ts=1540056535000, page='NextSong', method='PUT', sessionId=119, song=\"Show 'Em A Better Way\", level='paid', Churn=1),\n",
       " Row(userId='100014', firstname='Rodrigo', ts=1540056763000, page='NextSong', method='PUT', sessionId=119, song='Walk On The Water', level='paid', Churn=1),\n",
       " Row(userId='100014', firstname='Rodrigo', ts=1540056992000, page='NextSong', method='PUT', sessionId=119, song='Call It Off (Album Version)', level='paid', Churn=1),\n",
       " Row(userId='100014', firstname='Rodrigo', ts=1540057133000, page='NextSong', method='PUT', sessionId=119, song='Temptation', level='paid', Churn=1),\n",
       " Row(userId='100014', firstname='Rodrigo', ts=1540057134000, page='Thumbs Up', method='PUT', sessionId=119, song=None, level='paid', Churn=1),\n",
       " Row(userId='100014', firstname='Rodrigo', ts=1540057412000, page='NextSong', method='PUT', sessionId=119, song='Sehr kosmisch', level='paid', Churn=1),\n",
       " Row(userId='100014', firstname='Rodrigo', ts=1540058067000, page='NextSong', method='PUT', sessionId=119, song='You And Me (Wedding Version)', level='paid', Churn=1),\n",
       " Row(userId='100014', firstname='Rodrigo', ts=1540058262000, page='NextSong', method='PUT', sessionId=119, song='Psychotic Reaction', level='paid', Churn=1),\n",
       " Row(userId='100014', firstname='Rodrigo', ts=1540058451000, page='NextSong', method='PUT', sessionId=119, song='Sehr kosmisch', level='paid', Churn=1),\n",
       " Row(userId='100014', firstname='Rodrigo', ts=1540059106000, page='NextSong', method='PUT', sessionId=119, song='Flaca', level='paid', Churn=1),\n",
       " Row(userId='100014', firstname='Rodrigo', ts=1540059107000, page='Logout', method='PUT', sessionId=119, song=None, level='paid', Churn=1),\n",
       " Row(userId='100014', firstname='Rodrigo', ts=1540059486000, page='Home', method='GET', sessionId=119, song=None, level='paid', Churn=1),\n",
       " Row(userId='100014', firstname='Rodrigo', ts=1540059488000, page='NextSong', method='PUT', sessionId=119, song='Thinking About Tomorrow', level='paid', Churn=1),\n",
       " Row(userId='100014', firstname='Rodrigo', ts=1540059888000, page='NextSong', method='PUT', sessionId=119, song='Whatcha Say', level='paid', Churn=1),\n",
       " Row(userId='100014', firstname='Rodrigo', ts=1540059931000, page='Roll Advert', method='GET', sessionId=119, song=None, level='paid', Churn=1),\n",
       " Row(userId='100014', firstname='Rodrigo', ts=1540060110000, page='NextSong', method='PUT', sessionId=119, song='Fascination (Extended Remix)', level='paid', Churn=1),\n",
       " Row(userId='100014', firstname='Rodrigo', ts=1540060406000, page='NextSong', method='PUT', sessionId=119, song='Even Flow', level='paid', Churn=1),\n",
       " Row(userId='100014', firstname='Rodrigo', ts=1540060699000, page='NextSong', method='PUT', sessionId=119, song='Paradise Circus (Gui Boratto Remix)', level='paid', Churn=1),\n",
       " Row(userId='100014', firstname='Rodrigo', ts=1540061186000, page='NextSong', method='PUT', sessionId=119, song=\"Heart Ain't A Brain\", level='paid', Churn=1),\n",
       " Row(userId='100014', firstname='Rodrigo', ts=1540061406000, page='NextSong', method='PUT', sessionId=119, song='The Good Times Are Killing Me', level='paid', Churn=1),\n",
       " Row(userId='100014', firstname='Rodrigo', ts=1540061407000, page='Thumbs Up', method='PUT', sessionId=119, song=None, level='paid', Churn=1),\n",
       " Row(userId='100014', firstname='Rodrigo', ts=1541740212000, page='NextSong', method='PUT', sessionId=134, song='Wish You Were Here', level='paid', Churn=1),\n",
       " Row(userId='100014', firstname='Rodrigo', ts=1541740419000, page='NextSong', method='PUT', sessionId=134, song=\"Don't Let Me Fall\", level='paid', Churn=1),\n",
       " Row(userId='100014', firstname='Rodrigo', ts=1542726234000, page='Home', method='GET', sessionId=185, song=None, level='paid', Churn=1),\n",
       " Row(userId='100014', firstname='Rodrigo', ts=1542726348000, page='NextSong', method='PUT', sessionId=185, song='Come On', level='paid', Churn=1),\n",
       " Row(userId='100014', firstname='Rodrigo', ts=1542726576000, page='NextSong', method='PUT', sessionId=185, song='In The Closet', level='paid', Churn=1),\n",
       " Row(userId='100014', firstname='Rodrigo', ts=1542726966000, page='NextSong', method='PUT', sessionId=185, song=\"I'm All Right\", level='paid', Churn=1),\n",
       " Row(userId='100014', firstname='Rodrigo', ts=1542727172000, page='NextSong', method='PUT', sessionId=185, song='Hold You In My Arms', level='paid', Churn=1),\n",
       " Row(userId='100014', firstname='Rodrigo', ts=1542727478000, page='NextSong', method='PUT', sessionId=185, song='Safe Dolphin (Live Bonus Track) (LP Version)', level='paid', Churn=1),\n",
       " Row(userId='100014', firstname='Rodrigo', ts=1542727898000, page='NextSong', method='PUT', sessionId=185, song='Tea For The Tillerman', level='paid', Churn=1),\n",
       " Row(userId='100014', firstname='Rodrigo', ts=1542727959000, page='NextSong', method='PUT', sessionId=185, song=\"It's Time\", level='paid', Churn=1),\n",
       " Row(userId='100014', firstname='Rodrigo', ts=1542728107000, page='NextSong', method='PUT', sessionId=185, song=\"Player's Anthem feat. Notorious B.I.G._ Lil\\x19 Cease and Lil\\x19 Kim\", level='paid', Churn=1),\n",
       " Row(userId='100014', firstname='Rodrigo', ts=1542728415000, page='NextSong', method='PUT', sessionId=185, song='Nahoda', level='paid', Churn=1),\n",
       " Row(userId='100014', firstname='Rodrigo', ts=1542728635000, page='NextSong', method='PUT', sessionId=185, song='Te EspÃ\\x83Â\\xado Y Te Archivo', level='paid', Churn=1),\n",
       " Row(userId='100014', firstname='Rodrigo', ts=1542728829000, page='NextSong', method='PUT', sessionId=185, song='Imagine Dead John Lennon', level='paid', Churn=1),\n",
       " Row(userId='100014', firstname='Rodrigo', ts=1542728925000, page='NextSong', method='PUT', sessionId=185, song='Poor Georgie (Explicit LP Version)', level='paid', Churn=1),\n",
       " Row(userId='100014', firstname='Rodrigo', ts=1542728926000, page='Thumbs Up', method='PUT', sessionId=185, song=None, level='paid', Churn=1),\n",
       " Row(userId='100014', firstname='Rodrigo', ts=1542729196000, page='NextSong', method='PUT', sessionId=185, song='Be With You', level='paid', Churn=1),\n",
       " Row(userId='100014', firstname='Rodrigo', ts=1542729415000, page='NextSong', method='PUT', sessionId=185, song='Lullaby', level='paid', Churn=1),\n",
       " Row(userId='100014', firstname='Rodrigo', ts=1542729537000, page='NextSong', method='PUT', sessionId=185, song='No Me Des La Brasa', level='paid', Churn=1),\n",
       " Row(userId='100014', firstname='Rodrigo', ts=1542729809000, page='NextSong', method='PUT', sessionId=185, song='Spaceman', level='paid', Churn=1),\n",
       " Row(userId='100014', firstname='Rodrigo', ts=1542730093000, page='NextSong', method='PUT', sessionId=185, song='Found Home', level='paid', Churn=1),\n",
       " Row(userId='100014', firstname='Rodrigo', ts=1542730237000, page='NextSong', method='PUT', sessionId=185, song='Karma Police', level='paid', Churn=1),\n",
       " Row(userId='100014', firstname='Rodrigo', ts=1542730267000, page='Add to Playlist', method='PUT', sessionId=185, song=None, level='paid', Churn=1),\n",
       " Row(userId='100014', firstname='Rodrigo', ts=1542730498000, page='NextSong', method='PUT', sessionId=185, song='Teach Me Tiger', level='paid', Churn=1),\n",
       " Row(userId='100014', firstname='Rodrigo', ts=1542730641000, page='NextSong', method='PUT', sessionId=185, song='Llamado De Emergencia', level='paid', Churn=1),\n",
       " Row(userId='100014', firstname='Rodrigo', ts=1542730880000, page='NextSong', method='PUT', sessionId=185, song='Upside Down', level='paid', Churn=1),\n",
       " Row(userId='100014', firstname='Rodrigo', ts=1542730888000, page='Downgrade', method='GET', sessionId=185, song=None, level='paid', Churn=1),\n",
       " Row(userId='100014', firstname='Rodrigo', ts=1542731073000, page='NextSong', method='PUT', sessionId=185, song='I Remember', level='paid', Churn=1),\n",
       " Row(userId='100014', firstname='Rodrigo', ts=1542731402000, page='NextSong', method='PUT', sessionId=185, song='Home', level='paid', Churn=1),\n",
       " Row(userId='100014', firstname='Rodrigo', ts=1542731708000, page='NextSong', method='PUT', sessionId=185, song='Helena (So Long & Goodnight) (Album Version)', level='paid', Churn=1),\n",
       " Row(userId='100014', firstname='Rodrigo', ts=1542731911000, page='NextSong', method='PUT', sessionId=185, song='Do You Want It AllÃ\\x82Â\\xa0?', level='paid', Churn=1),\n",
       " Row(userId='100014', firstname='Rodrigo', ts=1542732119000, page='NextSong', method='PUT', sessionId=185, song='Power to Move the Stars', level='paid', Churn=1),\n",
       " Row(userId='100014', firstname='Rodrigo', ts=1542732381000, page='NextSong', method='PUT', sessionId=185, song=\"Beggin' (LP Version)\", level='paid', Churn=1),\n",
       " Row(userId='100014', firstname='Rodrigo', ts=1542732551000, page='NextSong', method='PUT', sessionId=185, song='Wet Blanket', level='paid', Churn=1),\n",
       " Row(userId='100014', firstname='Rodrigo', ts=1542732798000, page='NextSong', method='PUT', sessionId=185, song='Clean Up Crew (feat. Rock of Heltah Skeltah)', level='paid', Churn=1),\n",
       " Row(userId='100014', firstname='Rodrigo', ts=1542733034000, page='NextSong', method='PUT', sessionId=185, song='The Concept', level='paid', Churn=1),\n",
       " Row(userId='100014', firstname='Rodrigo', ts=1542733217000, page='NextSong', method='PUT', sessionId=185, song='AMERIKA', level='paid', Churn=1),\n",
       " Row(userId='100014', firstname='Rodrigo', ts=1542733443000, page='NextSong', method='PUT', sessionId=185, song='Nao Falo Portugues Jazz Rework', level='paid', Churn=1),\n",
       " Row(userId='100014', firstname='Rodrigo', ts=1542733444000, page='Thumbs Up', method='PUT', sessionId=185, song=None, level='paid', Churn=1),\n",
       " Row(userId='100014', firstname='Rodrigo', ts=1542733668000, page='NextSong', method='PUT', sessionId=185, song='Agua Bendita', level='paid', Churn=1),\n",
       " Row(userId='100014', firstname='Rodrigo', ts=1542733669000, page='Thumbs Up', method='PUT', sessionId=185, song=None, level='paid', Churn=1),\n",
       " Row(userId='100014', firstname='Rodrigo', ts=1542733848000, page='NextSong', method='PUT', sessionId=185, song=\"Breakin' At The Cracks\", level='paid', Churn=1),\n",
       " Row(userId='100014', firstname='Rodrigo', ts=1542734189000, page='NextSong', method='PUT', sessionId=185, song='This Cowboy Song', level='paid', Churn=1),\n",
       " Row(userId='100014', firstname='Rodrigo', ts=1542734190000, page='Add Friend', method='PUT', sessionId=185, song=None, level='paid', Churn=1),\n",
       " Row(userId='100014', firstname='Rodrigo', ts=1542734488000, page='NextSong', method='PUT', sessionId=185, song='Soul Function', level='paid', Churn=1),\n",
       " Row(userId='100014', firstname='Rodrigo', ts=1542734923000, page='NextSong', method='PUT', sessionId=185, song='Speed Of Sound', level='paid', Churn=1),\n",
       " Row(userId='100014', firstname='Rodrigo', ts=1542735214000, page='NextSong', method='PUT', sessionId=185, song='Old Soul Song', level='paid', Churn=1),\n",
       " Row(userId='100014', firstname='Rodrigo', ts=1542735461000, page='NextSong', method='PUT', sessionId=185, song='Redbull (featuring Redman)', level='paid', Churn=1),\n",
       " Row(userId='100014', firstname='Rodrigo', ts=1542735694000, page='NextSong', method='PUT', sessionId=185, song=\"I'm a Broken Heart\", level='paid', Churn=1),\n",
       " Row(userId='100014', firstname='Rodrigo', ts=1542735964000, page='NextSong', method='PUT', sessionId=185, song='Love & Appreciate (Album Version)', level='paid', Churn=1),\n",
       " Row(userId='100014', firstname='Rodrigo', ts=1542736156000, page='NextSong', method='PUT', sessionId=185, song=\"If I Ain't Got You\", level='paid', Churn=1),\n",
       " Row(userId='100014', firstname='Rodrigo', ts=1542736385000, page='NextSong', method='PUT', sessionId=185, song='Back It Up', level='paid', Churn=1),\n",
       " Row(userId='100014', firstname='Rodrigo', ts=1542736615000, page='NextSong', method='PUT', sessionId=185, song='Horn Concerto No. 4 in E flat K495: II. Romance (Andante cantabile)', level='paid', Churn=1),\n",
       " Row(userId='100014', firstname='Rodrigo', ts=1542736892000, page='NextSong', method='PUT', sessionId=185, song='Salt Skin', level='paid', Churn=1),\n",
       " Row(userId='100014', firstname='Rodrigo', ts=1542737149000, page='NextSong', method='PUT', sessionId=185, song='Heaven', level='paid', Churn=1),\n",
       " Row(userId='100014', firstname='Rodrigo', ts=1542737392000, page='NextSong', method='PUT', sessionId=185, song='Nothing Better (Album)', level='paid', Churn=1),\n",
       " Row(userId='100014', firstname='Rodrigo', ts=1542737618000, page='NextSong', method='PUT', sessionId=185, song='Stripper Vicar', level='paid', Churn=1),\n",
       " Row(userId='100014', firstname='Rodrigo', ts=1542737867000, page='NextSong', method='PUT', sessionId=185, song='Mr.Officer', level='paid', Churn=1),\n",
       " Row(userId='100014', firstname='Rodrigo', ts=1542737868000, page='Thumbs Up', method='PUT', sessionId=185, song=None, level='paid', Churn=1),\n",
       " Row(userId='100014', firstname='Rodrigo', ts=1542738073000, page='NextSong', method='PUT', sessionId=185, song='Outro', level='paid', Churn=1),\n",
       " Row(userId='100014', firstname='Rodrigo', ts=1542738074000, page='Thumbs Down', method='PUT', sessionId=185, song=None, level='paid', Churn=1),\n",
       " Row(userId='100014', firstname='Rodrigo', ts=1542738585000, page='NextSong', method='PUT', sessionId=185, song='Situations', level='paid', Churn=1),\n",
       " Row(userId='100014', firstname='Rodrigo', ts=1542738662000, page='NextSong', method='PUT', sessionId=185, song='Ele Falava Nisso Todo Dia', level='paid', Churn=1),\n",
       " Row(userId='100014', firstname='Rodrigo', ts=1542738863000, page='NextSong', method='PUT', sessionId=185, song='West One (Shine On Me)', level='paid', Churn=1),\n",
       " Row(userId='100014', firstname='Rodrigo', ts=1542739201000, page='NextSong', method='PUT', sessionId=185, song='New Angel', level='paid', Churn=1),\n",
       " Row(userId='100014', firstname='Rodrigo', ts=1542739377000, page='NextSong', method='PUT', sessionId=185, song='Enter Sandman', level='paid', Churn=1),\n",
       " Row(userId='100014', firstname='Rodrigo', ts=1542739710000, page='NextSong', method='PUT', sessionId=185, song=\"The Warrior's Code\", level='paid', Churn=1),\n",
       " Row(userId='100014', firstname='Rodrigo', ts=1542739961000, page='NextSong', method='PUT', sessionId=185, song=\"Lookin' Out My Back Door\", level='paid', Churn=1),\n",
       " Row(userId='100014', firstname='Rodrigo', ts=1542739962000, page='Thumbs Up', method='PUT', sessionId=185, song=None, level='paid', Churn=1),\n",
       " Row(userId='100014', firstname='Rodrigo', ts=1542740028000, page='Add to Playlist', method='PUT', sessionId=185, song=None, level='paid', Churn=1),\n",
       " Row(userId='100014', firstname='Rodrigo', ts=1542740115000, page='NextSong', method='PUT', sessionId=185, song='Everything Is Everything', level='paid', Churn=1),\n",
       " Row(userId='100014', firstname='Rodrigo', ts=1542740352000, page='NextSong', method='PUT', sessionId=185, song='Sorry', level='paid', Churn=1),\n",
       " Row(userId='100014', firstname='Rodrigo', ts=1542740628000, page='NextSong', method='PUT', sessionId=185, song='Hoffnungen', level='paid', Churn=1),\n",
       " Row(userId='100014', firstname='Rodrigo', ts=1542740641000, page='Downgrade', method='GET', sessionId=185, song=None, level='paid', Churn=1),\n",
       " Row(userId='100014', firstname='Rodrigo', ts=1542740642000, page='Cancel', method='PUT', sessionId=185, song=None, level='paid', Churn=1),\n",
       " Row(userId='100014', firstname='Rodrigo', ts=1542740649000, page='Cancellation Confirmation', method='GET', sessionId=185, song=None, level='paid', Churn=1)]"
      ]
     },
     "execution_count": 71,
     "metadata": {},
     "output_type": "execute_result"
    }
   ],
   "source": [
    "df.select([\"userId\", \"firstname\", \"ts\", \"page\",\"method\",\"sessionId\",\"song\", \"level\", \"Churn\"]).where(df.userId == \"100014\").sort(\"ts\").collect()"
   ]
  },
  {
   "cell_type": "markdown",
   "metadata": {},
   "source": [
    "Exploratory Data Analysis on groups who stayed and churned"
   ]
  },
  {
   "cell_type": "code",
   "execution_count": 72,
   "metadata": {
    "scrolled": true
   },
   "outputs": [
    {
     "name": "stdout",
     "output_type": "stream",
     "text": [
      "+-----+------+\n",
      "|Churn| count|\n",
      "+-----+------+\n",
      "|    0|233290|\n",
      "|    1| 44864|\n",
      "+-----+------+\n",
      "\n"
     ]
    }
   ],
   "source": [
    "# About 16% churn rate\n",
    "df.groupby(\"Churn\").count().show()"
   ]
  },
  {
   "cell_type": "code",
   "execution_count": 73,
   "metadata": {},
   "outputs": [],
   "source": [
    "song_event = udf(lambda x: 1 if x == \"NextSong\" else 0, IntegerType())\n",
    "df = df.withColumn(\"listen\", song_event(\"page\"))"
   ]
  },
  {
   "cell_type": "markdown",
   "metadata": {},
   "source": [
    "On average, users who stayed listened to 676 songs and users who churned listened to 431 songs"
   ]
  },
  {
   "cell_type": "code",
   "execution_count": 74,
   "metadata": {},
   "outputs": [
    {
     "name": "stdout",
     "output_type": "stream",
     "text": [
      "+------------------+\n",
      "|        avg(count)|\n",
      "+------------------+\n",
      "|1108.1734104046243|\n",
      "+------------------+\n",
      "\n"
     ]
    }
   ],
   "source": [
    "df.filter(\"Churn == 0 and listen == 1\").groupby(\"userId\").count().agg({\"count\":\"avg\"}).show()"
   ]
  },
  {
   "cell_type": "code",
   "execution_count": 75,
   "metadata": {},
   "outputs": [
    {
     "name": "stdout",
     "output_type": "stream",
     "text": [
      "+-----------------+\n",
      "|       avg(count)|\n",
      "+-----------------+\n",
      "|699.8846153846154|\n",
      "+-----------------+\n",
      "\n"
     ]
    }
   ],
   "source": [
    "df.filter(\"Churn == 1 and listen == 1\").groupby(\"userId\").count().agg({\"count\":\"avg\"}).show()"
   ]
  },
  {
   "cell_type": "code",
   "execution_count": 76,
   "metadata": {},
   "outputs": [],
   "source": [
    "thumbsdown_event = udf(lambda x: 1 if x == \"Thumbs Down\" else 0, IntegerType())\n",
    "df = df.withColumn(\"ThumbsDown\", thumbsdown_event(\"page\"))\n",
    "help_event = udf(lambda x: 1 if x == \"Help\" else 0, IntegerType())\n",
    "df = df.withColumn(\"Help\", help_event(\"page\"))\n",
    "error_event = udf(lambda x: 1 if x == \"Error\" else 0, IntegerType())\n",
    "df = df.withColumn(\"Error\", error_event(\"page\"))\n",
    "ad_event = udf(lambda x: 1 if x == \"Roll Advert\" else 0, IntegerType())\n",
    "df = df.withColumn(\"Ad\", ad_event(\"page\"))\n"
   ]
  },
  {
   "cell_type": "code",
   "execution_count": 77,
   "metadata": {},
   "outputs": [
    {
     "name": "stdout",
     "output_type": "stream",
     "text": [
      "+------------------+\n",
      "|        avg(count)|\n",
      "+------------------+\n",
      "|13.225806451612904|\n",
      "+------------------+\n",
      "\n"
     ]
    }
   ],
   "source": [
    "df.filter(\"Churn == 0 and ThumbsDown == 1\").groupby(\"userId\").count().agg({\"count\":\"avg\"}).show()"
   ]
  },
  {
   "cell_type": "code",
   "execution_count": 78,
   "metadata": {},
   "outputs": [
    {
     "name": "stdout",
     "output_type": "stream",
     "text": [
      "+------------------+\n",
      "|        avg(count)|\n",
      "+------------------+\n",
      "|10.333333333333334|\n",
      "+------------------+\n",
      "\n"
     ]
    }
   ],
   "source": [
    "df.filter(\"Churn == 1 and ThumbsDown == 1\").groupby(\"userId\").count().agg({\"count\":\"avg\"}).show()"
   ]
  },
  {
   "cell_type": "code",
   "execution_count": 79,
   "metadata": {},
   "outputs": [
    {
     "name": "stdout",
     "output_type": "stream",
     "text": [
      "+-----------------+\n",
      "|       avg(count)|\n",
      "+-----------------+\n",
      "|8.154362416107382|\n",
      "+-----------------+\n",
      "\n"
     ]
    }
   ],
   "source": [
    "df.filter(\"Churn == 0 and Help == 1\").groupby(\"userId\").count().agg({\"count\":\"avg\"}).show()"
   ]
  },
  {
   "cell_type": "code",
   "execution_count": 80,
   "metadata": {},
   "outputs": [
    {
     "name": "stdout",
     "output_type": "stream",
     "text": [
      "+-----------------+\n",
      "|       avg(count)|\n",
      "+-----------------+\n",
      "|5.558139534883721|\n",
      "+-----------------+\n",
      "\n"
     ]
    }
   ],
   "source": [
    "df.filter(\"Churn == 1 and Help == 1\").groupby(\"userId\").count().agg({\"count\":\"avg\"}).show()"
   ]
  },
  {
   "cell_type": "code",
   "execution_count": 81,
   "metadata": {},
   "outputs": [
    {
     "name": "stdout",
     "output_type": "stream",
     "text": [
      "+------------------+\n",
      "|        avg(count)|\n",
      "+------------------+\n",
      "|2.3157894736842106|\n",
      "+------------------+\n",
      "\n"
     ]
    }
   ],
   "source": [
    "df.filter(\"Churn == 0 and Error == 1\").groupby(\"userId\").count().agg({\"count\":\"avg\"}).show()"
   ]
  },
  {
   "cell_type": "code",
   "execution_count": 82,
   "metadata": {},
   "outputs": [
    {
     "name": "stdout",
     "output_type": "stream",
     "text": [
      "+------------------+\n",
      "|        avg(count)|\n",
      "+------------------+\n",
      "|1.4545454545454546|\n",
      "+------------------+\n",
      "\n"
     ]
    }
   ],
   "source": [
    "df.filter(\"Churn == 1 and Error == 1\").groupby(\"userId\").count().agg({\"count\":\"avg\"}).show()"
   ]
  },
  {
   "cell_type": "code",
   "execution_count": 83,
   "metadata": {},
   "outputs": [
    {
     "name": "stdout",
     "output_type": "stream",
     "text": [
      "+-----------------+\n",
      "|       avg(count)|\n",
      "+-----------------+\n",
      "|18.89171974522293|\n",
      "+-----------------+\n",
      "\n"
     ]
    }
   ],
   "source": [
    "df.filter(\"Churn == 0 and Ad == 1\").groupby(\"userId\").count().agg({\"count\":\"avg\"}).show()"
   ]
  },
  {
   "cell_type": "code",
   "execution_count": 84,
   "metadata": {},
   "outputs": [
    {
     "name": "stdout",
     "output_type": "stream",
     "text": [
      "+----------+\n",
      "|avg(count)|\n",
      "+----------+\n",
      "|     19.34|\n",
      "+----------+\n",
      "\n"
     ]
    }
   ],
   "source": [
    "df.filter(\"Churn == 1 and Ad == 1\").groupby(\"userId\").count().agg({\"count\":\"avg\"}).show()"
   ]
  },
  {
   "cell_type": "markdown",
   "metadata": {},
   "source": [
    "# Feature Engineering\n",
    "Once you've familiarized yourself with the data, build out the features you find promising to train your model on. To work with the full dataset, you can follow the following steps.\n",
    "- Write a script to extract the necessary features from the smaller subset of data\n",
    "- Ensure that your script is scalable, using the best practices discussed in Lesson 3\n",
    "- Try your script on the full data set, debugging your script if necessary\n",
    "\n",
    "If you are working in the classroom workspace, you can just extract features based on the small subset of data contained here. Be sure to transfer over this work to the larger dataset when you work on your Spark cluster."
   ]
  },
  {
   "cell_type": "code",
   "execution_count": 85,
   "metadata": {},
   "outputs": [],
   "source": [
    "windowcum = Window.partitionBy(\"userId\").orderBy(\"ts\").rangeBetween(Window.unboundedPreceding, 0)\n",
    "df = df.withColumn(\"numSong\", Fsum(\"listen\").over(windowcum))\n",
    "df = df.withColumn(\"numThumbsDown\", Fsum(\"ThumbsDown\").over(windowcum))\n",
    "df = df.withColumn(\"numHelp\", Fsum(\"Help\").over(windowcum))\n",
    "df = df.withColumn(\"numError\", Fsum(\"Error\").over(windowcum))\n",
    "df = df.withColumn(\"numAd\", Fsum(\"Ad\").over(windowcum))"
   ]
  },
  {
   "cell_type": "code",
   "execution_count": 86,
   "metadata": {},
   "outputs": [
    {
     "data": {
      "text/plain": [
       "[Row(ts=1539177136000, page='NextSong', song='Welcome To The World of The Plastic Beach (Feat. Snoop Dogg and Hypnotic Brass Ensemble)', numSong=1, numThumbsDown=0, numHelp=0, numAd=0, Churn=1),\n",
       " Row(ts=1539177351000, page='NextSong', song='Odessa', numSong=2, numThumbsDown=0, numHelp=0, numAd=0, Churn=1),\n",
       " Row(ts=1539177476000, page='NextSong', song='Amapola', numSong=3, numThumbsDown=0, numHelp=0, numAd=0, Churn=1),\n",
       " Row(ts=1539177698000, page='NextSong', song='Exogenesis: Symphony Part 1 [Overture]', numSong=4, numThumbsDown=0, numHelp=0, numAd=0, Churn=1),\n",
       " Row(ts=1539177705000, page='Help', song=None, numSong=4, numThumbsDown=0, numHelp=1, numAd=0, Churn=1),\n",
       " Row(ts=1539177956000, page='NextSong', song='Sehr kosmisch', numSong=5, numThumbsDown=0, numHelp=1, numAd=0, Churn=1),\n",
       " Row(ts=1539178611000, page='NextSong', song='Moghram Ya Lail', numSong=6, numThumbsDown=0, numHelp=1, numAd=0, Churn=1),\n",
       " Row(ts=1539178914000, page='NextSong', song='AtrÃ\\x83Â©vete te te', numSong=7, numThumbsDown=0, numHelp=1, numAd=0, Churn=1),\n",
       " Row(ts=1539179153000, page='NextSong', song='Forever', numSong=8, numThumbsDown=0, numHelp=1, numAd=0, Churn=1),\n",
       " Row(ts=1539179510000, page='NextSong', song='My Automobile', numSong=9, numThumbsDown=0, numHelp=1, numAd=0, Churn=1),\n",
       " Row(ts=1539179788000, page='NextSong', song='Fool For Your Loving', numSong=10, numThumbsDown=0, numHelp=1, numAd=0, Churn=1),\n",
       " Row(ts=1539180038000, page='NextSong', song='Rocket Queen', numSong=11, numThumbsDown=0, numHelp=1, numAd=0, Churn=1),\n",
       " Row(ts=1539180545000, page='NextSong', song='Run Free', numSong=12, numThumbsDown=0, numHelp=1, numAd=0, Churn=1),\n",
       " Row(ts=1539180925000, page='NextSong', song='Dile', numSong=13, numThumbsDown=0, numHelp=1, numAd=0, Churn=1),\n",
       " Row(ts=1539181129000, page='NextSong', song='Annie (Album Version)', numSong=14, numThumbsDown=0, numHelp=1, numAd=0, Churn=1),\n",
       " Row(ts=1539181334000, page='NextSong', song='Sexy Can I', numSong=15, numThumbsDown=0, numHelp=1, numAd=0, Churn=1),\n",
       " Row(ts=1539181541000, page='NextSong', song='Bring Me To Life', numSong=16, numThumbsDown=0, numHelp=1, numAd=0, Churn=1),\n",
       " Row(ts=1539181542000, page='Thumbs Up', song=None, numSong=16, numThumbsDown=0, numHelp=1, numAd=0, Churn=1),\n",
       " Row(ts=1539181778000, page='NextSong', song='Stop Coming To My House', numSong=17, numThumbsDown=0, numHelp=1, numAd=0, Churn=1),\n",
       " Row(ts=1539182071000, page='NextSong', song='Mechanical Love', numSong=18, numThumbsDown=0, numHelp=1, numAd=0, Churn=1),\n",
       " Row(ts=1539182288000, page='NextSong', song='Fireworks', numSong=19, numThumbsDown=0, numHelp=1, numAd=0, Churn=1),\n",
       " Row(ts=1539182698000, page='NextSong', song=\"Lord I Guess I'll Never Know\", numSong=20, numThumbsDown=0, numHelp=1, numAd=0, Churn=1),\n",
       " Row(ts=1539182989000, page='NextSong', song='Found Home', numSong=21, numThumbsDown=0, numHelp=1, numAd=0, Churn=1),\n",
       " Row(ts=1539183133000, page='NextSong', song='Revival Chance', numSong=22, numThumbsDown=0, numHelp=1, numAd=0, Churn=1),\n",
       " Row(ts=1539183478000, page='NextSong', song='Buffalo Bill', numSong=23, numThumbsDown=0, numHelp=1, numAd=0, Churn=1),\n",
       " Row(ts=1539183714000, page='NextSong', song='Chump Change', numSong=24, numThumbsDown=0, numHelp=1, numAd=0, Churn=1),\n",
       " Row(ts=1539183972000, page='NextSong', song='Supermassive Black Hole (Twilight Soundtrack Version)', numSong=25, numThumbsDown=0, numHelp=1, numAd=0, Churn=1),\n",
       " Row(ts=1539184181000, page='NextSong', song='Stomp', numSong=26, numThumbsDown=0, numHelp=1, numAd=0, Churn=1),\n",
       " Row(ts=1539184465000, page='NextSong', song='Three More Days', numSong=27, numThumbsDown=0, numHelp=1, numAd=0, Churn=1),\n",
       " Row(ts=1539184681000, page='NextSong', song='I Kissed A Girl', numSong=28, numThumbsDown=0, numHelp=1, numAd=0, Churn=1),\n",
       " Row(ts=1539184860000, page='NextSong', song='Pojdi', numSong=29, numThumbsDown=0, numHelp=1, numAd=0, Churn=1),\n",
       " Row(ts=1539185045000, page='NextSong', song='Year of the Suckerpunch', numSong=30, numThumbsDown=0, numHelp=1, numAd=0, Churn=1),\n",
       " Row(ts=1539185349000, page='NextSong', song='Braziluba', numSong=31, numThumbsDown=0, numHelp=1, numAd=0, Churn=1),\n",
       " Row(ts=1539185939000, page='NextSong', song='Undo', numSong=32, numThumbsDown=0, numHelp=1, numAd=0, Churn=1),\n",
       " Row(ts=1539186287000, page='NextSong', song=\"I Couldn't Say\", numSong=33, numThumbsDown=0, numHelp=1, numAd=0, Churn=1),\n",
       " Row(ts=1539186631000, page='NextSong', song='In The Flowers', numSong=34, numThumbsDown=0, numHelp=1, numAd=0, Churn=1),\n",
       " Row(ts=1539186953000, page='NextSong', song='Psychotic Girl', numSong=35, numThumbsDown=0, numHelp=1, numAd=0, Churn=1),\n",
       " Row(ts=1539187203000, page='NextSong', song='Hurt', numSong=36, numThumbsDown=0, numHelp=1, numAd=0, Churn=1),\n",
       " Row(ts=1539187577000, page='NextSong', song=\"Somethin' Special\", numSong=37, numThumbsDown=0, numHelp=1, numAd=0, Churn=1),\n",
       " Row(ts=1539187761000, page='NextSong', song='Highway Song', numSong=38, numThumbsDown=0, numHelp=1, numAd=0, Churn=1),\n",
       " Row(ts=1539188393000, page='NextSong', song='Sothis', numSong=39, numThumbsDown=0, numHelp=1, numAd=0, Churn=1),\n",
       " Row(ts=1539188401000, page='Add to Playlist', song=None, numSong=39, numThumbsDown=0, numHelp=1, numAd=0, Churn=1),\n",
       " Row(ts=1539188599000, page='NextSong', song='Luka', numSong=40, numThumbsDown=0, numHelp=1, numAd=0, Churn=1),\n",
       " Row(ts=1539188830000, page='NextSong', song='Call Me When You Get This', numSong=41, numThumbsDown=0, numHelp=1, numAd=0, Churn=1),\n",
       " Row(ts=1539189131000, page='NextSong', song='Loch Raven', numSong=42, numThumbsDown=0, numHelp=1, numAd=0, Churn=1),\n",
       " Row(ts=1539189430000, page='NextSong', song='Hypnotized (featuring Akon) (Explicit Album Version)', numSong=43, numThumbsDown=0, numHelp=1, numAd=0, Churn=1),\n",
       " Row(ts=1539189431000, page='Thumbs Down', song=None, numSong=43, numThumbsDown=1, numHelp=1, numAd=0, Churn=1),\n",
       " Row(ts=1539189619000, page='NextSong', song=\"You're The One\", numSong=44, numThumbsDown=1, numHelp=1, numAd=0, Churn=1),\n",
       " Row(ts=1539189858000, page='NextSong', song='Back Against The Wall', numSong=45, numThumbsDown=1, numHelp=1, numAd=0, Churn=1),\n",
       " Row(ts=1539189858000, page='Settings', song=None, numSong=45, numThumbsDown=1, numHelp=1, numAd=0, Churn=1),\n",
       " Row(ts=1539190086000, page='NextSong', song='You Only Live Twice (2006 Digital Remaster)', numSong=46, numThumbsDown=1, numHelp=1, numAd=0, Churn=1),\n",
       " Row(ts=1539190262000, page='NextSong', song='Acetate Prophets', numSong=47, numThumbsDown=1, numHelp=1, numAd=0, Churn=1),\n",
       " Row(ts=1539190653000, page='NextSong', song='A Wish', numSong=48, numThumbsDown=1, numHelp=1, numAd=0, Churn=1),\n",
       " Row(ts=1539190826000, page='NextSong', song='Bolo Hari', numSong=49, numThumbsDown=1, numHelp=1, numAd=0, Churn=1),\n",
       " Row(ts=1539191072000, page='NextSong', song='U Smile', numSong=50, numThumbsDown=1, numHelp=1, numAd=0, Churn=1),\n",
       " Row(ts=1539191268000, page='NextSong', song='God Help Me', numSong=51, numThumbsDown=1, numHelp=1, numAd=0, Churn=1),\n",
       " Row(ts=1539191458000, page='NextSong', song='Children Of The Living God (LP Version)', numSong=52, numThumbsDown=1, numHelp=1, numAd=0, Churn=1),\n",
       " Row(ts=1539321197000, page='NextSong', song='Drain You', numSong=53, numThumbsDown=1, numHelp=1, numAd=0, Churn=1),\n",
       " Row(ts=1539321411000, page='NextSong', song=\"You're The One\", numSong=54, numThumbsDown=1, numHelp=1, numAd=0, Churn=1),\n",
       " Row(ts=1539321650000, page='NextSong', song='Bass Zone', numSong=55, numThumbsDown=1, numHelp=1, numAd=0, Churn=1),\n",
       " Row(ts=1539321917000, page='NextSong', song='MIC (Speak Life Album Version)', numSong=56, numThumbsDown=1, numHelp=1, numAd=0, Churn=1),\n",
       " Row(ts=1539322131000, page='NextSong', song='Cookie Raver', numSong=57, numThumbsDown=1, numHelp=1, numAd=0, Churn=1),\n",
       " Row(ts=1539322456000, page='NextSong', song='Sleep In The Garden', numSong=58, numThumbsDown=1, numHelp=1, numAd=0, Churn=1),\n",
       " Row(ts=1539322559000, page='NextSong', song='Con La Mano LevantÃ\\x83Â¡', numSong=59, numThumbsDown=1, numHelp=1, numAd=0, Churn=1),\n",
       " Row(ts=1539322761000, page='NextSong', song='Me Acuerdo', numSong=60, numThumbsDown=1, numHelp=1, numAd=0, Churn=1),\n",
       " Row(ts=1539323112000, page='NextSong', song='Watching The Detectives', numSong=61, numThumbsDown=1, numHelp=1, numAd=0, Churn=1),\n",
       " Row(ts=1539323338000, page='NextSong', song='ReprÃ\\x83Â©sente', numSong=62, numThumbsDown=1, numHelp=1, numAd=0, Churn=1),\n",
       " Row(ts=1539323590000, page='NextSong', song='I Wanna Be Down ( LP Version )', numSong=63, numThumbsDown=1, numHelp=1, numAd=0, Churn=1),\n",
       " Row(ts=1539323881000, page='NextSong', song='Breathin Out', numSong=64, numThumbsDown=1, numHelp=1, numAd=0, Churn=1),\n",
       " Row(ts=1539323882000, page='Thumbs Up', song=None, numSong=64, numThumbsDown=1, numHelp=1, numAd=0, Churn=1),\n",
       " Row(ts=1539324058000, page='NextSong', song='One Step Too Far', numSong=65, numThumbsDown=1, numHelp=1, numAd=0, Churn=1),\n",
       " Row(ts=1539324263000, page='NextSong', song='Slave', numSong=66, numThumbsDown=1, numHelp=1, numAd=0, Churn=1),\n",
       " Row(ts=1539324429000, page='NextSong', song='Un Amor Diferente', numSong=67, numThumbsDown=1, numHelp=1, numAd=0, Churn=1),\n",
       " Row(ts=1539324634000, page='NextSong', song='Jump Then Fall', numSong=68, numThumbsDown=1, numHelp=1, numAd=0, Churn=1),\n",
       " Row(ts=1539324871000, page='NextSong', song='Beautiful Stranger', numSong=69, numThumbsDown=1, numHelp=1, numAd=0, Churn=1),\n",
       " Row(ts=1539325131000, page='NextSong', song='Enter The Dragon', numSong=70, numThumbsDown=1, numHelp=1, numAd=0, Churn=1),\n",
       " Row(ts=1539325500000, page='NextSong', song='Save Me', numSong=71, numThumbsDown=1, numHelp=1, numAd=0, Churn=1),\n",
       " Row(ts=1539325501000, page='Add Friend', song=None, numSong=71, numThumbsDown=1, numHelp=1, numAd=0, Churn=1),\n",
       " Row(ts=1539325705000, page='NextSong', song='Simple As...', numSong=72, numThumbsDown=1, numHelp=1, numAd=0, Churn=1),\n",
       " Row(ts=1539325856000, page='NextSong', song='Accidents and complimentsÃ\\x82Â\\xa0Ã\\x82Â\\xa0Ã\\x82Â\\xa0Ã\\x82Â\\xa0Ã\\x82Â\\xa0Ã\\x82Â\\xa0Ã\\x82Â\\xa0Ã\\x82Â\\xa0Ã\\x82Â\\xa0Ã\\x82Â\\xa0Ã\\x82Â\\xa0Ã\\x82Â\\xa0Ã\\x82Â\\xa0Ã\\x82Â\\xa0Ã\\x82Â\\xa0Ã\\x82Â\\xa0Ã\\x82Â\\xa0Ã\\x82Â\\xa0Ã\\x82Â\\xa0Ã\\x82Â\\xa0Ã\\x82Â\\xa0Ã\\x82Â\\xa0Ã\\x82Â\\xa0Ã\\x82Â\\xa0Ã\\x82Â\\xa0Ã\\x82Â\\xa0', numSong=73, numThumbsDown=1, numHelp=1, numAd=0, Churn=1),\n",
       " Row(ts=1539326135000, page='NextSong', song='Pervigilo', numSong=74, numThumbsDown=1, numHelp=1, numAd=0, Churn=1),\n",
       " Row(ts=1539326468000, page='NextSong', song=\"Mary's New Car\", numSong=75, numThumbsDown=1, numHelp=1, numAd=0, Churn=1),\n",
       " Row(ts=1539326691000, page='NextSong', song='My Friend Dario', numSong=76, numThumbsDown=1, numHelp=1, numAd=0, Churn=1),\n",
       " Row(ts=1539326909000, page='NextSong', song='Horn Concerto No. 4 in E flat K495: II. Romance (Andante cantabile)', numSong=77, numThumbsDown=1, numHelp=1, numAd=0, Churn=1),\n",
       " Row(ts=1539327186000, page='NextSong', song='Wicked', numSong=78, numThumbsDown=1, numHelp=1, numAd=0, Churn=1),\n",
       " Row(ts=1539327517000, page='NextSong', song='Midnattens Widunder', numSong=79, numThumbsDown=1, numHelp=1, numAd=0, Churn=1),\n",
       " Row(ts=1539327795000, page='NextSong', song='Heaven', numSong=80, numThumbsDown=1, numHelp=1, numAd=0, Churn=1),\n",
       " Row(ts=1539328038000, page='NextSong', song='Walk It Off', numSong=81, numThumbsDown=1, numHelp=1, numAd=0, Churn=1),\n",
       " Row(ts=1539708375000, page='Home', song=None, numSong=81, numThumbsDown=1, numHelp=1, numAd=0, Churn=1),\n",
       " Row(ts=1539708387000, page='NextSong', song='Somebody To Love', numSong=82, numThumbsDown=1, numHelp=1, numAd=0, Churn=1),\n",
       " Row(ts=1539708388000, page='Thumbs Up', song=None, numSong=82, numThumbsDown=1, numHelp=1, numAd=0, Churn=1),\n",
       " Row(ts=1539708607000, page='NextSong', song='What If?', numSong=83, numThumbsDown=1, numHelp=1, numAd=0, Churn=1),\n",
       " Row(ts=1539708619000, page='Home', song=None, numSong=83, numThumbsDown=1, numHelp=1, numAd=0, Churn=1),\n",
       " Row(ts=1539708999000, page='NextSong', song='(Pop)Ular SciencE (Album Version)', numSong=84, numThumbsDown=1, numHelp=1, numAd=0, Churn=1),\n",
       " Row(ts=1539709250000, page='NextSong', song='Tengo Hambre', numSong=85, numThumbsDown=1, numHelp=1, numAd=0, Churn=1),\n",
       " Row(ts=1539709262000, page='Roll Advert', song=None, numSong=85, numThumbsDown=1, numHelp=1, numAd=1, Churn=1),\n",
       " Row(ts=1539709494000, page='NextSong', song='Rollout (My Business)', numSong=86, numThumbsDown=1, numHelp=1, numAd=1, Churn=1),\n",
       " Row(ts=1539709790000, page='NextSong', song='Bitter Sweet Symphony', numSong=87, numThumbsDown=1, numHelp=1, numAd=1, Churn=1),\n",
       " Row(ts=1539710150000, page='NextSong', song='Chao Lola (Album Version)', numSong=88, numThumbsDown=1, numHelp=1, numAd=1, Churn=1),\n",
       " Row(ts=1539710383000, page='NextSong', song=\"Let's Make Nasty (feat. Roxy Cottontail)\", numSong=89, numThumbsDown=1, numHelp=1, numAd=1, Churn=1),\n",
       " Row(ts=1539710384000, page='Thumbs Up', song=None, numSong=89, numThumbsDown=1, numHelp=1, numAd=1, Churn=1),\n",
       " Row(ts=1539710697000, page='NextSong', song=\"The Warrior's Code\", numSong=90, numThumbsDown=1, numHelp=1, numAd=1, Churn=1),\n",
       " Row(ts=1539710948000, page='NextSong', song='Injection', numSong=91, numThumbsDown=1, numHelp=1, numAd=1, Churn=1),\n",
       " Row(ts=1539711147000, page='NextSong', song='First Day Of My Life (Single Version)', numSong=92, numThumbsDown=1, numHelp=1, numAd=1, Churn=1),\n",
       " Row(ts=1539711148000, page='Logout', song=None, numSong=92, numThumbsDown=1, numHelp=1, numAd=1, Churn=1),\n",
       " Row(ts=1539711211000, page='Home', song=None, numSong=92, numThumbsDown=1, numHelp=1, numAd=1, Churn=1),\n",
       " Row(ts=1539711337000, page='NextSong', song='Carry Me In Your Dreams (Albania)', numSong=93, numThumbsDown=1, numHelp=1, numAd=1, Churn=1),\n",
       " Row(ts=1539711522000, page='NextSong', song='Lithium', numSong=94, numThumbsDown=1, numHelp=1, numAd=1, Churn=1),\n",
       " Row(ts=1539711845000, page='NextSong', song='Invalid', numSong=95, numThumbsDown=1, numHelp=1, numAd=1, Churn=1),\n",
       " Row(ts=1539712078000, page='NextSong', song='Right Here', numSong=96, numThumbsDown=1, numHelp=1, numAd=1, Churn=1),\n",
       " Row(ts=1539712241000, page='NextSong', song=\"Sensiz istanbul'a dÃ\\x83Â¼smanim\", numSong=97, numThumbsDown=1, numHelp=1, numAd=1, Churn=1),\n",
       " Row(ts=1539712523000, page='NextSong', song='Billionaire', numSong=98, numThumbsDown=1, numHelp=1, numAd=1, Churn=1),\n",
       " Row(ts=1539712775000, page='NextSong', song=\"You're The One\", numSong=99, numThumbsDown=1, numHelp=1, numAd=1, Churn=1),\n",
       " Row(ts=1539713014000, page='NextSong', song=\"Do That There (featuring Dude 'N Nem)\", numSong=100, numThumbsDown=1, numHelp=1, numAd=1, Churn=1),\n",
       " Row(ts=1539713244000, page='NextSong', song='Smaller and Better Things', numSong=101, numThumbsDown=1, numHelp=1, numAd=1, Churn=1),\n",
       " Row(ts=1539713452000, page='NextSong', song='Frenchy\\x19s', numSong=102, numThumbsDown=1, numHelp=1, numAd=1, Churn=1),\n",
       " Row(ts=1539713626000, page='NextSong', song='Half Alive', numSong=103, numThumbsDown=1, numHelp=1, numAd=1, Churn=1),\n",
       " Row(ts=1539713849000, page='NextSong', song='Teardrops', numSong=104, numThumbsDown=1, numHelp=1, numAd=1, Churn=1),\n",
       " Row(ts=1539714075000, page='NextSong', song='Tweaky', numSong=105, numThumbsDown=1, numHelp=1, numAd=1, Churn=1),\n",
       " Row(ts=1539714489000, page='NextSong', song='Ho Imparato A Sognare', numSong=106, numThumbsDown=1, numHelp=1, numAd=1, Churn=1),\n",
       " Row(ts=1539714742000, page='NextSong', song='Human', numSong=107, numThumbsDown=1, numHelp=1, numAd=1, Churn=1),\n",
       " Row(ts=1539714743000, page='Thumbs Up', song=None, numSong=107, numThumbsDown=1, numHelp=1, numAd=1, Churn=1),\n",
       " Row(ts=1539714994000, page='NextSong', song='Drop The World', numSong=108, numThumbsDown=1, numHelp=1, numAd=1, Churn=1),\n",
       " Row(ts=1539715223000, page='NextSong', song='Pa Pa Pa', numSong=109, numThumbsDown=1, numHelp=1, numAd=1, Churn=1),\n",
       " Row(ts=1539715434000, page='NextSong', song='The Day Before The Day', numSong=110, numThumbsDown=1, numHelp=1, numAd=1, Churn=1),\n",
       " Row(ts=1539715687000, page='NextSong', song=\"I'll Be Missing You (Featuring Faith Evans & 112)(Album Version)\", numSong=111, numThumbsDown=1, numHelp=1, numAd=1, Churn=1),\n",
       " Row(ts=1539715688000, page='Thumbs Up', song=None, numSong=111, numThumbsDown=1, numHelp=1, numAd=1, Churn=1),\n",
       " Row(ts=1539716030000, page='NextSong', song='Perhaps_ Perhaps_ Perhaps', numSong=112, numThumbsDown=1, numHelp=1, numAd=1, Churn=1),\n",
       " Row(ts=1539716315000, page='NextSong', song='Something In The Way', numSong=113, numThumbsDown=1, numHelp=1, numAd=1, Churn=1),\n",
       " Row(ts=1539716316000, page='Thumbs Up', song=None, numSong=113, numThumbsDown=1, numHelp=1, numAd=1, Churn=1),\n",
       " Row(ts=1539716319000, page='Add to Playlist', song=None, numSong=113, numThumbsDown=1, numHelp=1, numAd=1, Churn=1),\n",
       " Row(ts=1539716547000, page='NextSong', song=\"Didn't We (Album Version)\", numSong=114, numThumbsDown=1, numHelp=1, numAd=1, Churn=1),\n",
       " Row(ts=1539716822000, page='NextSong', song='Be My Baby', numSong=115, numThumbsDown=1, numHelp=1, numAd=1, Churn=1),\n",
       " Row(ts=1539716981000, page='NextSong', song=\"Ghosts 'n' Stuff (Original Instrumental Mix)\", numSong=116, numThumbsDown=1, numHelp=1, numAd=1, Churn=1),\n",
       " Row(ts=1539717355000, page='NextSong', song=\"God's Snake\", numSong=117, numThumbsDown=1, numHelp=1, numAd=1, Churn=1),\n",
       " Row(ts=1539717602000, page='NextSong', song='Losing Sight', numSong=118, numThumbsDown=1, numHelp=1, numAd=1, Churn=1),\n",
       " Row(ts=1539717805000, page='NextSong', song='No Cars Go', numSong=119, numThumbsDown=1, numHelp=1, numAd=1, Churn=1),\n",
       " Row(ts=1539718148000, page='NextSong', song='Tu Mira (Edit)', numSong=120, numThumbsDown=1, numHelp=1, numAd=1, Churn=1),\n",
       " Row(ts=1539718387000, page='NextSong', song='Tive Sim', numSong=121, numThumbsDown=1, numHelp=1, numAd=1, Churn=1),\n",
       " Row(ts=1539718514000, page='NextSong', song='Mistadobalina', numSong=122, numThumbsDown=1, numHelp=1, numAd=1, Churn=1),\n",
       " Row(ts=1539718771000, page='NextSong', song='Run Through The Jungle', numSong=123, numThumbsDown=1, numHelp=1, numAd=1, Churn=1),\n",
       " Row(ts=1539718772000, page='Add Friend', song=None, numSong=123, numThumbsDown=1, numHelp=1, numAd=1, Churn=1),\n",
       " Row(ts=1539718773000, page='Add Friend', song=None, numSong=123, numThumbsDown=1, numHelp=1, numAd=1, Churn=1),\n",
       " Row(ts=1539718774000, page='Add Friend', song=None, numSong=123, numThumbsDown=1, numHelp=1, numAd=1, Churn=1),\n",
       " Row(ts=1539718955000, page='NextSong', song='America_ America', numSong=124, numThumbsDown=1, numHelp=1, numAd=1, Churn=1),\n",
       " Row(ts=1539719228000, page='NextSong', song='Bloodwork (Album Version)', numSong=125, numThumbsDown=1, numHelp=1, numAd=1, Churn=1),\n",
       " Row(ts=1539719426000, page='NextSong', song='Hero (Album Version)', numSong=126, numThumbsDown=1, numHelp=1, numAd=1, Churn=1),\n",
       " Row(ts=1539719612000, page='NextSong', song='The Bomb Dot Com V2.0', numSong=127, numThumbsDown=1, numHelp=1, numAd=1, Churn=1),\n",
       " Row(ts=1539719823000, page='NextSong', song='FFT (The Good_ The Bad_ And The Ugly Album Version)', numSong=128, numThumbsDown=1, numHelp=1, numAd=1, Churn=1),\n",
       " Row(ts=1539719888000, page='NextSong', song='High Road (Album Version)', numSong=129, numThumbsDown=1, numHelp=1, numAd=1, Churn=1),\n",
       " Row(ts=1539720084000, page='NextSong', song='How Come', numSong=130, numThumbsDown=1, numHelp=1, numAd=1, Churn=1),\n",
       " Row(ts=1539720337000, page='NextSong', song='Boombox', numSong=131, numThumbsDown=1, numHelp=1, numAd=1, Churn=1),\n",
       " Row(ts=1539720338000, page='Thumbs Up', song=None, numSong=131, numThumbsDown=1, numHelp=1, numAd=1, Churn=1),\n",
       " Row(ts=1539720529000, page='NextSong', song='Ein Schiff Wird Kommen...', numSong=132, numThumbsDown=1, numHelp=1, numAd=1, Churn=1),\n",
       " Row(ts=1539720705000, page='NextSong', song='My Little Beautiful', numSong=133, numThumbsDown=1, numHelp=1, numAd=1, Churn=1),\n",
       " Row(ts=1539720706000, page='Thumbs Down', song=None, numSong=133, numThumbsDown=2, numHelp=1, numAd=1, Churn=1),\n",
       " Row(ts=1539720707000, page='Help', song=None, numSong=133, numThumbsDown=2, numHelp=2, numAd=1, Churn=1),\n",
       " Row(ts=1539721044000, page='NextSong', song='Cruz de Olvido', numSong=134, numThumbsDown=2, numHelp=2, numAd=1, Churn=1),\n",
       " Row(ts=1539721368000, page='NextSong', song='December 2 Chapter VII', numSong=135, numThumbsDown=2, numHelp=2, numAd=1, Churn=1),\n",
       " Row(ts=1539721659000, page='NextSong', song='Molly', numSong=136, numThumbsDown=2, numHelp=2, numAd=1, Churn=1),\n",
       " Row(ts=1539721893000, page='NextSong', song='Revelry', numSong=137, numThumbsDown=2, numHelp=2, numAd=1, Churn=1),\n",
       " Row(ts=1539721962000, page='Add to Playlist', song=None, numSong=137, numThumbsDown=2, numHelp=2, numAd=1, Churn=1),\n",
       " Row(ts=1539722094000, page='NextSong', song='Just Dance', numSong=138, numThumbsDown=2, numHelp=2, numAd=1, Churn=1),\n",
       " Row(ts=1539722332000, page='NextSong', song='Landslide', numSong=139, numThumbsDown=2, numHelp=2, numAd=1, Churn=1),\n",
       " Row(ts=1539722561000, page='NextSong', song='I Believe (DJ Tandu Mix)', numSong=140, numThumbsDown=2, numHelp=2, numAd=1, Churn=1),\n",
       " Row(ts=1539723081000, page='NextSong', song='First Dance', numSong=141, numThumbsDown=2, numHelp=2, numAd=1, Churn=1),\n",
       " Row(ts=1539723303000, page='NextSong', song=\"Only When I'm Drunk\", numSong=142, numThumbsDown=2, numHelp=2, numAd=1, Churn=1),\n",
       " Row(ts=1539723520000, page='NextSong', song='Wonderful Tonight [Duet With Ivan Lins] (Album Version)', numSong=143, numThumbsDown=2, numHelp=2, numAd=1, Churn=1),\n",
       " Row(ts=1539723772000, page='NextSong', song='Good Times', numSong=144, numThumbsDown=2, numHelp=2, numAd=1, Churn=1),\n",
       " Row(ts=1539724007000, page='NextSong', song='No Love (Album Version)', numSong=145, numThumbsDown=2, numHelp=2, numAd=1, Churn=1),\n",
       " Row(ts=1539724201000, page='NextSong', song='Un Misil En Mi Placard', numSong=146, numThumbsDown=2, numHelp=2, numAd=1, Churn=1),\n",
       " Row(ts=1539724472000, page='NextSong', song='No Names (Black Debbie)', numSong=147, numThumbsDown=2, numHelp=2, numAd=1, Churn=1),\n",
       " Row(ts=1539724659000, page='NextSong', song='The Flying Club Cup', numSong=148, numThumbsDown=2, numHelp=2, numAd=1, Churn=1),\n",
       " Row(ts=1539724660000, page='Thumbs Up', song=None, numSong=148, numThumbsDown=2, numHelp=2, numAd=1, Churn=1),\n",
       " Row(ts=1539724696000, page='Add to Playlist', song=None, numSong=148, numThumbsDown=2, numHelp=2, numAd=1, Churn=1),\n",
       " Row(ts=1539724844000, page='NextSong', song='Stop! In The Name Of Love', numSong=149, numThumbsDown=2, numHelp=2, numAd=1, Churn=1),\n",
       " Row(ts=1539724886000, page='Downgrade', song=None, numSong=149, numThumbsDown=2, numHelp=2, numAd=1, Churn=1),\n",
       " Row(ts=1539725020000, page='NextSong', song='A Guy Like You', numSong=150, numThumbsDown=2, numHelp=2, numAd=1, Churn=1),\n",
       " Row(ts=1539725030000, page='Add to Playlist', song=None, numSong=150, numThumbsDown=2, numHelp=2, numAd=1, Churn=1),\n",
       " Row(ts=1539725279000, page='NextSong', song='Pa Mi Casa', numSong=151, numThumbsDown=2, numHelp=2, numAd=1, Churn=1),\n",
       " Row(ts=1539725280000, page='Logout', song=None, numSong=151, numThumbsDown=2, numHelp=2, numAd=1, Churn=1),\n",
       " Row(ts=1540047564000, page='Home', song=None, numSong=151, numThumbsDown=2, numHelp=2, numAd=1, Churn=1),\n",
       " Row(ts=1540047703000, page='NextSong', song='There You Go', numSong=152, numThumbsDown=2, numHelp=2, numAd=1, Churn=1),\n",
       " Row(ts=1540047903000, page='NextSong', song=\"More Fire ('93 Ting Mix)\", numSong=153, numThumbsDown=2, numHelp=2, numAd=1, Churn=1),\n",
       " Row(ts=1540048170000, page='NextSong', song='The Who', numSong=154, numThumbsDown=2, numHelp=2, numAd=1, Churn=1),\n",
       " Row(ts=1540048171000, page='Add Friend', song=None, numSong=154, numThumbsDown=2, numHelp=2, numAd=1, Churn=1),\n",
       " Row(ts=1540048439000, page='NextSong', song='Murder The Government', numSong=155, numThumbsDown=2, numHelp=2, numAd=1, Churn=1),\n",
       " Row(ts=1540048484000, page='NextSong', song='Blue', numSong=156, numThumbsDown=2, numHelp=2, numAd=1, Churn=1),\n",
       " Row(ts=1540048737000, page='NextSong', song='Dog Days Are Over (Radio Edit)', numSong=157, numThumbsDown=2, numHelp=2, numAd=1, Churn=1),\n",
       " Row(ts=1540048956000, page='NextSong', song='The Thousand Names of Lord Shiva (Part 1)', numSong=158, numThumbsDown=2, numHelp=2, numAd=1, Churn=1),\n",
       " Row(ts=1540051550000, page='NextSong', song='Higher', numSong=159, numThumbsDown=2, numHelp=2, numAd=1, Churn=1),\n",
       " Row(ts=1540051876000, page='NextSong', song='How Long', numSong=160, numThumbsDown=2, numHelp=2, numAd=1, Churn=1),\n",
       " Row(ts=1540052115000, page='NextSong', song='Jesus_ Etc.', numSong=161, numThumbsDown=2, numHelp=2, numAd=1, Churn=1),\n",
       " Row(ts=1540052354000, page='NextSong', song='Helplessly Hoping (LP Version)', numSong=162, numThumbsDown=2, numHelp=2, numAd=1, Churn=1),\n",
       " Row(ts=1540052515000, page='NextSong', song=\"When I Get Where I'm Going\", numSong=163, numThumbsDown=2, numHelp=2, numAd=1, Churn=1),\n",
       " Row(ts=1540052762000, page='NextSong', song='Roni', numSong=164, numThumbsDown=2, numHelp=2, numAd=1, Churn=1),\n",
       " Row(ts=1540053119000, page='NextSong', song='Take It In', numSong=165, numThumbsDown=2, numHelp=2, numAd=1, Churn=1),\n",
       " Row(ts=1540053120000, page='Thumbs Up', song=None, numSong=165, numThumbsDown=2, numHelp=2, numAd=1, Churn=1),\n",
       " Row(ts=1540053368000, page='NextSong', song='The Darkest Nights', numSong=166, numThumbsDown=2, numHelp=2, numAd=1, Churn=1),\n",
       " Row(ts=1540053599000, page='NextSong', song='La Parte De Adelante', numSong=167, numThumbsDown=2, numHelp=2, numAd=1, Churn=1),\n",
       " Row(ts=1540053631000, page='Home', song=None, numSong=167, numThumbsDown=2, numHelp=2, numAd=1, Churn=1),\n",
       " Row(ts=1540053861000, page='NextSong', song='Untitled Sad Song', numSong=168, numThumbsDown=2, numHelp=2, numAd=1, Churn=1),\n",
       " Row(ts=1540054082000, page='NextSong', song='Esisti Tu', numSong=169, numThumbsDown=2, numHelp=2, numAd=1, Churn=1),\n",
       " Row(ts=1540054283000, page='NextSong', song='Take It Off (Dim The Lights) (Edited Album Version)', numSong=170, numThumbsDown=2, numHelp=2, numAd=1, Churn=1),\n",
       " Row(ts=1540054529000, page='NextSong', song='Fast Forward To 2012 (Album Version)', numSong=171, numThumbsDown=2, numHelp=2, numAd=1, Churn=1),\n",
       " Row(ts=1540054624000, page='NextSong', song='DVNO', numSong=172, numThumbsDown=2, numHelp=2, numAd=1, Churn=1),\n",
       " Row(ts=1540054860000, page='NextSong', song='Creature Fear', numSong=173, numThumbsDown=2, numHelp=2, numAd=1, Churn=1),\n",
       " Row(ts=1540055046000, page='NextSong', song='One Less Lonely Girl', numSong=174, numThumbsDown=2, numHelp=2, numAd=1, Churn=1),\n",
       " Row(ts=1540055275000, page='NextSong', song='Magic America', numSong=175, numThumbsDown=2, numHelp=2, numAd=1, Churn=1),\n",
       " Row(ts=1540055493000, page='NextSong', song='Presidential (Explicit Album Version)', numSong=176, numThumbsDown=2, numHelp=2, numAd=1, Churn=1),\n",
       " Row(ts=1540055738000, page='NextSong', song=\"Who's Real\", numSong=177, numThumbsDown=2, numHelp=2, numAd=1, Churn=1),\n",
       " Row(ts=1540055929000, page='NextSong', song=\"You're The One\", numSong=178, numThumbsDown=2, numHelp=2, numAd=1, Churn=1),\n",
       " Row(ts=1540056168000, page='NextSong', song=\"Devil's path\", numSong=179, numThumbsDown=2, numHelp=2, numAd=1, Churn=1),\n",
       " Row(ts=1540056535000, page='NextSong', song=\"Show 'Em A Better Way\", numSong=180, numThumbsDown=2, numHelp=2, numAd=1, Churn=1),\n",
       " Row(ts=1540056763000, page='NextSong', song='Walk On The Water', numSong=181, numThumbsDown=2, numHelp=2, numAd=1, Churn=1),\n",
       " Row(ts=1540056992000, page='NextSong', song='Call It Off (Album Version)', numSong=182, numThumbsDown=2, numHelp=2, numAd=1, Churn=1),\n",
       " Row(ts=1540057133000, page='NextSong', song='Temptation', numSong=183, numThumbsDown=2, numHelp=2, numAd=1, Churn=1),\n",
       " Row(ts=1540057134000, page='Thumbs Up', song=None, numSong=183, numThumbsDown=2, numHelp=2, numAd=1, Churn=1),\n",
       " Row(ts=1540057412000, page='NextSong', song='Sehr kosmisch', numSong=184, numThumbsDown=2, numHelp=2, numAd=1, Churn=1),\n",
       " Row(ts=1540058067000, page='NextSong', song='You And Me (Wedding Version)', numSong=185, numThumbsDown=2, numHelp=2, numAd=1, Churn=1),\n",
       " Row(ts=1540058262000, page='NextSong', song='Psychotic Reaction', numSong=186, numThumbsDown=2, numHelp=2, numAd=1, Churn=1),\n",
       " Row(ts=1540058451000, page='NextSong', song='Sehr kosmisch', numSong=187, numThumbsDown=2, numHelp=2, numAd=1, Churn=1),\n",
       " Row(ts=1540059106000, page='NextSong', song='Flaca', numSong=188, numThumbsDown=2, numHelp=2, numAd=1, Churn=1),\n",
       " Row(ts=1540059107000, page='Logout', song=None, numSong=188, numThumbsDown=2, numHelp=2, numAd=1, Churn=1),\n",
       " Row(ts=1540059486000, page='Home', song=None, numSong=188, numThumbsDown=2, numHelp=2, numAd=1, Churn=1),\n",
       " Row(ts=1540059488000, page='NextSong', song='Thinking About Tomorrow', numSong=189, numThumbsDown=2, numHelp=2, numAd=1, Churn=1),\n",
       " Row(ts=1540059888000, page='NextSong', song='Whatcha Say', numSong=190, numThumbsDown=2, numHelp=2, numAd=1, Churn=1),\n",
       " Row(ts=1540059931000, page='Roll Advert', song=None, numSong=190, numThumbsDown=2, numHelp=2, numAd=2, Churn=1),\n",
       " Row(ts=1540060110000, page='NextSong', song='Fascination (Extended Remix)', numSong=191, numThumbsDown=2, numHelp=2, numAd=2, Churn=1),\n",
       " Row(ts=1540060406000, page='NextSong', song='Even Flow', numSong=192, numThumbsDown=2, numHelp=2, numAd=2, Churn=1),\n",
       " Row(ts=1540060699000, page='NextSong', song='Paradise Circus (Gui Boratto Remix)', numSong=193, numThumbsDown=2, numHelp=2, numAd=2, Churn=1),\n",
       " Row(ts=1540061186000, page='NextSong', song=\"Heart Ain't A Brain\", numSong=194, numThumbsDown=2, numHelp=2, numAd=2, Churn=1),\n",
       " Row(ts=1540061406000, page='NextSong', song='The Good Times Are Killing Me', numSong=195, numThumbsDown=2, numHelp=2, numAd=2, Churn=1),\n",
       " Row(ts=1540061407000, page='Thumbs Up', song=None, numSong=195, numThumbsDown=2, numHelp=2, numAd=2, Churn=1),\n",
       " Row(ts=1541740212000, page='NextSong', song='Wish You Were Here', numSong=196, numThumbsDown=2, numHelp=2, numAd=2, Churn=1),\n",
       " Row(ts=1541740419000, page='NextSong', song=\"Don't Let Me Fall\", numSong=197, numThumbsDown=2, numHelp=2, numAd=2, Churn=1),\n",
       " Row(ts=1542726234000, page='Home', song=None, numSong=197, numThumbsDown=2, numHelp=2, numAd=2, Churn=1),\n",
       " Row(ts=1542726348000, page='NextSong', song='Come On', numSong=198, numThumbsDown=2, numHelp=2, numAd=2, Churn=1),\n",
       " Row(ts=1542726576000, page='NextSong', song='In The Closet', numSong=199, numThumbsDown=2, numHelp=2, numAd=2, Churn=1),\n",
       " Row(ts=1542726966000, page='NextSong', song=\"I'm All Right\", numSong=200, numThumbsDown=2, numHelp=2, numAd=2, Churn=1),\n",
       " Row(ts=1542727172000, page='NextSong', song='Hold You In My Arms', numSong=201, numThumbsDown=2, numHelp=2, numAd=2, Churn=1),\n",
       " Row(ts=1542727478000, page='NextSong', song='Safe Dolphin (Live Bonus Track) (LP Version)', numSong=202, numThumbsDown=2, numHelp=2, numAd=2, Churn=1),\n",
       " Row(ts=1542727898000, page='NextSong', song='Tea For The Tillerman', numSong=203, numThumbsDown=2, numHelp=2, numAd=2, Churn=1),\n",
       " Row(ts=1542727959000, page='NextSong', song=\"It's Time\", numSong=204, numThumbsDown=2, numHelp=2, numAd=2, Churn=1),\n",
       " Row(ts=1542728107000, page='NextSong', song=\"Player's Anthem feat. Notorious B.I.G._ Lil\\x19 Cease and Lil\\x19 Kim\", numSong=205, numThumbsDown=2, numHelp=2, numAd=2, Churn=1),\n",
       " Row(ts=1542728415000, page='NextSong', song='Nahoda', numSong=206, numThumbsDown=2, numHelp=2, numAd=2, Churn=1),\n",
       " Row(ts=1542728635000, page='NextSong', song='Te EspÃ\\x83Â\\xado Y Te Archivo', numSong=207, numThumbsDown=2, numHelp=2, numAd=2, Churn=1),\n",
       " Row(ts=1542728829000, page='NextSong', song='Imagine Dead John Lennon', numSong=208, numThumbsDown=2, numHelp=2, numAd=2, Churn=1),\n",
       " Row(ts=1542728925000, page='NextSong', song='Poor Georgie (Explicit LP Version)', numSong=209, numThumbsDown=2, numHelp=2, numAd=2, Churn=1),\n",
       " Row(ts=1542728926000, page='Thumbs Up', song=None, numSong=209, numThumbsDown=2, numHelp=2, numAd=2, Churn=1),\n",
       " Row(ts=1542729196000, page='NextSong', song='Be With You', numSong=210, numThumbsDown=2, numHelp=2, numAd=2, Churn=1),\n",
       " Row(ts=1542729415000, page='NextSong', song='Lullaby', numSong=211, numThumbsDown=2, numHelp=2, numAd=2, Churn=1),\n",
       " Row(ts=1542729537000, page='NextSong', song='No Me Des La Brasa', numSong=212, numThumbsDown=2, numHelp=2, numAd=2, Churn=1),\n",
       " Row(ts=1542729809000, page='NextSong', song='Spaceman', numSong=213, numThumbsDown=2, numHelp=2, numAd=2, Churn=1),\n",
       " Row(ts=1542730093000, page='NextSong', song='Found Home', numSong=214, numThumbsDown=2, numHelp=2, numAd=2, Churn=1),\n",
       " Row(ts=1542730237000, page='NextSong', song='Karma Police', numSong=215, numThumbsDown=2, numHelp=2, numAd=2, Churn=1),\n",
       " Row(ts=1542730267000, page='Add to Playlist', song=None, numSong=215, numThumbsDown=2, numHelp=2, numAd=2, Churn=1),\n",
       " Row(ts=1542730498000, page='NextSong', song='Teach Me Tiger', numSong=216, numThumbsDown=2, numHelp=2, numAd=2, Churn=1),\n",
       " Row(ts=1542730641000, page='NextSong', song='Llamado De Emergencia', numSong=217, numThumbsDown=2, numHelp=2, numAd=2, Churn=1),\n",
       " Row(ts=1542730880000, page='NextSong', song='Upside Down', numSong=218, numThumbsDown=2, numHelp=2, numAd=2, Churn=1),\n",
       " Row(ts=1542730888000, page='Downgrade', song=None, numSong=218, numThumbsDown=2, numHelp=2, numAd=2, Churn=1),\n",
       " Row(ts=1542731073000, page='NextSong', song='I Remember', numSong=219, numThumbsDown=2, numHelp=2, numAd=2, Churn=1),\n",
       " Row(ts=1542731402000, page='NextSong', song='Home', numSong=220, numThumbsDown=2, numHelp=2, numAd=2, Churn=1),\n",
       " Row(ts=1542731708000, page='NextSong', song='Helena (So Long & Goodnight) (Album Version)', numSong=221, numThumbsDown=2, numHelp=2, numAd=2, Churn=1),\n",
       " Row(ts=1542731911000, page='NextSong', song='Do You Want It AllÃ\\x82Â\\xa0?', numSong=222, numThumbsDown=2, numHelp=2, numAd=2, Churn=1),\n",
       " Row(ts=1542732119000, page='NextSong', song='Power to Move the Stars', numSong=223, numThumbsDown=2, numHelp=2, numAd=2, Churn=1),\n",
       " Row(ts=1542732381000, page='NextSong', song=\"Beggin' (LP Version)\", numSong=224, numThumbsDown=2, numHelp=2, numAd=2, Churn=1),\n",
       " Row(ts=1542732551000, page='NextSong', song='Wet Blanket', numSong=225, numThumbsDown=2, numHelp=2, numAd=2, Churn=1),\n",
       " Row(ts=1542732798000, page='NextSong', song='Clean Up Crew (feat. Rock of Heltah Skeltah)', numSong=226, numThumbsDown=2, numHelp=2, numAd=2, Churn=1),\n",
       " Row(ts=1542733034000, page='NextSong', song='The Concept', numSong=227, numThumbsDown=2, numHelp=2, numAd=2, Churn=1),\n",
       " Row(ts=1542733217000, page='NextSong', song='AMERIKA', numSong=228, numThumbsDown=2, numHelp=2, numAd=2, Churn=1),\n",
       " Row(ts=1542733443000, page='NextSong', song='Nao Falo Portugues Jazz Rework', numSong=229, numThumbsDown=2, numHelp=2, numAd=2, Churn=1),\n",
       " Row(ts=1542733444000, page='Thumbs Up', song=None, numSong=229, numThumbsDown=2, numHelp=2, numAd=2, Churn=1),\n",
       " Row(ts=1542733668000, page='NextSong', song='Agua Bendita', numSong=230, numThumbsDown=2, numHelp=2, numAd=2, Churn=1),\n",
       " Row(ts=1542733669000, page='Thumbs Up', song=None, numSong=230, numThumbsDown=2, numHelp=2, numAd=2, Churn=1),\n",
       " Row(ts=1542733848000, page='NextSong', song=\"Breakin' At The Cracks\", numSong=231, numThumbsDown=2, numHelp=2, numAd=2, Churn=1),\n",
       " Row(ts=1542734189000, page='NextSong', song='This Cowboy Song', numSong=232, numThumbsDown=2, numHelp=2, numAd=2, Churn=1),\n",
       " Row(ts=1542734190000, page='Add Friend', song=None, numSong=232, numThumbsDown=2, numHelp=2, numAd=2, Churn=1),\n",
       " Row(ts=1542734488000, page='NextSong', song='Soul Function', numSong=233, numThumbsDown=2, numHelp=2, numAd=2, Churn=1),\n",
       " Row(ts=1542734923000, page='NextSong', song='Speed Of Sound', numSong=234, numThumbsDown=2, numHelp=2, numAd=2, Churn=1),\n",
       " Row(ts=1542735214000, page='NextSong', song='Old Soul Song', numSong=235, numThumbsDown=2, numHelp=2, numAd=2, Churn=1),\n",
       " Row(ts=1542735461000, page='NextSong', song='Redbull (featuring Redman)', numSong=236, numThumbsDown=2, numHelp=2, numAd=2, Churn=1),\n",
       " Row(ts=1542735694000, page='NextSong', song=\"I'm a Broken Heart\", numSong=237, numThumbsDown=2, numHelp=2, numAd=2, Churn=1),\n",
       " Row(ts=1542735964000, page='NextSong', song='Love & Appreciate (Album Version)', numSong=238, numThumbsDown=2, numHelp=2, numAd=2, Churn=1),\n",
       " Row(ts=1542736156000, page='NextSong', song=\"If I Ain't Got You\", numSong=239, numThumbsDown=2, numHelp=2, numAd=2, Churn=1),\n",
       " Row(ts=1542736385000, page='NextSong', song='Back It Up', numSong=240, numThumbsDown=2, numHelp=2, numAd=2, Churn=1),\n",
       " Row(ts=1542736615000, page='NextSong', song='Horn Concerto No. 4 in E flat K495: II. Romance (Andante cantabile)', numSong=241, numThumbsDown=2, numHelp=2, numAd=2, Churn=1),\n",
       " Row(ts=1542736892000, page='NextSong', song='Salt Skin', numSong=242, numThumbsDown=2, numHelp=2, numAd=2, Churn=1),\n",
       " Row(ts=1542737149000, page='NextSong', song='Heaven', numSong=243, numThumbsDown=2, numHelp=2, numAd=2, Churn=1),\n",
       " Row(ts=1542737392000, page='NextSong', song='Nothing Better (Album)', numSong=244, numThumbsDown=2, numHelp=2, numAd=2, Churn=1),\n",
       " Row(ts=1542737618000, page='NextSong', song='Stripper Vicar', numSong=245, numThumbsDown=2, numHelp=2, numAd=2, Churn=1),\n",
       " Row(ts=1542737867000, page='NextSong', song='Mr.Officer', numSong=246, numThumbsDown=2, numHelp=2, numAd=2, Churn=1),\n",
       " Row(ts=1542737868000, page='Thumbs Up', song=None, numSong=246, numThumbsDown=2, numHelp=2, numAd=2, Churn=1),\n",
       " Row(ts=1542738073000, page='NextSong', song='Outro', numSong=247, numThumbsDown=2, numHelp=2, numAd=2, Churn=1),\n",
       " Row(ts=1542738074000, page='Thumbs Down', song=None, numSong=247, numThumbsDown=3, numHelp=2, numAd=2, Churn=1),\n",
       " Row(ts=1542738585000, page='NextSong', song='Situations', numSong=248, numThumbsDown=3, numHelp=2, numAd=2, Churn=1),\n",
       " Row(ts=1542738662000, page='NextSong', song='Ele Falava Nisso Todo Dia', numSong=249, numThumbsDown=3, numHelp=2, numAd=2, Churn=1),\n",
       " Row(ts=1542738863000, page='NextSong', song='West One (Shine On Me)', numSong=250, numThumbsDown=3, numHelp=2, numAd=2, Churn=1),\n",
       " Row(ts=1542739201000, page='NextSong', song='New Angel', numSong=251, numThumbsDown=3, numHelp=2, numAd=2, Churn=1),\n",
       " Row(ts=1542739377000, page='NextSong', song='Enter Sandman', numSong=252, numThumbsDown=3, numHelp=2, numAd=2, Churn=1),\n",
       " Row(ts=1542739710000, page='NextSong', song=\"The Warrior's Code\", numSong=253, numThumbsDown=3, numHelp=2, numAd=2, Churn=1),\n",
       " Row(ts=1542739961000, page='NextSong', song=\"Lookin' Out My Back Door\", numSong=254, numThumbsDown=3, numHelp=2, numAd=2, Churn=1),\n",
       " Row(ts=1542739962000, page='Thumbs Up', song=None, numSong=254, numThumbsDown=3, numHelp=2, numAd=2, Churn=1),\n",
       " Row(ts=1542740028000, page='Add to Playlist', song=None, numSong=254, numThumbsDown=3, numHelp=2, numAd=2, Churn=1),\n",
       " Row(ts=1542740115000, page='NextSong', song='Everything Is Everything', numSong=255, numThumbsDown=3, numHelp=2, numAd=2, Churn=1),\n",
       " Row(ts=1542740352000, page='NextSong', song='Sorry', numSong=256, numThumbsDown=3, numHelp=2, numAd=2, Churn=1),\n",
       " Row(ts=1542740628000, page='NextSong', song='Hoffnungen', numSong=257, numThumbsDown=3, numHelp=2, numAd=2, Churn=1),\n",
       " Row(ts=1542740641000, page='Downgrade', song=None, numSong=257, numThumbsDown=3, numHelp=2, numAd=2, Churn=1),\n",
       " Row(ts=1542740642000, page='Cancel', song=None, numSong=257, numThumbsDown=3, numHelp=2, numAd=2, Churn=1),\n",
       " Row(ts=1542740649000, page='Cancellation Confirmation', song=None, numSong=257, numThumbsDown=3, numHelp=2, numAd=2, Churn=1)]"
      ]
     },
     "execution_count": 86,
     "metadata": {},
     "output_type": "execute_result"
    }
   ],
   "source": [
    "df.select([\"ts\", \"page\",\"song\", \"numSong\",\"numThumbsDown\",\"numHelp\",\"numAd\", \"Churn\"]).where(df.userId == \"100014\").sort(\"ts\").collect()"
   ]
  },
  {
   "cell_type": "code",
   "execution_count": 89,
   "metadata": {},
   "outputs": [
    {
     "data": {
      "text/plain": [
       "Row(artist='Sleeping With Sirens', auth='Logged In', firstName='Darianna', gender='F', itemInSession=0, lastName='Carpenter', length=202.97098, level='free', location='Bridgeport-Stamford-Norwalk, CT', method='PUT', page='NextSong', registration=1538016340000, sessionId=31, song='Captain Tyin Knots VS Mr Walkway (No Way)', status=200, ts=1539003534000, userAgent='\"Mozilla/5.0 (iPhone; CPU iPhone OS 7_1_2 like Mac OS X) AppleWebKit/537.51.2 (KHTML, like Gecko) Version/7.0 Mobile/11D257 Safari/9537.53\"', userId='100010', cancel=0, Churn=0, listen=1, ThumbsDown=0, Help=0, Error=0, Ad=0, numSong=1, numThumbsDown=0, numHelp=0, numError=0, numAd=0, pageLabel=0.0)"
      ]
     },
     "execution_count": 89,
     "metadata": {},
     "output_type": "execute_result"
    }
   ],
   "source": [
    "indexer = StringIndexer(inputCol=\"page\", outputCol=\"pageLabel\")\n",
    "df = indexer.fit(df).transform(df)\n",
    "df.head()"
   ]
  },
  {
   "cell_type": "code",
   "execution_count": 97,
   "metadata": {},
   "outputs": [
    {
     "data": {
      "text/plain": [
       "[Row(ts=1539177136000, page='NextSong', song='Welcome To The World of The Plastic Beach (Feat. Snoop Dogg and Hypnotic Brass Ensemble)', numSong=1, numThumbsDown=0, numHelp=0, numAd=0, date='2018-10-10'),\n",
       " Row(ts=1539177351000, page='NextSong', song='Odessa', numSong=2, numThumbsDown=0, numHelp=0, numAd=0, date='2018-10-10'),\n",
       " Row(ts=1539177476000, page='NextSong', song='Amapola', numSong=3, numThumbsDown=0, numHelp=0, numAd=0, date='2018-10-10'),\n",
       " Row(ts=1539177698000, page='NextSong', song='Exogenesis: Symphony Part 1 [Overture]', numSong=4, numThumbsDown=0, numHelp=0, numAd=0, date='2018-10-10'),\n",
       " Row(ts=1539177705000, page='Help', song=None, numSong=4, numThumbsDown=0, numHelp=1, numAd=0, date='2018-10-10'),\n",
       " Row(ts=1539177956000, page='NextSong', song='Sehr kosmisch', numSong=5, numThumbsDown=0, numHelp=1, numAd=0, date='2018-10-10'),\n",
       " Row(ts=1539178611000, page='NextSong', song='Moghram Ya Lail', numSong=6, numThumbsDown=0, numHelp=1, numAd=0, date='2018-10-10'),\n",
       " Row(ts=1539178914000, page='NextSong', song='AtrÃ\\x83Â©vete te te', numSong=7, numThumbsDown=0, numHelp=1, numAd=0, date='2018-10-10'),\n",
       " Row(ts=1539179153000, page='NextSong', song='Forever', numSong=8, numThumbsDown=0, numHelp=1, numAd=0, date='2018-10-10'),\n",
       " Row(ts=1539179510000, page='NextSong', song='My Automobile', numSong=9, numThumbsDown=0, numHelp=1, numAd=0, date='2018-10-10')]"
      ]
     },
     "execution_count": 97,
     "metadata": {},
     "output_type": "execute_result"
    }
   ],
   "source": [
    "get_date = udf(lambda x: str(datetime.datetime.fromtimestamp(x / 1000.0).date()))\n",
    "df = df.withColumn(\"date\",get_date(df.ts))"
   ]
  },
  {
   "cell_type": "code",
   "execution_count": 101,
   "metadata": {},
   "outputs": [],
   "source": [
    "windowall = Window.partitionBy(\"userId\",\"date\").orderBy(\"ts\").rangeBetween(Window.unboundedPreceding, Window.unboundedFollowing)\n",
    "df = df.withColumn(\"numSongPerDay\", Fsum(\"listen\").over(windowall))"
   ]
  },
  {
   "cell_type": "markdown",
   "metadata": {},
   "source": [
    "# Modeling\n",
    "Split the full dataset into train, test, and validation sets. Test out several of the machine learning methods you learned. Evaluate the accuracy of the various models, tuning parameters as necessary. Determine your winning model based on test accuracy and report results on the validation set. Since the churned users are a fairly small subset, I suggest using F1 score as the metric to optimize."
   ]
  },
  {
   "cell_type": "code",
   "execution_count": null,
   "metadata": {},
   "outputs": [],
   "source": []
  },
  {
   "cell_type": "markdown",
   "metadata": {},
   "source": [
    "# Final Steps\n",
    "Clean up your code, adding comments and renaming variables to make the code easier to read and maintain. Refer to the Spark Project Overview page and Data Scientist Capstone Project Rubric to make sure you are including all components of the capstone project and meet all expectations. Remember, this includes thorough documentation in a README file in a Github repository, as well as a web app or blog post."
   ]
  },
  {
   "cell_type": "code",
   "execution_count": null,
   "metadata": {},
   "outputs": [],
   "source": []
  }
 ],
 "metadata": {
  "kernelspec": {
   "display_name": "Python 3",
   "language": "python",
   "name": "python3"
  },
  "language_info": {
   "codemirror_mode": {
    "name": "ipython",
    "version": 3
   },
   "file_extension": ".py",
   "mimetype": "text/x-python",
   "name": "python",
   "nbconvert_exporter": "python",
   "pygments_lexer": "ipython3",
   "version": "3.6.3"
  }
 },
 "nbformat": 4,
 "nbformat_minor": 2
}
